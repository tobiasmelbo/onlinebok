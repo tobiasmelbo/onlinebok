{
 "cells": [
  {
   "cell_type": "markdown",
   "metadata": {},
   "source": [
    "(Matematikk)=\n",
    "# Matematikk 📕\n",
    "\n",
    "Matematikk og programmering utfyller hverandre på en fin måte. \n",
    "\n",
    "I ren matematikk jobber vi ofte med definisjonsspørsmål som \"Hva er en kvadratrot?\" Slike spørsmål er viktige og spennende, men jeg synes det er vel så spennende å stille spørsmål som \"Hvordan kan man regne ut en kvadratrot?\"\n",
    "\n",
    "Hvordan-spørsmål leder til algoritmer: Instruksjoner om hvordan man gjør ditt og datt. Disse instruksjonene kan ha hundrevis av steg før man kommer til et godt nok svar, og da er det lurt å kunne oversette instruksjonene til *kode* slik at datamaskinen kan gjøre det for oss.\n",
    "\n",
    "```{admonition} Til læreren 🧑‍🏫\n",
    ":class: note\n",
    "Her kan du velge og vrake prosjekter til din egen klasse.\n",
    "\n",
    "De første delkapitlene skal være mulig å bruke i alle mattefag på videregående.\n",
    "\n",
    "Det står spesifisert i tittelen på kapittelet hvis kapittelet krever andre forkunnskaper enn grunnskolen, som for eksempel derivasjon (T/R1) eller integrasjon (R2).\n",
    "```"
   ]
  }
 ],
 "metadata": {
  "language_info": {
   "name": "python"
  }
 },
 "nbformat": 4,
 "nbformat_minor": 2
}
