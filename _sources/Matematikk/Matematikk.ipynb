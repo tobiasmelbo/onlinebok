{
 "cells": [
  {
   "cell_type": "markdown",
   "metadata": {},
   "source": [
    "# Matematikk 📕\n",
    "\n",
    "Dette kapitlet inneholder temaer og oppgaver som kan være relevant for mange forskjellige mattefag.\n",
    " \n",
    "```{admonition} Til læreren 🧑‍🏫\n",
    ":class: note\n",
    "Det er lurt å ha vært gjennom {ref}`Grunnleggende Python` før man begynner her.\n",
    "```"
   ]
  }
 ],
 "metadata": {
  "language_info": {
   "name": "python"
  }
 },
 "nbformat": 4,
 "nbformat_minor": 2
}
