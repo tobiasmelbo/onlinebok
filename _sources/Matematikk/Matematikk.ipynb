{
 "cells": [
  {
   "cell_type": "markdown",
   "metadata": {},
   "source": [
    "# Matematikk 📕\n",
    "\n",
    "Matematikk og programmering utfyller hverandre på en vakker måte. Der matematikken ofte handler om *hva*, handler programmeringen ofte om *hvordan*.\n",
    "\n",
    "```{admonition} Eksempel: Kvadratrøtter\n",
    "Kvadratroten $\\sqrt{N}$ av et tall $N$ er det positive tallet som, ganget med seg selv, blir likt $N$.\n",
    "\n",
    "For eksempel er $\\sqrt{16}=4$ fordi $4\\cdot 4=16$.\n",
    "```\n",
    "\n",
    "Definisjonen over sier klart og tydelig *hva* en kvadratrot er... men den sier lite om *hvordan* man skal regne ut kvadratrøtter. Vi sitter igjen med spørsmålene *Hvordan regner man ut $\\sqrt{15}$ eller $\\sqrt{2}$*? \n",
    "\n",
    "For å svare på spørsmålet om *hvordan* trenger vi en **algoritme**. Disse algoritmene er ofte tidkrevende og kjedelig å gjøre for hånd, så derfor programmerer vi datamaskinen til å gjennomføre algoritmene for oss.\n",
    " \n",
    "```{admonition} Til læreren 🧑‍🏫\n",
    ":class: note\n",
    "Her kan du velge og vrake prosjekter til din egen klasse.\n",
    "\n",
    "De første delkapitlene skal være mulig å bruke i alle mattefag på videregående.\n",
    "\n",
    "Det står spesifisert i tittelen på kapittelet hvis kapittelet krever andre forkunnskaper enn grunnskolen, som for eksempel derivasjon (T/R1) eller integrasjon (R2).\n",
    "```"
   ]
  }
 ],
 "metadata": {
  "language_info": {
   "name": "python"
  }
 },
 "nbformat": 4,
 "nbformat_minor": 2
}
