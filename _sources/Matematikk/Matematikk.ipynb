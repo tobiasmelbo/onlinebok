{
 "cells": [
  {
   "cell_type": "markdown",
   "metadata": {},
   "source": [
    "# Matematikk 📕\n",
    "\n",
    "Matematikk og programmering utfyller hverandre på en vakker måte. Der matematikken ofte handler om *hva*, handler programmeringen ofte om *hvordan*. I tillegg kan datamaskinen regne mye raskere.\n",
    " \n",
    "```{admonition} Til læreren 🧑‍🏫\n",
    ":class: note\n",
    "Her kan du velge og vrake prosjekter til din egen klasse.\n",
    "\n",
    "De første delkapitlene skal være mulig å bruke i alle mattefag på videregående.\n",
    "\n",
    "Det står spesifisert i tittelen på kapittelet hvis kapittelet krever andre forkunnskaper enn grunnskolen, som for eksempel derivasjon (T/R1) eller integrasjon (R2).\n",
    "```"
   ]
  }
 ],
 "metadata": {
  "language_info": {
   "name": "python"
  }
 },
 "nbformat": 4,
 "nbformat_minor": 2
}
