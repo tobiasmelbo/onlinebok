{
 "cells": [
  {
   "cell_type": "markdown",
   "id": "24192508",
   "metadata": {},
   "source": [
    "### Reelle datasett: Derivasjon (R)\n"
   ]
  },
  {
   "cell_type": "code",
   "execution_count": null,
   "id": "bbe3949a",
   "metadata": {},
   "outputs": [],
   "source": []
  }
 ],
 "metadata": {
  "language_info": {
   "name": "python"
  }
 },
 "nbformat": 4,
 "nbformat_minor": 5
}
