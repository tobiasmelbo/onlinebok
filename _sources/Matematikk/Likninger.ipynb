{
 "cells": [
  {
   "cell_type": "markdown",
   "metadata": {},
   "source": [
    "### Likninger\n",
    "\n",
    "Visste du at man kan løse likninger og faktorisere i Python? CAS i GeoGebra er bare *så gammeldags* 🙄\n",
    " \n",
    "Vi kan løse likninger i Python ved å bruke pakken `sympy`. Den ligger installert hvis man bruker Spyder, men kan installeres ved å skrive `pip install sympy` i terminalvinduet."
   ]
  },
  {
   "cell_type": "markdown",
   "metadata": {},
   "source": [
    "#### Faktorisere uttrykk\n",
    "\n",
    "Vi kan enkelt faktorisere ulike uttrykk i Python med `sympy.factor()`.\n",
    "\n",
    "I programmet under faktoriserer vi uttrykket $x^2 - x - 2$."
   ]
  },
  {
   "cell_type": "code",
   "execution_count": 1,
   "metadata": {},
   "outputs": [
    {
     "name": "stdout",
     "output_type": "stream",
     "text": [
      "(x - 2)*(x + 1)\n"
     ]
    }
   ],
   "source": [
    "import sympy as sp\n",
    "\n",
    "# Definerer variabel\n",
    "x = sp.symbols(\"x\")\n",
    "\n",
    "# Faktoriserer uttrykk\n",
    "print(sp.factor(x**2 - x - 2))"
   ]
  },
  {
   "cell_type": "markdown",
   "metadata": {},
   "source": [
    "#### Løse likninger\n",
    "\n",
    "Vi skal finne nullpunktene til funksjonen $f(x)=x^2-5x+6$. \n",
    "\n",
    "Det er det samme som å løse likningen $x^2-5x+6=0$. Dette kan vi løse i Python."
   ]
  },
  {
   "cell_type": "code",
   "execution_count": 2,
   "metadata": {},
   "outputs": [
    {
     "name": "stdout",
     "output_type": "stream",
     "text": [
      "[2, 3]\n"
     ]
    }
   ],
   "source": [
    "import sympy as sp\n",
    "\n",
    "# Definerer variabelen\n",
    "x = sp.symbols(\"x\")\n",
    "\n",
    "# Definerer likningen\n",
    "eq = sp.Eq(x**2 - 5*x + 6, 0)\n",
    "\n",
    "# Finner løsning/løsninger\n",
    "svar = sp.solve(eq, x)\n",
    "\n",
    "print(svar)"
   ]
  },
  {
   "cell_type": "markdown",
   "metadata": {},
   "source": [
    "Vi finner altså nullpunktene ved $x=2$ og $x=3$. Det vil si at løsningsmengden til likningen $x^2-5x+6=0$ er $L=\\{2,3\\}$.\n",
    "\n",
    "````{admonition} Ingen løsning ❎\n",
    "type: note\n",
    "Du har sikkert hørt at noen likninger ikke har noen løsning, for eksempel likningen $x**2=-1$. Vi kan prøve å løse den i Python.\n",
    "\n",
    "```\n",
    "import sympy as sp\n",
    "\n",
    "x = sp.symbols(\"x\")\n",
    "eq = sp.Eq(x**2, -1)\n",
    "print(sp.solve(eq, x))\n",
    "```\n",
    "\n",
    "Da får vi ut \n",
    "\n",
    "```\n",
    "[-I, I]\n",
    "```\n",
    "\n",
    "Vi får altså to løsninger, $x=-i$ og $x=i$, men disse løsningene er ikke *reelle*. Siden vi bare jobber med reelle tall $\\mathbb{R}$ i Matematikk 1T, så gjelder ikke disse løsningene. Det vil altså si at $L=Ø$.\n",
    "\n",
    "For å bare få reelle løsninger kan vi heller bruke \n",
    "\n",
    "```\n",
    "import sympy as sp\n",
    "\n",
    "x = sp.symbols(\"x\")\n",
    "eq = sp.Eq(x**2, -1)\n",
    "print(sp.real_roots(eq, x))\n",
    "```\n",
    "\n",
    "Da får vi \n",
    "\n",
    "```\n",
    "[]\n",
    "```\n",
    "\n",
    "Altså at det ikke er noen reelle løsninger på likningen.\n",
    "````"
   ]
  },
  {
   "cell_type": "markdown",
   "metadata": {},
   "source": [
    "#### Likningssett\n",
    "\n",
    "Vi skal løse likningssettet\n",
    "\n",
    "$\n",
    "\\left\\{ \n",
    "    \\begin{array}{l}\n",
    "        2x-y=-6 &\\\\\n",
    "        x+y=0\n",
    "    \\end{array} \n",
    "\\right.\n",
    "$\n",
    "\n",
    "Vi kan enkelt definere variabler, likninger og få løsningene på denne måten."
   ]
  },
  {
   "cell_type": "code",
   "execution_count": 3,
   "metadata": {},
   "outputs": [
    {
     "name": "stdout",
     "output_type": "stream",
     "text": [
      "{x: -2, y: 2}\n"
     ]
    }
   ],
   "source": [
    "import sympy as sp\n",
    "\n",
    "# Definerer variabler\n",
    "x = sp.symbols(\"x\")\n",
    "y = sp.symbols(\"y\")\n",
    "\n",
    "# Definerer likninger\n",
    "eq1 = sp.Eq(2*x - y, -6)\n",
    "eq2 = sp.Eq(x + y, 0)\n",
    "\n",
    "# Finner løsning av likninger med hensyn på variabler\n",
    "svar = sp.solve([eq1, eq2], (x, y))\n",
    "\n",
    "print(svar)"
   ]
  },
  {
   "cell_type": "markdown",
   "metadata": {},
   "source": [
    "Vi får løsningene $x=-2$ og $y=2$. Programmet kan modifiseres ved å legge til flere likninger eller symboler om det trengs."
   ]
  }
 ],
 "metadata": {
  "kernelspec": {
   "display_name": "Python 3",
   "language": "python",
   "name": "python3"
  },
  "language_info": {
   "codemirror_mode": {
    "name": "ipython",
    "version": 3
   },
   "file_extension": ".py",
   "mimetype": "text/x-python",
   "name": "python",
   "nbconvert_exporter": "python",
   "pygments_lexer": "ipython3",
   "version": "3.10.7"
  }
 },
 "nbformat": 4,
 "nbformat_minor": 2
}
