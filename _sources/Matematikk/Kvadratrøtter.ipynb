{
 "cells": [
  {
   "cell_type": "markdown",
   "metadata": {},
   "source": [
    "### Kvadratrøtter\n",
    "\n",
    "<iframe width=\"560\" height=\"315\" src=\"https://www.youtube.com/embed/ToEfYkXW6Ds?si=rY3SGtFBDJZvxOoL\" title=\"YouTube video player\" frameborder=\"0\" allow=\"accelerometer; autoplay; clipboard-write; encrypted-media; gyroscope; picture-in-picture; web-share\" referrerpolicy=\"strict-origin-when-cross-origin\" allowfullscreen></iframe>\n",
    "\n",
    "Hva er kvadratroten av $16$? Jo, $4$, fordi $4\\cdot 4=16$. Da skriver vi $\\sqrt{16}=4$.\n",
    "\n",
    "```{admonition} Definisjon: Kvadratrot\n",
    ":class: note\n",
    "Kvadratroten av et tall $N$ er det positive tallet som ganget med seg selv gir $N$. Vi skriver det tallet som $\\sqrt{N}$.\n",
    "```\n",
    "\n",
    "... men hva er $\\sqrt{15}$ eller $\\sqrt{2}$?\n",
    "\n",
    "Definisjonen sier oss ingenting om hvordan vi regner ut disse røttene. Den sier oss **hva** en kvadratrot er, men ikke **hvordan** man regner de ut. \n",
    "\n",
    "For å svare på **hvordan** kan vi finne frem en algoritme som ble skrevet ned for $2000$ år siden av en fyr som het **Heron** (eller Hero).\n",
    "\n",
    "```{admonition} Herons algoritme\n",
    ":class: note\n",
    "Herons algoritme for å regne ut $\\sqrt{N}$:\n",
    "1. Gjett et tall i nærheten av det du tror kvadratroten er.\n",
    "2. Regn ut neste forslag med formelen $\\text{neste}=\\frac{1}{2}\\left( \\text{forrige} + \\frac{N}{forrige}\\right)$.\n",
    "3. Gjenta steg 2. til du er fornøyd.\n",
    "```"
   ]
  },
  {
   "cell_type": "markdown",
   "metadata": {},
   "source": [
    "#### Herons algoritme for hånd ✍️\n",
    "\n",
    "La oss regne ut en approksimasjon for $\\sqrt{2}$ med to iterasjoner av algoritmen.\n",
    "\n",
    "$$\\begin{align*}\n",
    "1.&\\quad 1 \\\\ \n",
    "2.&\\quad \\frac{1}{2}\\left( 1 + \\frac{2}{1}\\right)=\\frac{3}{2}=1.5\\\\\n",
    "3.&\\quad \\frac{1}{2}\\left( \\frac{3}{2} + \\frac{2}{\\frac{3}{2}} \\right)=\\frac{1}{2}\\left( \\frac{3}{2} + 2\\cdot \\frac{2}{3} \\right)=\\frac{1}{2}\\left( \\frac{9}{6} + \\frac{8}{6} \\right)=\\frac{17}{12}\\approx 1.42\n",
    "\\end{align*}$$\n",
    "\n",
    "```{admonition} Oppgave\n",
    ":class: task\n",
    "Regn ut approksimasjoner for kvadratrøttene med to iterasjoner av Herons algoritme. \n",
    "\n",
    "- $\\sqrt{3}$\n",
    "- $\\sqrt{5}$\n",
    "- $\\sqrt{15}$\n",
    "\n",
    "Sammenlikn svaret ditt med svaret fra en kalkulator.\n",
    "```\n",
    "\n",
    "Vi kan fortsette å regne så lenge vi ønsker og få en bedre og bedre approksimasjon, men det blir kanskje litt kjedelig. La oss overlate resten av regningen til datamaskinen, som klarer å regne tusenvis av steg på bare noen få millisekunder.\n",
    "\n",
    "Men, før datamaskinen kan regne ut kvadratrøtter, må vi oversette algoritmen til et språk som datamaskinen forstår -- vi må **programmere**."
   ]
  },
  {
   "cell_type": "markdown",
   "metadata": {},
   "source": [
    "#### Herons algoritme med Python 🐍\n",
    "\n",
    "Det er lett å finne kvadratrøtter ved å bruke `sqrt()`-funksjonen fra `math`-pakken."
   ]
  },
  {
   "cell_type": "code",
   "execution_count": 1,
   "metadata": {},
   "outputs": [
    {
     "name": "stdout",
     "output_type": "stream",
     "text": [
      "1.4142135623730951\n"
     ]
    }
   ],
   "source": [
    "from math import sqrt\n",
    "print(sqrt(2))"
   ]
  },
  {
   "cell_type": "markdown",
   "metadata": {},
   "source": [
    "Effektivt og enkelt, men det lærer oss ingenting om algoritmene som ligger under. `sqrt` blir en `black-box`, en funksjon vi putter ting inn i og får ting ut fra, men uten å vite hva som egentlig skjer inne i boksen.\n",
    "\n",
    "La oss lage vårt eget program som kjører Herons algoritme noen ganger.\n",
    "\n",
    "```{admonition} Prøv selv!\n",
    ":class: task\n",
    "\n",
    "Prøv å implementere Herons algoritme i Python selv!\n",
    "```"
   ]
  },
  {
   "cell_type": "code",
   "execution_count": 2,
   "metadata": {},
   "outputs": [
    {
     "name": "stdout",
     "output_type": "stream",
     "text": [
      "1.5\n",
      "1.4166666666666665\n",
      "1.4142156862745097\n",
      "1.4142135623746899\n"
     ]
    }
   ],
   "source": [
    "N = 2\n",
    "rot = 1\n",
    "for n in range(4):\n",
    "\trot = 0.5*(rot + N/rot)\n",
    "\tprint(rot)"
   ]
  },
  {
   "cell_type": "markdown",
   "metadata": {},
   "source": [
    "Vi ser at Heron's algoritme fort blir ganske sikker på desimalene, men i stedet for å kjøre algoritmen fast $4$ ganger, kan vi heller stoppe den når vi er fornøyd. \n",
    "\n",
    "Vi vet at algoritmen blir nærmere og nærmere den riktige verdien. Differansen mellom `neste` og `forrige` sier oss noe om hvor forskjellig den neste iterasjonen blir fra den forrige."
   ]
  },
  {
   "cell_type": "code",
   "execution_count": 3,
   "metadata": {},
   "outputs": [
    {
     "name": "stdout",
     "output_type": "stream",
     "text": [
      "1.5\n",
      "1.4166666666666665\n",
      "1.4142156862745097\n",
      "1.4142135623746899\n",
      "1.414213562373095\n"
     ]
    }
   ],
   "source": [
    "N = 2\n",
    "forrige = 1\n",
    "neste = 0.5*(forrige + N/forrige)\n",
    "print(neste)\n",
    "while abs(neste - forrige) > 0.000001:\n",
    "\tforrige = neste\n",
    "\tneste = 0.5*(forrige + N/forrige)\n",
    "\tprint(neste)"
   ]
  },
  {
   "cell_type": "markdown",
   "metadata": {},
   "source": [
    "Flott! Nå gjenstår det bare å tilpasse `while`-løkken med en enda mindre verdi `1e-15`, pakke alt inn i en funksjon, og bare skrive ut den siste verdien vi regner ut."
   ]
  },
  {
   "cell_type": "code",
   "execution_count": null,
   "metadata": {},
   "outputs": [],
   "source": [
    "def sqrt(N):\n",
    "\tforrige = 1\n",
    "\tneste = 0.5*(forrige + N/forrige)\n",
    "\twhile abs(neste - forrige) > 1e-15:\n",
    "\t\tforrige = neste\n",
    "\t\tneste = 0.5*(forrige + N/forrige)\n",
    "\treturn neste\n",
    "\n",
    "print(sqrt(2))"
   ]
  },
  {
   "cell_type": "markdown",
   "metadata": {},
   "source": [
    "Nå har vi vår egen implementasjon av `sqrt()`-funksjonen. Rått! 🤓"
   ]
  },
  {
   "cell_type": "markdown",
   "metadata": {},
   "source": [
    "---\n",
    "\n",
    "#### Oppgaver\n",
    "\n",
    "> Ta gjerne utgangspunkt i det siste eksempelet når du gjør disse oppgavene.\n",
    "\n",
    "```{admonition} Oppgave 1 #️⃣\n",
    ":class: task\n",
    "\n",
    "Utvid programmet til å skrive ut hvor mange iterasjoner algoritmen har regnet.\n",
    "```\n",
    "\n",
    "```{admonition} Oppgave 2 ⁉️\n",
    ":class: task\n",
    "\n",
    "Programmet vårt reagerer litt rart på noen ting.\n",
    "- Hva skjer når man kjører programmet vårt med $0$? \n",
    "- Hva skjer når man kjører programmet vårt med et negativt tall?\n",
    "\n",
    "Fiks programmet med `if`-setninger slik at:\n",
    "1. Kvadratroten av `0` blir nøyaktig lik `0`.\n",
    "2. Programmet skriver ut `Kan ikke ta kvadratroten av et negativt tall!` når man skriver inn et negativt tall.\n",
    "```\n",
    "\n",
    "```{admonition} Oppgave 3 1️⃣\n",
    ":class: task\n",
    "\n",
    "Undersøk hvor viktig den første gjetningen er ved å... \n",
    "\n",
    "1. ... ta kvadratroten av et veldig stort tall\n",
    "2. ... gjøre forskjellige første gjetninger \n",
    "3. ... se hvor mange iterasjoner algoritmen har måtte regne for å komme frem til et svar\n",
    "\n",
    "Hva tenker du er en god første gjetning? Kanskje $\\frac{N}{2}$, eller $\\frac{N}{10}$? Eller kanskje det ikke har så mye å si?\n",
    "```"
   ]
  }
 ],
 "metadata": {
  "kernelspec": {
   "display_name": "Python 3",
   "language": "python",
   "name": "python3"
  },
  "language_info": {
   "codemirror_mode": {
    "name": "ipython",
    "version": 3
   },
   "file_extension": ".py",
   "mimetype": "text/x-python",
   "name": "python",
   "nbconvert_exporter": "python",
   "pygments_lexer": "ipython3",
   "version": "3.10.7"
  }
 },
 "nbformat": 4,
 "nbformat_minor": 2
}
