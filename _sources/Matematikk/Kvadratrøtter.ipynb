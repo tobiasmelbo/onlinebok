{
 "cells": [
  {
   "cell_type": "markdown",
   "metadata": {},
   "source": [
    "### Kvadratrøtter\n",
    "Hva er kvadratroten av $16$? Det er selvfølgelig $4$ fordi $4\\cdot 4=16$. Da skriver vi $\\sqrt{16}=4$.\n",
    "\n",
    "```{admonition} Definisjon: Kvadratrot\n",
    ":class: note\n",
    "Kvadratroten av et tall $N$ er det positive tallet som ganget med seg selv gir $N$. Vi skriver det tallet som $\\sqrt{N}$.\n",
    "```\n",
    "\n",
    "... men hva er $\\sqrt{15}$ eller $\\sqrt{2}$?\n",
    "\n",
    "Definisjonen sier oss ingenting om hvordan vi regner ut disse røttene. Den sier oss **hva** en kvadratrot er, men ikke **hvordan** man regner de ut. \n",
    "\n",
    "For å svare på **hvordan** kan vi finne frem en algoritme som ble skrevet ned for $2000$ år siden av en fyr som het **Heron** (eller Hero).\n",
    "\n",
    "```{admonition} Herons algoritme\n",
    ":class: note\n",
    "Herons algoritme for å regne ut $\\sqrt{N}$:\n",
    "1. Gjett et tall i nærheten av det du tror kvadratroten er.\n",
    "2. Regn ut neste forslag med formelen $\\text{neste}=\\frac{1}{2}\\left( \\text{forrige} + \\frac{N}{forrige}\\right)$.\n",
    "3. Gjenta steg 2. til du er fornøyd.\n",
    "```"
   ]
  },
  {
   "cell_type": "markdown",
   "metadata": {},
   "source": [
    "#### Herons algoritme for hånd ✍️\n",
    "\n",
    "La oss regne ut en approksimasjon for $\\sqrt{2}$ med to iterasjoner av algoritmen.\n",
    "\n",
    "$$\\begin{align*}\n",
    "1.&\\quad 1 \\\\ \n",
    "2.&\\quad \\frac{1}{2}\\left( 1 + \\frac{2}{1}\\right)=\\frac{3}{2}=1.5\\\\\n",
    "3.&\\quad \\frac{1}{2}\\left( \\frac{3}{2} + \\frac{2}{\\frac{3}{2}} \\right)=\\frac{1}{2}\\left( \\frac{3}{2} + 2\\cdot \\frac{2}{3} \\right)=\\frac{1}{2}\\left( \\frac{9}{6} + \\frac{8}{6} \\right)=\\frac{17}{12}\\approx 1.42\n",
    "\\end{align*}$$\n",
    "\n",
    "```{admonition} Oppgave\n",
    ":class: task\n",
    "Regn ut approksimasjoner for kvadratrøttene med to iterasjoner av Herons algoritme. \n",
    "\n",
    "- $\\sqrt{3}$\n",
    "- $\\sqrt{5}$\n",
    "- $\\sqrt{15}$\n",
    "\n",
    "Sammenlikn svaret ditt med svaret fra en kalkulator.\n",
    "```\n",
    "\n",
    "Vi kan fortsette å regne så lenge vi ønsker og få en bedre og bedre approksimasjon, men det blir kanskje litt kjedelig. La oss overlate resten av regningen til datamaskinen, som klarer å regne tusenvis av steg på bare noen få millisekunder.\n",
    "\n",
    "Før datamaskinen kan regne ut kvadratrøtter, må vi oversette algoritmen til noe datamaskinen forstår -- vi må **programmere**."
   ]
  },
  {
   "cell_type": "markdown",
   "metadata": {},
   "source": [
    "#### Herons algoritme med Python 🐍"
   ]
  },
  {
   "cell_type": "markdown",
   "metadata": {},
   "source": [
    "---\n",
    "\n",
    "#### Oppgaver\n",
    "\n",
    "##### Oppgave\n",
    "\n",
    "ide? flippe formelen? blir kanskje noe diff-likning typ eller?"
   ]
  }
 ],
 "metadata": {
  "language_info": {
   "name": "python"
  }
 },
 "nbformat": 4,
 "nbformat_minor": 2
}
