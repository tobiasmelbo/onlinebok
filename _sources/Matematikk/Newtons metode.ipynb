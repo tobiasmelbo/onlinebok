{
 "cells": [
  {
   "cell_type": "code",
   "execution_count": 1,
   "metadata": {
    "tags": [
     "remove_cell"
    ]
   },
   "outputs": [],
   "source": [
    "import numpy as np\n",
    "import catppuccin\n",
    "import matplotlib\n",
    "import matplotlib.pyplot as plt\n",
    "matplotlib.style.use(catppuccin.PALETTE.latte.identifier)"
   ]
  },
  {
   "cell_type": "markdown",
   "metadata": {},
   "source": [
    "### Newtons metode (R)\n",
    "\n",
    "> Du bør være kjent med {ref}`Numerisk derivasjon` før du starter her.\n",
    "\n",
    "Newtons metode er en algoritme som *kan* finne nullpunkter for en funksjon. \n",
    "\n",
    "```{admonition} Påminnelse: Finner vi nullpunkter, kan vi også løse likninger!\n",
    ":class: hint, dropdown\n",
    "\n",
    "La oss si at vi har en likning \n",
    "\n",
    "$x^2 = 3x - 2$\n",
    "\n",
    "For å løse denne likningen kan vi enkelt skrive den om til \n",
    "\n",
    "$x^2 - 3x + 2 = 0$\n",
    "\n",
    "Deretter kan vi løse likningen ved å finne nullpunktene til funksjonen $f(x)=x^2 - 3x + 2$\n",
    "\n",
    "Dersom vi kan finne nullpunkter, kan vi også løse likninger.\n",
    "```\n",
    "\n",
    "```{admonition} Newtons metode\n",
    ":class: note\n",
    "\n",
    "Hvis man velger et punkt $x_0$ i nærheten av nullpunktet til $f(x)$, vil en bedre approksimasjon være gitt ved \n",
    "\n",
    "$$x_{n+1}=x_n - \\frac{f(x_n)}{f'(x_n)}$$\n",
    "```\n",
    "\n",
    "Merk deg: **Algoritmen finner bare ett nullpunkt om gangen**.\n",
    "\n",
    "#### Newtons metode for hånd\n",
    "\n",
    "Prinsippet bak metoden er å gjette en verdi $x_0$ for nullpunktet, så finne nullpunktet $x_1$ til tangenten. Dette nullpunktet er som regel nærmere nullpunktet til funksjonen enn den forrige verdien. Gjentar vi dette så får vi en bedre og bedre approksimasjon.\n",
    "\n",
    "La oss utlede formelen. Hvis vi starter med en verdi $x_n$ får vi at stigningstallet til tangenten blir $f'(x_n)=\\frac{f(x_n) - 0}{x_n-x_{n+1}}$.\n",
    "\n",
    "Dette kan vi skrive om til formelen \n",
    "\n",
    "$x_{n+1}=x_n - \\frac{f(x_n)}{f'(x_n)}$.\n",
    "\n",
    "La oss prøve dette på en funksjon $f(x)=x^2-2$. Jeg gjetter at det første nullpunktet er i nærheten av $1$. Vi kan også finne at $f'(x)=2x$.\n",
    "\n",
    "Den første iterasjonen blir: \n",
    "\n",
    "$x_1 = x_0 - \\frac{f(x_0)}{f'(x_0)}=  1 - \\frac{f(1)}{f'(1)} = 1 - \\frac{(1^2-2)}{2\\cdot 1} = 1 - \\frac{-1}{2} = \\frac{3}{2} = 1.5$\n",
    "\n",
    "Den andre iterasjonen blir: \n",
    "\n",
    "$x_2 = x_1 - \\frac{f(x_1)}{f'(x_1)} = \\frac{3}{2} - \\frac{f(\\frac{3}{2})}{f'(\\frac{3}{2})} = \\frac{17}{12} \\approx 1.4166...$\n",
    "\n",
    "#### Newtons metode med Python\n",
    "\n",
    "La oss først se på en implementasjon av Newtons metode når vi har den deriverte funksjonen $f'(x)$."
   ]
  },
  {
   "cell_type": "code",
   "execution_count": 2,
   "metadata": {},
   "outputs": [
    {
     "name": "stdout",
     "output_type": "stream",
     "text": [
      "1.5\n",
      "1.4166666666666667\n",
      "1.4142156862745099\n",
      "1.4142135623746899\n",
      "1.4142135623730951\n"
     ]
    }
   ],
   "source": [
    "def f(x):\n",
    "    return x**2 - 2\n",
    "\n",
    "def df(x):\n",
    "    return 2*x\n",
    "\n",
    "x = 1\n",
    "for n in range(5):\n",
    "    x = x - f(x)/df(x)\n",
    "    print(x)"
   ]
  },
  {
   "cell_type": "markdown",
   "metadata": {},
   "source": [
    "Ganske greit, hva? Okei. Det er ikke alltid at vi klarer å finne den deriverte funksjonen. Da må vi bruke numerisk derivasjon. La oss implementere dette også."
   ]
  },
  {
   "cell_type": "code",
   "execution_count": 3,
   "metadata": {},
   "outputs": [
    {
     "name": "stdout",
     "output_type": "stream",
     "text": [
      "1.5000000030387355\n",
      "1.4166666661602108\n",
      "1.4142156862852249\n",
      "1.4142135623746772\n",
      "1.414213562373095\n"
     ]
    }
   ],
   "source": [
    "def f(x):\n",
    "    return x**2 - 2\n",
    "\n",
    "# Numerisk derivasjon med fremoverdifferanse\n",
    "def df(x):\n",
    "    dx = 1e-8\n",
    "    return (f(x + dx) - f(x))/(dx)\n",
    "\n",
    "x = 1\n",
    "for n in range(5):\n",
    "    x = x - f(x)/df(x)\n",
    "    print(x)"
   ]
  },
  {
   "cell_type": "markdown",
   "metadata": {},
   "source": [
    "Nice! Da trenger vi ikke å derivere funksjonen vi jobber med for hånd.\n",
    "\n",
    "La oss se på en siste versjon hvor vi bruker en while-løkke for å stoppe når vi har fått en ønsket nøyaktighet."
   ]
  },
  {
   "cell_type": "code",
   "execution_count": 18,
   "metadata": {},
   "outputs": [
    {
     "name": "stdout",
     "output_type": "stream",
     "text": [
      "1.5000000030387355\n",
      "1.4166666661602108\n",
      "1.4142156862852249\n",
      "1.4142135623746772\n",
      "1.414213562373095\n"
     ]
    }
   ],
   "source": [
    "def f(x):\n",
    "    return x**2 - 2\n",
    "\n",
    "# Numerisk derivasjon med fremoverdifferanse\n",
    "def df(x):\n",
    "    dx = 1e-8\n",
    "    return (f(x + dx) - f(x))/(dx)\n",
    "\n",
    "forrige = 1\n",
    "neste = forrige - f(forrige)/df(forrige)\n",
    "print(neste)\n",
    "\n",
    "while abs(neste - forrige) > 1e-8:\n",
    "    forrige = neste\n",
    "    neste = forrige - f(forrige)/df(forrige)\n",
    "    print(neste)"
   ]
  },
  {
   "cell_type": "markdown",
   "metadata": {},
   "source": [
    "---\n",
    "\n",
    "#### Oppgaver\n",
    "\n",
    "````{admonition} Oppgave 1\n",
    ":class: task\n",
    "\n",
    "(For hånd) Finn en approksimasjon for et nullpunkt med to iterasjoner av Newtons metode (til $x_2$). Sammenlikn med en eksakt løsning.\n",
    "\n",
    "1. $f(x)=x^2-4$ med $x_0 = 1$\n",
    "2. $f(x)=x^2-4$ med $x_0 = -1$\n",
    "\n",
    "Har du funnet alle nullpunktene til funksjonen $f(x)=x^2 - 4$?\n",
    "````\n",
    "\n",
    "\n",
    "```{admonition} Oppgave 2\n",
    ":class: task\n",
    "\n",
    "Bruk Newtons metode i Python til å finne nullpunktet til $f(x)=e^x - 2$.\n",
    "\n",
    "1. Hvilken verdi er det du egentlig har funnet en approksimasjon for?\n",
    "2. Finn en approksimasjon for $ln(3)$ og $ln(5)$ ved å bruke programmet ditt.\n",
    "```\n",
    "\n",
    "```{admonition} Oppgave 3\n",
    ":class: task\n",
    "\n",
    "Forklar at du bruke Newton's metode til å finne approksimere kvadratroten $\\sqrt{N}$ av et hvilket som helst positivt tall $N$.\n",
    "\n",
    "Bonus: Vis at dette er ekvivalent med Herons metode (se: {ref}`Kvadratrøtter`)\n",
    "```"
   ]
  }
 ],
 "metadata": {
  "kernelspec": {
   "display_name": "Python 3",
   "language": "python",
   "name": "python3"
  },
  "language_info": {
   "codemirror_mode": {
    "name": "ipython",
    "version": 3
   },
   "file_extension": ".py",
   "mimetype": "text/x-python",
   "name": "python",
   "nbconvert_exporter": "python",
   "pygments_lexer": "ipython3",
   "version": "3.12.4"
  }
 },
 "nbformat": 4,
 "nbformat_minor": 2
}
