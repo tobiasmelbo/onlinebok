{
 "cells": [
  {
   "cell_type": "markdown",
   "metadata": {},
   "source": [
    "### Trigonometri\n",
    "\n",
    "*Trigonometri i Python? Tobias, du capper... du kan ikke mene det?*\n",
    "\n",
    "Jo. La oss se på hvordan vi kan løse trigonometriske likninger med Python, både numerisk og symbolsk."
   ]
  }
 ],
 "metadata": {
  "language_info": {
   "name": "python"
  }
 },
 "nbformat": 4,
 "nbformat_minor": 2
}
