{
 "cells": [
  {
   "cell_type": "markdown",
   "metadata": {},
   "source": [
    "### Strings\n",
    "\n",
    "En string er en datatype som samler symboler i en rekkefølge. \n",
    "\n",
    "I denne delen skal vi fikse og trikse på strings."
   ]
  },
  {
   "cell_type": "markdown",
   "metadata": {},
   "source": [
    "#### Legge til og repetere\n",
    "\n",
    "Vi kan legge sammen strings ved a plusse `+`."
   ]
  },
  {
   "cell_type": "code",
   "execution_count": 1,
   "metadata": {},
   "outputs": [
    {
     "name": "stdout",
     "output_type": "stream",
     "text": [
      "💜🐍\n"
     ]
    }
   ],
   "source": [
    "a = \"💜\"\n",
    "b = \"🐍\"\n",
    "\n",
    "print(a + b)"
   ]
  },
  {
   "cell_type": "markdown",
   "metadata": {},
   "source": [
    "Vi kan repetere strings ved å gange."
   ]
  },
  {
   "cell_type": "code",
   "execution_count": 2,
   "metadata": {},
   "outputs": [
    {
     "name": "stdout",
     "output_type": "stream",
     "text": [
      "🐍🐍🐍🐍🐍🐍🐍🐍🐍🐍🐍🐍🐍🐍🐍🐍🐍🐍🐍🐍🐍🐍🐍🐍🐍🐍🐍🐍🐍🐍\n"
     ]
    }
   ],
   "source": [
    "print(\"🐍\" * 30)"
   ]
  },
  {
   "cell_type": "markdown",
   "metadata": {},
   "source": [
    "#### Indeksering og løkker\n",
    "\n",
    "Vi kan indeksere i en string akkurat som i en liste."
   ]
  },
  {
   "cell_type": "code",
   "execution_count": 3,
   "metadata": {},
   "outputs": [
    {
     "name": "stdout",
     "output_type": "stream",
     "text": [
      "😌\n",
      "😍\n"
     ]
    }
   ],
   "source": [
    "tekst = \"😌🙂😍\"\n",
    "\n",
    "print(tekst[0])\n",
    "print(tekst[2])"
   ]
  },
  {
   "cell_type": "markdown",
   "metadata": {},
   "source": [
    "Vi kan også kjøre gjennom strings med for-løkker."
   ]
  },
  {
   "cell_type": "code",
   "execution_count": 4,
   "metadata": {},
   "outputs": [
    {
     "name": "stdout",
     "output_type": "stream",
     "text": [
      "0 😌\n",
      "1 🙂\n",
      "2 😍\n"
     ]
    }
   ],
   "source": [
    "tekst = \"😌🙂😍\"\n",
    "\n",
    "for n in range(len(tekst)):\n",
    "    print(n, tekst[n])"
   ]
  },
  {
   "cell_type": "markdown",
   "metadata": {},
   "source": [
    "Hvis vi ikke er interessert i indeksene kan vi bruke følgende for-løkke."
   ]
  },
  {
   "cell_type": "code",
   "execution_count": 5,
   "metadata": {},
   "outputs": [
    {
     "name": "stdout",
     "output_type": "stream",
     "text": [
      "😌\n",
      "🙂\n",
      "😍\n"
     ]
    }
   ],
   "source": [
    "tekst = \"😌🙂😍\"\n",
    "\n",
    "for x in tekst:\n",
    "    print(x)"
   ]
  },
  {
   "cell_type": "markdown",
   "metadata": {},
   "source": [
    "Her vil `x` være hvert enkelt symbol i teksten."
   ]
  },
  {
   "cell_type": "markdown",
   "metadata": {},
   "source": [
    "#### `string.upper()` og `string.lower()`\n",
    "\n",
    "Vi kan få en ny string som bare har store eller små bokstaver med `upper()`- eller `lower()`-metoden."
   ]
  },
  {
   "cell_type": "code",
   "execution_count": 6,
   "metadata": {},
   "outputs": [
    {
     "name": "stdout",
     "output_type": "stream",
     "text": [
      "JEG ELSKER PYTHON 🐍\n",
      "jeg elsker python 🐍\n"
     ]
    }
   ],
   "source": [
    "tekst = \"Jeg elsker Python 🐍\"\n",
    "print(tekst.upper())\n",
    "print(tekst.lower())"
   ]
  },
  {
   "cell_type": "markdown",
   "metadata": {},
   "source": [
    "Dette er nyttig når man håndterer tekst, for eksempel fra en `input()` eller en fil."
   ]
  },
  {
   "cell_type": "markdown",
   "metadata": {},
   "source": [
    "```\n",
    "svar = input(\"Svar:\")\n",
    "if svar.lower() == \"ja\":\n",
    "    print(\"👍\")\n",
    "else:\n",
    "    print(\"👎\")\n",
    "```"
   ]
  },
  {
   "cell_type": "markdown",
   "metadata": {},
   "source": [
    "Programmet vil skrive ut `\"👍\"` uansett om svaret er `\"ja\"`, `\"Ja\"`, `\"JA\"` eller `\"jA\"`."
   ]
  },
  {
   "cell_type": "markdown",
   "metadata": {},
   "source": [
    "#### `string.replace()`\n",
    "\n",
    "Vi kan få en ny string hvor tegn eller deler av en string er fjernet eller erstattet ved å bruke `replace()`-metoden for strings."
   ]
  },
  {
   "cell_type": "code",
   "execution_count": 7,
   "metadata": {},
   "outputs": [
    {
     "name": "stdout",
     "output_type": "stream",
     "text": [
      "Jeg elsker Python! 🐍 -> JegelskerPython!🐍\n",
      "Jeg elsker Python! 🐍 -> Du elsker Python! 🐍\n",
      "Jeg elsker Python! 🐍 -> Jeg elsker Python? 🐍\n"
     ]
    }
   ],
   "source": [
    "tekst = \"Jeg elsker Python! 🐍\"\n",
    "\n",
    "print(tekst, \"->\", tekst.replace(\" \", \"\"))     # Erstatter mellomrom \" \" med \"\" (ingenting).\n",
    "print(tekst, \"->\", tekst.replace(\"Jeg\", \"Du\")) # Erstatter \"Jeg\" med \"Du\" \n",
    "print(tekst, \"->\", tekst.replace(\"!\", \"?\"))     # Erstatter \"!\" med \"\" (ingenting)"
   ]
  },
  {
   "cell_type": "markdown",
   "metadata": {},
   "source": [
    "#### `string.split()`\n",
    "\n",
    "Med `split()`-metoden kan vi dele opp en string på et eller flere tegn. Da får vi en liste over hver del."
   ]
  },
  {
   "cell_type": "code",
   "execution_count": 8,
   "metadata": {},
   "outputs": [
    {
     "name": "stdout",
     "output_type": "stream",
     "text": [
      "['Hei,', 'jeg', 'heter', 'Tobias', 'og', 'elsker', 'Python!']\n",
      "['Hydrogen', 'H', '[1]', 'Gass']\n"
     ]
    }
   ],
   "source": [
    "tekst1 = \"Hei, jeg heter Tobias og elsker Python!\"\n",
    "tekst2 = \"Hydrogen,H,[1],Gass\"\n",
    "\n",
    "print(tekst1.split(\" \")) # Splitter på mellomrom\n",
    "print(tekst2.split(\",\")) # Splitter på komma"
   ]
  },
  {
   "cell_type": "markdown",
   "metadata": {},
   "source": [
    "På denne måten kan vi finne ord i en tekst eller dele opp data fra en datafil."
   ]
  },
  {
   "cell_type": "markdown",
   "metadata": {},
   "source": [
    "#### `string.strip()`\n",
    "\n",
    "Noen ganger ønsker vi å fjerne spesifikke tegn fra starten og slutten av en string. \n",
    "\n",
    "Uten argumenter fjerner `strip()` mellomrom og `\\n`-tegn fra starten og slutten av en string."
   ]
  },
  {
   "cell_type": "code",
   "execution_count": 9,
   "metadata": {},
   "outputs": [
    {
     "name": "stdout",
     "output_type": "stream",
     "text": [
      "    Hei på deg    \n",
      "Hei på deg\n"
     ]
    }
   ],
   "source": [
    "tekst = \"    Hei på deg    \"\n",
    "\n",
    "print(tekst)\n",
    "print(tekst.strip())"
   ]
  },
  {
   "cell_type": "markdown",
   "metadata": {},
   "source": [
    "Tekst fra filer har ofte `\\n`-tegn for å markere en ny linje. Disse ønsker vi ofte å fjerne."
   ]
  },
  {
   "cell_type": "code",
   "execution_count": 10,
   "metadata": {},
   "outputs": [
    {
     "name": "stdout",
     "output_type": "stream",
     "text": [
      "Hei!\n",
      "Jeg heter Arnhild og dette er min blogg om sopp 🍄\n",
      "Kontakt meg på arnhild@soppbloggen.no\n"
     ]
    }
   ],
   "source": [
    "linjer = [\"Hei! \\n\", \n",
    "          \"Jeg heter Arnhild og dette er min blogg om sopp 🍄 \\n\",\n",
    "          \"Kontakt meg på arnhild@soppbloggen.no \\n\"]\n",
    "\n",
    "for x in linjer:\n",
    "    print(x.strip()) # Fjerner \\n og mellomrom fra hver string i listen"
   ]
  },
  {
   "cell_type": "markdown",
   "metadata": {},
   "source": [
    "Vi kan også velge hvilke tegn vi ønsker å fjerne fra starten og slutten av en string ved å sette det i et argument til metoden."
   ]
  },
  {
   "cell_type": "code",
   "execution_count": 11,
   "metadata": {},
   "outputs": [
    {
     "name": "stdout",
     "output_type": "stream",
     "text": [
      "Python, et vakkert språk\n"
     ]
    }
   ],
   "source": [
    "tekst = \"    ...Python, et vakkert språk...    \"\n",
    "\n",
    "print(tekst.strip(\" .\"))"
   ]
  },
  {
   "cell_type": "markdown",
   "metadata": {},
   "source": [
    "````{admonition} Argumentet til strip\n",
    ":class: note\n",
    "Legg merke til at argumentet `\" .\"` ikke fjerner *substrings* `\" .\"`, men spesifiserer hvilke tegn som skal fjernes. Det vil si mellomrom `\" \"`og punktum `\".\"`. \n",
    "\n",
    "Ønsker vi å fjerne `\"a\"`, `\"b\"` og `\"c\"` kan vi skrive `strip(\"abc\")`.\n",
    "\n",
    "```\n",
    "tekst = \"aababacacacacababaca🐍acacacacbcbabcbacbabc\"\n",
    "print(tekst.strip(\"abc\"))\n",
    "```\n",
    "\n",
    "Gir oss bare `\"🐍\"`.\n",
    "````"
   ]
  },
  {
   "cell_type": "markdown",
   "metadata": {},
   "source": [
    "````{admonition} Metode-chaining 🔗\n",
    ":class: hint\n",
    "\n",
    "Vi kan gjøre flere string-metoder etter hverandre ved å skrive de etter hverandre.\n",
    "\n",
    "```\n",
    "tekst = \"Ph'nglui mglw'nafh Cthulhu R'lyeh wgah'nagl fhtagn\"\n",
    "\n",
    "print(tekst.replace(\"'\", \"\").upper())\n",
    "```\n",
    "\n",
    "Her fjernes alle tegn `'` før hele teksten konverteres til uppercase.\n",
    "\n",
    "Vi får ut `PHNGLUI MGLWNAFH CTHULHU RLYEH WGAHNAGL FHTAGN`\n",
    "````"
   ]
  },
  {
   "cell_type": "markdown",
   "metadata": {},
   "source": [
    "````{admonition} Hvordan ser stringen *faktisk* ut?\n",
    ":class: hint\n",
    "\n",
    "Når man bruker `print()` så skrives ikke stringen ut sånn som den er.\n",
    "\n",
    "```\n",
    "tekst = \"Hei! \\n Jeg heter Arnhild og dette er min blogg om sopp 🍄 \\n Kontakt meg på arnhild@soppbloggen.no\"\n",
    "print(tekst)\n",
    "```\n",
    "\n",
    "Koden over vil skrive ut følgende:\n",
    "\n",
    "```\n",
    "Hei! \n",
    "Jeg heter Arnhild og dette er min blogg om sopp 🍄 \n",
    "Kontakt meg på arnhild@soppbloggen.no\n",
    "```\n",
    "\n",
    "Dersom vi ønsker å se stringen sånn den faktisk er kan vi bruke `repr()`-funksjonen.\n",
    "\n",
    "```\n",
    "tekst = \"Hei! \\n Jeg heter Arnhild og dette er min blogg om sopp 🍄 \\n Kontakt meg på arnhild@soppbloggen.no\"\n",
    "print(repr(tekst))\n",
    "```\n",
    "\n",
    "Som gir: \n",
    "\n",
    "```\n",
    "Hei! \\n Jeg heter Arnhild og dette er min blogg om sopp 🍄 \\n Kontakt meg på arnhild@soppbloggen.no\n",
    "```\n",
    "\n",
    "````"
   ]
  },
  {
   "cell_type": "markdown",
   "metadata": {},
   "source": [
    "(Formatering med f-strings)=\n",
    "### Formatering med f-strings\n",
    "\n",
    "Du er sikkert kjent med at man kan sette inn Pythonske uttrykk i strings ved å bruke f-string-formatering."
   ]
  },
  {
   "cell_type": "code",
   "execution_count": 12,
   "metadata": {},
   "outputs": [
    {
     "name": "stdout",
     "output_type": "stream",
     "text": [
      "3 ganger 2 blir 5\n"
     ]
    }
   ],
   "source": [
    "a = 3\n",
    "b = 2\n",
    "\n",
    "print(f\"{a} ganger {b} blir {a + b}\")"
   ]
  },
  {
   "cell_type": "markdown",
   "metadata": {},
   "source": [
    "Her kommer det en del ekstra triks med f-strings som gjør at du kan lage helt sykt kule utskrifter i terminalen."
   ]
  },
  {
   "cell_type": "markdown",
   "metadata": {},
   "source": [
    "#### Avrunding\n",
    "\n",
    "Vi kan runde av tall ved å bruke `:` etterfulgt av `.2f`, der tallet står for antall desimaler."
   ]
  },
  {
   "cell_type": "code",
   "execution_count": 13,
   "metadata": {},
   "outputs": [
    {
     "name": "stdout",
     "output_type": "stream",
     "text": [
      "Areal (to desimaler): 12.57\n",
      "Areal (fem desimaler): 12.56637\n"
     ]
    }
   ],
   "source": [
    "from math import pi\n",
    "\n",
    "r = 2\n",
    "\n",
    "print(f\"Areal (to desimaler): {pi * r**2:.2f}\")\n",
    "print(f\"Areal (fem desimaler): {pi * r**2:.5f}\")"
   ]
  },
  {
   "cell_type": "markdown",
   "metadata": {},
   "source": [
    "#### Store og små tall\n",
    "\n",
    "For store tall kan man spesifisere `,` som et skille for tusen-plassene."
   ]
  },
  {
   "cell_type": "code",
   "execution_count": 14,
   "metadata": {},
   "outputs": [
    {
     "name": "stdout",
     "output_type": "stream",
     "text": [
      "Med , som skille: 1,234,567.891011 kr\n",
      "Med , som skille og to desimaler: 1,234,567.89 kr\n"
     ]
    }
   ],
   "source": [
    "lønn = 1234567.891011\n",
    "\n",
    "print(f\"Med , som skille: {lønn:,} kr\")\n",
    "print(f\"Med , som skille og to desimaler: {lønn:,.2f} kr\")"
   ]
  },
  {
   "cell_type": "markdown",
   "metadata": {},
   "source": [
    "Man kan også bruke skrive ut med `e`-notasjon, som gir svaret på standardform."
   ]
  },
  {
   "cell_type": "code",
   "execution_count": 15,
   "metadata": {},
   "outputs": [
    {
     "name": "stdout",
     "output_type": "stream",
     "text": [
      "En astronomisk enhet er definert som 149597870700 meter.\n",
      "Standardform: 1.495979e+11 meter\n",
      "Standardform med to desimaler: 1.50e+11 meter.\n"
     ]
    }
   ],
   "source": [
    "AU = 149_597_870_700\n",
    "\n",
    "print(f\"En astronomisk enhet er definert som {AU} meter.\")\n",
    "print(f\"Standardform: {AU:e} meter\")\n",
    "print(f\"Standardform med to desimaler: {AU:.2e} meter.\")"
   ]
  },
  {
   "cell_type": "markdown",
   "metadata": {},
   "source": [
    "#### Plassering\n",
    "\n",
    "Vi kan sette av ekstra plass til uttrykket som skal settes inn ved å bruke `:` etterfulgt av et tall."
   ]
  },
  {
   "cell_type": "code",
   "execution_count": 16,
   "metadata": {},
   "outputs": [
    {
     "name": "stdout",
     "output_type": "stream",
     "text": [
      "---Python🐍              ---\n"
     ]
    }
   ],
   "source": [
    "print(f\"---{'Python🐍':21}---\")"
   ]
  },
  {
   "cell_type": "markdown",
   "metadata": {},
   "source": [
    "Vi kan også sette stringen vår...\n",
    "\n",
    "- ... til venstre med `<`\n",
    "- ... til høyre med `>`\n",
    "- ... eller sentrert med `^`"
   ]
  },
  {
   "cell_type": "code",
   "execution_count": 17,
   "metadata": {},
   "outputs": [
    {
     "name": "stdout",
     "output_type": "stream",
     "text": [
      "---Python🐍              ---\n",
      "---              Python🐍---\n",
      "---       Python🐍       ---\n"
     ]
    }
   ],
   "source": [
    "print(f\"---{'Python🐍':<21}---\")\n",
    "print(f\"---{'Python🐍':>21}---\")\n",
    "print(f\"---{'Python🐍':^21}---\")"
   ]
  },
  {
   "cell_type": "markdown",
   "metadata": {},
   "source": [
    "---\n",
    "\n",
    "#### Oppgaver\n",
    "\n",
    "`````{admonition} Oppgave 1 🧑‍💻\n",
    ":class: task\n",
    "\n",
    "Å nei! Noen har hacket PC'n min og endret på masse tekst! 😱\n",
    "\n",
    "Gjør om hver string slik at den matcher output-kolonnen ved å bruke string-metoder. \n",
    "\n",
    "::::{grid} 2\n",
    ":gutter: 1\n",
    "\n",
    "\n",
    ":::{grid-item-card} \n",
    "**String**\n",
    ":::\n",
    "\n",
    ":::{grid-item-card} \n",
    "**Output**\n",
    ":::\n",
    "\n",
    ":::{grid-item-card} \n",
    "`\"  ..p.y.th.on..🐍  \"`\n",
    ":::\n",
    "\n",
    ":::{grid-item-card} \n",
    "`\"PYTHON🐍\"`\n",
    ":::\n",
    "\n",
    ":::{grid-item-card} \n",
    "`\"Jeg hater Python! 😡 \\n\"`\n",
    ":::\n",
    "\n",
    ":::{grid-item-card} \n",
    "`\"Jeg elsker Python! 😍\"`\n",
    ":::\n",
    "\n",
    ":::{grid-item-card} \n",
    "`\",.,l.l,,.passord:lmao123,.,l,.l,.l\"`\n",
    ":::\n",
    "\n",
    ":::{grid-item-card} \n",
    "`\"passord:*******\"`\n",
    ":::\n",
    "\n",
    "::::\n",
    "\n",
    "*Du får ikke bruke `replace()`-metoden til å skrive om hele stringen til riktig output.*\n",
    "\n",
    "````{admonition} Løsningsforslag\n",
    ":class: solution, dropdown\n",
    "```\n",
    "print(\"  ..p.y.th.on..🐍  \".replace(\".\", \"\").strip().upper())\n",
    "print(\"Jeg hater Python! 😡 \\n\".strip().replace(\"😡\", \"😍\").replace(\"hater\", \"elsker\"))\n",
    "print(\",.,l.l,,.passord:lmao123,.,l,.l,.l\".strip(\",.l\").replace(\"lmao123\", \"*******\"))\n",
    "```\n",
    "````\n",
    "`````\n",
    "\n",
    "`````{admonition} Oppgave 2 🎮\n",
    ":class: task\n",
    "\n",
    "I gamledager byttet gamere ut noen av bokstavene i navnene sine med tall for å se kule ut.\n",
    "\n",
    "Lag en funksjon `gamerifiser(s)` som skal ta inn en string `s` og returnere en string som er *gamerifisert*.\n",
    "\n",
    "Her er noen testcases som funksjonen din må oppfylle.\n",
    "\n",
    "```\n",
    "gamerifiser(\"linus\") -> \"xxl1nu5xx\"\n",
    "gamerifiser(\"beate\") -> \"xxb34t3xx\"\n",
    "```\n",
    "\n",
    "````{admonition} Løsningsforslag\n",
    ":class: note, dropdown\n",
    "```\n",
    "def gamerifiser(s):\n",
    "    ut = s.replace(\"s\", \"5\").replace(\"i\", \"1\").replace(\"a\", \"4\").replace(\"e\", \"3\")\n",
    "    return \"xx\" + ut + \"xx\"\n",
    "\n",
    "print(gamerifiser(\"linus\"))\n",
    "print(gamerifiser(\"beate\"))\n",
    "```\n",
    "````\n",
    "`````\n",
    "\n",
    "\n",
    "`````{admonition} Oppgave 3 🅰️\n",
    ":class: task\n",
    "\n",
    "Lag en funksjon `antall_a()` som tar inn en string `s` og returnerer hvor mange ganger bokstaven `\"a\"` er skrevet. \n",
    "\n",
    "Tell både stor og liten bokstav.\n",
    "\n",
    "\n",
    "Her er noen testcases som funksjonen din må oppfylle.\n",
    "\n",
    "```\n",
    "antall_a(\"Banan\")  -> 2\n",
    "antall_a(\"Ananas\") -> 3\n",
    "antall_a(\"Kiwi\")   -> 0\n",
    "```\n",
    "\n",
    "````{admonition} Løsningsforslag\n",
    ":class: solution, dropdown\n",
    "\n",
    "```\n",
    "def antall_a(s):\n",
    "    antall = 0\n",
    "    for x in s.lower():\n",
    "        if x == \"a\":\n",
    "            antall += 1\n",
    "    return antall\n",
    "```\n",
    "````\n",
    "`````\n",
    "\n",
    "\n",
    "`````{admonition} Oppgave 4 ⚒️\n",
    ":class: task\n",
    "\n",
    "Bygg en pyramide.\n",
    "\n",
    "```\n",
    "                   #                    \n",
    "                 ######                 \n",
    "              ###########               \n",
    "            ################            \n",
    "         #####################          \n",
    "       ##########################       \n",
    "    ###############################     \n",
    "  ####################################  \n",
    "```\n",
    "\n",
    "````{admonition} Løsningsforslag\n",
    ":class: solution, dropdown\n",
    "```\n",
    "for n in range(1, 40, 5):\n",
    "    print(f\"{n*\"#\":^40}\")\n",
    "```\n",
    "````\n",
    "`````\n",
    "\n",
    "`````{admonition} Oppgave 5 🖥️\n",
    ":class: task\n",
    "\n",
    "Fortnite-Fillip skal spare til å kjøpe seg en 4K OLED gaming-skjerm med 240 Hz til $7\\,000$ kr.\n",
    "\n",
    "Han får $400$ i starten av hver måned for å gjøre husarbeid. I tillegg får han $5\\%$ månedlig rente på pengene sine.\n",
    "\n",
    "Skriv ut en spareplan som en fin tabell. Den skal dekke hver måned helt til han har nok penger.\n",
    "\n",
    "````{admonition} Hint: Eksempelutskrift\n",
    ":class: hint, dropdown\n",
    "Her er et eksempel på en tabell.\n",
    "```\n",
    "  Måned   |  Penger  |  Rente   |  Månedslønn   \n",
    "------------------------------------------------\n",
    "    0     |   0.00   |   0.00   |      400      \n",
    "    1     |  400.00  |   8.00   |      400      \n",
    "    2     |  808.00  |  16.16   |      400      \n",
    "    3     | 1224.16  |  24.48   |      400 \n",
    "```\n",
    "````\n",
    "\n",
    "````{admonition} Løsningsforslag\n",
    ":class: solution, dropdown\n",
    "```\n",
    "penger = 0\n",
    "måned = 0\n",
    "månedslønn = 400\n",
    "prosentfaktor = 0.02\n",
    "\n",
    "print(f\"{'Måned':^10}|{'Penger':^10}|{'Rente':^10}|{'Månedslønn':^15}\")\n",
    "print(\"-\" * 48)\n",
    "while penger < 7000:\n",
    "    # Skriver ut en linje\n",
    "    print(f\"{måned:^10}|{penger:^10.2f}|{prosentfaktor * penger:^10.2f}|{månedslønn:^15}\")\n",
    "    \n",
    "    # Legger til renten (i parantes) og månedslønnen\n",
    "    penger += (penger * prosentfaktor) + månedslønn\n",
    "\n",
    "    # Øker måneden\n",
    "    måned += 1\n",
    "```\n",
    "````\n",
    "`````"
   ]
  }
 ],
 "metadata": {
  "kernelspec": {
   "display_name": "Python 3",
   "language": "python",
   "name": "python3"
  },
  "language_info": {
   "codemirror_mode": {
    "name": "ipython",
    "version": 3
   },
   "file_extension": ".py",
   "mimetype": "text/x-python",
   "name": "python",
   "nbconvert_exporter": "python",
   "pygments_lexer": "ipython3",
   "version": "3.12.4"
  }
 },
 "nbformat": 4,
 "nbformat_minor": 2
}
