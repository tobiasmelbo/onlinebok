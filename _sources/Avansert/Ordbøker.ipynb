{
 "cells": [
  {
   "cell_type": "markdown",
   "metadata": {},
   "source": [
    "(Ordbøker)=\n",
    "### Ordbøker\n",
    " \n",
    "Ordbøker (*dictionaries*) er en samling av objekter, som lister, tupler og mengder.\n",
    "\n",
    "I {ref}`Lister` lagrer vi data i en rekkefølge. I ordbøker lagrer vi data i par med `keys` og `values`, nøkler og verdier. En nøkkel er forbundet med sin verdi. "
   ]
  },
  {
   "cell_type": "code",
   "execution_count": 5,
   "metadata": {},
   "outputs": [
    {
     "name": "stdout",
     "output_type": "stream",
     "text": [
      "Norge\n",
      "Sverige\n"
     ]
    }
   ],
   "source": [
    "land = {\"NO\" : \"Norge\", \"SE\" : \"Sverige\"}\n",
    " \n",
    "print(land[\"NO\"])\n",
    "print(land[\"SE\"])"
   ]
  },
  {
   "cell_type": "markdown",
   "metadata": {},
   "source": [
    "I koden over lager vi landkoder.  `\"NO\"` og `\"SE\"` er nøklene, og `\"Norge\"` og `\"Sverige\"` er de tilhørende verdiene. Vi knytter sammen nøklene og verdiene med kolon `:`. For å hente verdier fra ordboken `land` så skriver vi inn nøkkelen med `land[\"NO\"]` og så får vi ut verdien `\"Norge\"`.\n",
    "\n",
    "Dersom vi skal sette sammen en enkel ordbok så er det vanlig å gjøre det over flere linjer. Det er litt mer oversiktlig enn eksemplet over."
   ]
  },
  {
   "cell_type": "code",
   "execution_count": 6,
   "metadata": {},
   "outputs": [],
   "source": [
    "land = {\n",
    "    \"NO\" : \"Norge\",\n",
    "    \"SE\" : \"Sverige\"\n",
    "}"
   ]
  },
  {
   "cell_type": "markdown",
   "metadata": {},
   "source": [
    "#### Legge til, endre og fjerne data\n",
    "\n",
    "For å legge til data så setter vi en ny nøkkel lik en verdi. "
   ]
  },
  {
   "cell_type": "code",
   "execution_count": 2,
   "metadata": {},
   "outputs": [
    {
     "name": "stdout",
     "output_type": "stream",
     "text": [
      "{'NO': 'Norge', 'DK': 'Danmark'}\n"
     ]
    }
   ],
   "source": [
    "land = {}                # Tom ordbok\n",
    "\n",
    "land[\"NO\"] = \"Norge\"     # Verdien \"Norge\" legges inn i ordboken under nøkkelen \"NO\"\n",
    "land[\"DK\"] = \"Danmark\"   # Verdien \"Danmark\" legges inn i ordboken under nøkkelen \"DK\"\n",
    "\n",
    "print(land)"
   ]
  },
  {
   "cell_type": "markdown",
   "metadata": {},
   "source": [
    "For å endre på data kan vi sette en eksisterende nøkkel til en ny verdi."
   ]
  },
  {
   "cell_type": "code",
   "execution_count": 8,
   "metadata": {},
   "outputs": [
    {
     "name": "stdout",
     "output_type": "stream",
     "text": [
      "{'NO': 'Norge', 'DK': 'Danmark'}\n",
      "{'NO': 'Norge', 'DK': 'Donkey Kong'}\n"
     ]
    }
   ],
   "source": [
    "land = {\n",
    "    \"NO\" : \"Norge\",\n",
    "    \"DK\" : \"Danmark\"\n",
    "} \n",
    "\n",
    "print(land)\n",
    "\n",
    "land[\"DK\"] = \"Donkey Kong\" # Nøkkelen \"DK\" får en ny verdi \"Donkey Kong\" 🐒\n",
    "\n",
    "print(land)"
   ]
  },
  {
   "cell_type": "markdown",
   "metadata": {},
   "source": [
    "Vi kan fjerne data ved å bruke `pop()`-metoden."
   ]
  },
  {
   "cell_type": "code",
   "execution_count": 9,
   "metadata": {},
   "outputs": [
    {
     "name": "stdout",
     "output_type": "stream",
     "text": [
      "{'SE': 'Sverige', 'DK': 'Danmark'}\n"
     ]
    }
   ],
   "source": [
    "land = {\n",
    "    \"NO\" : \"Norge\",\n",
    "    \"SE\" : \"Sverige\",\n",
    "    \"DK\" : \"Danmark\"\n",
    "}\n",
    "\n",
    "land.pop(\"NO\") # Fjerner både nøkkel og verdi for nøkkelen \"NO\"\n",
    "\n",
    "print(land)"
   ]
  },
  {
   "cell_type": "markdown",
   "metadata": {},
   "source": [
    "#### Løkker og ordbøker\n",
    "\n",
    "Vi kan gå igjennom ordbøker med `for`-løkker på denne måten."
   ]
  },
  {
   "cell_type": "code",
   "execution_count": 10,
   "metadata": {},
   "outputs": [
    {
     "name": "stdout",
     "output_type": "stream",
     "text": [
      "Nøkkel: NO\n",
      "Verdi: Norge\n",
      "Nøkkel: SE\n",
      "Verdi: Sverige\n"
     ]
    }
   ],
   "source": [
    "land = {\n",
    "    \"NO\" : \"Norge\",\n",
    "    \"SE\" : \"Sverige\"\n",
    "}\n",
    "\n",
    "for x in land:\n",
    "    print(\"Nøkkel:\", x)         # Skriver ut nøkkelen\n",
    "    print(\"Verdi:\", land[x])   # Skriver ut verdien til nøkkelen"
   ]
  },
  {
   "cell_type": "markdown",
   "metadata": {},
   "source": [
    "---\n",
    "\n",
    "#### Oppgaver\n",
    "\n",
    "##### Oppgave 1 🎒\n",
    "\n",
    "Lag en ordbok `elev` som skal ha fag som nøkler og karakterer som verdier. Den kan starte slik\n",
    "\n",
    "```\n",
    "elev = {\n",
    "    \"Norsk\" : 4,\n",
    "    \"Gym\" : 3\n",
    "}\n",
    "```\n",
    "\n",
    "1. Legg til fire nye fag og karakterer. Du kan bestemme både fag og karakterer.\n",
    "2. Lag en løkke som skriver ut alle fagene og karakterene med en setning `Eleven har <karakter> i faget <fag>`.\n",
    "3. Finn og skriv ut karaktersnittet til eleven.\n",
    "\n",
    "##### Oppgave 2 🔤\n",
    "Vi finner en *ordsum* ved å gi hver bokstav en tallverdi basert på plasseringen i alfabetet.\n",
    "\n",
    "- For eksempel er ordsummen av ordet `BOB` lik $2 + 15 + 2 = 19$\n",
    "\n",
    "Du kan få bruk for ordboken under for å løse oppgaven.\n",
    "\n",
    "```\n",
    "bokstav_verdi = {\"A\":1,\"B\":2,\"C\":3,\"D\":4,\"E\":5,\"F\":6,\"G\":7,\"H\":8,\"I\":9,\"J\":10,\"K\":11,\"L\":12,\"M\":13,\"N\":14,\"O\":15,\"P\":16,\"Q\":17,\"R\":18,\"S\":19,\"T\":20,\"U\":21,\"V\":22,\"W\":23,\"X\":24,\"Y\":25,\"Z\":26,\"Æ\":27,\"Ø\":28,\"Å\":29}\n",
    "```\n",
    "\n",
    "Hva er ordsummen av ordet `PREIMPLANTASJONSDIAGNOSTIKKNEMNDA`?\n",
    "\n",
    "Svar: <input id=\"textInput\" type=\"text\"><a id=\"response\"></a>\n",
    "\n",
    "<script>\n",
    "document.getElementById(\"textInput\").addEventListener(\"keypress\", function(event) {\n",
    "  var inputText = this.value.trim().toLowerCase();\n",
    "  if (event.key === \"Enter\") {\n",
    "    if (inputText === \"373\") {\n",
    "      document.getElementById(\"response\").innerHTML = \" ✅\";\n",
    "    } else {\n",
    "      document.getElementById(\"response\").innerHTML = \" ❌\";\n",
    "    }\n",
    "  }\n",
    "});\n",
    "</script>"
   ]
  }
 ],
 "metadata": {
  "kernelspec": {
   "display_name": "Python 3",
   "language": "python",
   "name": "python3"
  },
  "language_info": {
   "codemirror_mode": {
    "name": "ipython",
    "version": 3
   },
   "file_extension": ".py",
   "mimetype": "text/x-python",
   "name": "python",
   "nbconvert_exporter": "python",
   "pygments_lexer": "ipython3",
   "version": "3.10.6"
  },
  "orig_nbformat": 4
 },
 "nbformat": 4,
 "nbformat_minor": 2
}
