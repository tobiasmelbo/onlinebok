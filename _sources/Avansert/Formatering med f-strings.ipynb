{
 "cells": [
  {
   "cell_type": "markdown",
   "metadata": {},
   "source": [
    "(Formatering med f-strings)=\n",
    "### Formatering med f-strings\n",
    "\n",
    "Du er sikkert kjent med at man kan sette inn Pythonske uttrykk i strings ved å bruke f-string-formatering."
   ]
  },
  {
   "cell_type": "code",
   "execution_count": 3,
   "metadata": {},
   "outputs": [
    {
     "name": "stdout",
     "output_type": "stream",
     "text": [
      "3 ganger 2 blir 5\n"
     ]
    }
   ],
   "source": [
    "a = 3\n",
    "b = 2\n",
    "\n",
    "print(f\"{a} ganger {b} blir {a + b}\")"
   ]
  },
  {
   "cell_type": "markdown",
   "metadata": {},
   "source": [
    "Her kommer det en del ekstra triks med f-strings som gjør at du kan lage helt sykt kule utskrifter i terminalen."
   ]
  },
  {
   "cell_type": "markdown",
   "metadata": {},
   "source": [
    "#### Avrunding\n",
    "\n",
    "Vi kan runde av tall ved å bruke `:` etterfulgt av `.2f`, der tallet står for antall desimaler."
   ]
  },
  {
   "cell_type": "code",
   "execution_count": 13,
   "metadata": {},
   "outputs": [
    {
     "name": "stdout",
     "output_type": "stream",
     "text": [
      "Areal (to desimaler): 12.57\n",
      "Areal (fem desimaler): 12.56637\n"
     ]
    }
   ],
   "source": [
    "from math import pi\n",
    "\n",
    "r = 2\n",
    "\n",
    "print(f\"Areal (to desimaler): {pi * r**2:.2f}\")\n",
    "print(f\"Areal (fem desimaler): {pi * r**2:.5f}\")"
   ]
  },
  {
   "cell_type": "markdown",
   "metadata": {},
   "source": [
    "#### Store og små tall\n",
    "\n",
    "For store tall kan man spesifisere `,` som et skille for tusen-plassene."
   ]
  },
  {
   "cell_type": "code",
   "execution_count": 38,
   "metadata": {},
   "outputs": [
    {
     "name": "stdout",
     "output_type": "stream",
     "text": [
      "Med , som skille: 1,234,567.891011 kr\n",
      "Med , som skille og to desimaler: 1,234,567.89 kr\n"
     ]
    }
   ],
   "source": [
    "lønn = 1234567.891011\n",
    "\n",
    "print(f\"Med , som skille: {lønn:,} kr\")\n",
    "print(f\"Med , som skille og to desimaler: {lønn:,.2f} kr\")"
   ]
  },
  {
   "cell_type": "markdown",
   "metadata": {},
   "source": [
    "Man kan også bruke skrive ut med `e`-notasjon, som gir svaret på standardform."
   ]
  },
  {
   "cell_type": "code",
   "execution_count": 74,
   "metadata": {},
   "outputs": [
    {
     "name": "stdout",
     "output_type": "stream",
     "text": [
      "En astronomisk enhet er definert som 149597870700 meter.\n",
      "Standardform: 1.495979e+11 meter\n",
      "Standardform med to desimaler: 1.50e+11 meter.\n"
     ]
    }
   ],
   "source": [
    "AU = 149_597_870_700\n",
    "\n",
    "print(f\"En astronomisk enhet er definert som {AU} meter.\")\n",
    "print(f\"Standardform: {AU:e} meter\")\n",
    "print(f\"Standardform med to desimaler: {AU:.2e} meter.\")"
   ]
  },
  {
   "cell_type": "markdown",
   "metadata": {},
   "source": [
    "#### Plassering\n",
    "\n",
    "Vi kan sette av ekstra plass til uttrykket som skal settes inn ved å bruke `:` etterfulgt av et tall."
   ]
  },
  {
   "cell_type": "code",
   "execution_count": 75,
   "metadata": {},
   "outputs": [
    {
     "name": "stdout",
     "output_type": "stream",
     "text": [
      "---Python🐍             ---\n"
     ]
    }
   ],
   "source": [
    "print(f\"---{\"Python🐍\":20}---\")"
   ]
  },
  {
   "cell_type": "markdown",
   "metadata": {},
   "source": [
    "Vi kan også sette stringen vår...\n",
    "\n",
    "- ... til venstre med `<`\n",
    "- ... til høyre med `>`\n",
    "- ... eller sentrert med `^`"
   ]
  },
  {
   "cell_type": "code",
   "execution_count": 76,
   "metadata": {},
   "outputs": [
    {
     "name": "stdout",
     "output_type": "stream",
     "text": [
      "---Python🐍             ---\n",
      "---             Python🐍---\n",
      "---      Python🐍       ---\n"
     ]
    }
   ],
   "source": [
    "print(f\"---{\"Python🐍\":<20}---\")\n",
    "print(f\"---{\"Python🐍\":>20}---\")\n",
    "print(f\"---{\"Python🐍\":^20}---\")"
   ]
  }
 ],
 "metadata": {
  "kernelspec": {
   "display_name": "Python 3",
   "language": "python",
   "name": "python3"
  },
  "language_info": {
   "codemirror_mode": {
    "name": "ipython",
    "version": 3
   },
   "file_extension": ".py",
   "mimetype": "text/x-python",
   "name": "python",
   "nbconvert_exporter": "python",
   "pygments_lexer": "ipython3",
   "version": "3.12.4"
  }
 },
 "nbformat": 4,
 "nbformat_minor": 2
}
