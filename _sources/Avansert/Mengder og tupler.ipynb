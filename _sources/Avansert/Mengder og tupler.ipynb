{
 "cells": [
  {
   "cell_type": "markdown",
   "metadata": {},
   "source": [
    "(Mengder og tupler)=\n",
    "### Mengder og tupler\n",
    "\n",
    "Lister er samlinger av objekter. Det er mengder og tupler også, men de er litt forskjellige fra lister.\n",
    "\n",
    "#### Tupler\n",
    "Tupler (*tuples*), som lister, har en tydelig rekkefølge, men **en tuppel skal ikke kunne endres**.\n",
    "\n",
    "Vi skriver tupler med parantes `(1, 2, 3)`, i stedet for klammeparantes `[1, 2, 3]`."
   ]
  },
  {
   "cell_type": "code",
   "execution_count": 13,
   "metadata": {},
   "outputs": [
    {
     "name": "stdout",
     "output_type": "stream",
     "text": [
      "<class 'list'>\n",
      "<class 'tuple'>\n"
     ]
    }
   ],
   "source": [
    "a = [1, 2, 3] # Liste\n",
    "b = (1, 2, 3) # Tuppel\n",
    "\n",
    "print(type(a))\n",
    "print(type(b))"
   ]
  },
  {
   "cell_type": "markdown",
   "metadata": {},
   "source": [
    "Tupler er ofte brukt til punkter og vektorer som ikke skal endre seg i et program."
   ]
  },
  {
   "cell_type": "markdown",
   "metadata": {},
   "source": [
    "(Mengder)=\n",
    "#### Mengder\n",
    "En mengde (*set*) er en måte å samle forekomster av objekter **uten rekkefølge** og **uten gjentagende elementer**.\n",
    "\n",
    "Vi kan lage mengder ved å bruke `set((1, 2, 3))`-funksjonen."
   ]
  },
  {
   "cell_type": "code",
   "execution_count": 16,
   "metadata": {},
   "outputs": [
    {
     "name": "stdout",
     "output_type": "stream",
     "text": [
      "<class 'set'>\n",
      "<class 'set'>\n",
      "a: {1, 2, 3}\n",
      "b: {1, 2, 3}\n"
     ]
    }
   ],
   "source": [
    "b = set([1, 2, 3])\n",
    "\n",
    "print(type(a))\n",
    "print(type(b))\n",
    "print(\"a:\", a)\n",
    "print(\"b:\", b)"
   ]
  },
  {
   "cell_type": "markdown",
   "metadata": {},
   "source": [
    "##### Legge til og fjerne objekter\n",
    "\n",
    "Vi kan legge til og fjerne objekter ved å bruke `add()`- og `remove()`-metodene. "
   ]
  },
  {
   "cell_type": "code",
   "execution_count": 10,
   "metadata": {},
   "outputs": [
    {
     "name": "stdout",
     "output_type": "stream",
     "text": [
      "{1}\n",
      "{1, 4}\n",
      "{1}\n"
     ]
    }
   ],
   "source": [
    "a = set([1])\n",
    "print(a)\n",
    "\n",
    "a.add(4)\n",
    "print(a)\n",
    "\n",
    "a.remove(4)\n",
    "print(a)"
   ]
  },
  {
   "cell_type": "markdown",
   "metadata": {},
   "source": [
    "Legg også merke til at vi ikke kan legge til flere av samme objekt."
   ]
  },
  {
   "cell_type": "code",
   "execution_count": 15,
   "metadata": {},
   "outputs": [
    {
     "name": "stdout",
     "output_type": "stream",
     "text": [
      "{1, 2, 3}\n",
      "{1, 2, 3}\n"
     ]
    }
   ],
   "source": [
    "a = set([1, 2, 3])\n",
    "print(a)\n",
    "\n",
    "a.add(1)\n",
    "print(a)"
   ]
  },
  {
   "cell_type": "markdown",
   "metadata": {},
   "source": [
    "##### Finne unike objekter i en liste\n",
    "\n",
    "Vi kan finne alle *unike* objekter i en liste eller string ved å konvertere til en mengde."
   ]
  },
  {
   "cell_type": "code",
   "execution_count": 16,
   "metadata": {},
   "outputs": [
    {
     "name": "stdout",
     "output_type": "stream",
     "text": [
      "{'💸', '🦠', '📗', '🍏', '🫑', '🥒', '💚', '🥬', '🟩', '👽', '🟢', '🥦'}\n",
      "Det finnes 12 forskjellige emojis i teksten.\n"
     ]
    }
   ],
   "source": [
    "tekst = \"🦠💸🦠📗🍏💚💚💚🥦🥬🥬🥬🥬🥒🫑🫑📗🟢🟢💸💸🟩🍏💚🥦👽🥬🥬🥬🥬🥒🥒🫑🟢🟩📗\"\n",
    "\n",
    "mengde = set(tekst) # Konverterer listen til en mengde\n",
    "\n",
    "print(mengde)\n",
    "print(f\"Det finnes {len(mengde)} forskjellige emojis i teksten.\")"
   ]
  },
  {
   "cell_type": "markdown",
   "metadata": {},
   "source": [
    "##### Union og snitt\n",
    "\n",
    "Du har sikkert sett et venndiagram før.\n",
    "\n",
    "```{image} ../_images/venndiagram.png\n",
    ":alt: Figur av et venndiagram.\n",
    "```\n",
    "\n",
    "Mengden $A$ består av masse objekter. Det gjør også mengde $B$. Noen elementer er til felles for disse, og dette kalles for *snittet* eller $A \\cap B$. Her er noen andre ting fra mengdeteori som er interessant for oss.\n",
    "\n",
    "::::{grid} 3\n",
    ":gutter: 1\n",
    "\n",
    ":::{grid-item-card} Objekter\n",
    ":::\n",
    "\n",
    ":::{grid-item-card} Matematisk\n",
    ":::\n",
    "\n",
    ":::{grid-item-card} Pythonsk\n",
    ":::\n",
    "\n",
    ":::{grid-item-card}\n",
    "Objekter som er i enten $A$ eller $B$. Alle objekter.\n",
    ":::\n",
    "\n",
    ":::{grid-item-card}\n",
    "$A\\cup B$. \n",
    "\n",
    "$A$ *union* $B$.\n",
    ":::\n",
    "\n",
    ":::{grid-item-card}\n",
    "`A | B`\n",
    ":::\n",
    "\n",
    ":::{grid-item-card}\n",
    "Objekter som er i *både* $A$ og $B$.\n",
    ":::\n",
    "\n",
    ":::{grid-item-card}\n",
    "$A\\cap B$. \n",
    "\n",
    "$A$ *snitt* $B$.\n",
    ":::\n",
    "\n",
    ":::{grid-item-card}\n",
    "`A & B`\n",
    ":::\n",
    "\n",
    ":::{grid-item-card}\n",
    "Objekter som bare er i $A$, ikke $B$.\n",
    ":::\n",
    "\n",
    ":::{grid-item-card}\n",
    "$A$ \\ $B$\n",
    ":::\n",
    "\n",
    ":::{grid-item-card}\n",
    "`A - B`\n",
    ":::\n",
    "\n",
    ":::{grid-item-card}\n",
    "Objekter som bare er i $B$, ikke $A$.\n",
    ":::\n",
    "\n",
    ":::{grid-item-card}\n",
    "$B$ \\ $A$\n",
    ":::\n",
    "\n",
    ":::{grid-item-card}\n",
    "`B - A`\n",
    ":::\n",
    "\n",
    "::::\n",
    "\n",
    "Mengdene over kan vi få bruk for i Python."
   ]
  },
  {
   "cell_type": "code",
   "execution_count": 17,
   "metadata": {},
   "outputs": [
    {
     "name": "stdout",
     "output_type": "stream",
     "text": [
      "A union B: {1, 2, 3, 4, 5, 6}\n",
      "A snitt B: {3, 4}\n",
      "A uten B:  {1, 2}\n",
      "B uten A:  {5, 6}\n"
     ]
    }
   ],
   "source": [
    "A = {1, 2, 3, 4}\n",
    "B = {3, 4, 5, 6}\n",
    "\n",
    "print(f\"A union B: {A | B}\")\n",
    "print(f\"A snitt B: {A & B}\")\n",
    "print(f\"A uten B:  {A - B}\")\n",
    "print(f\"B uten A:  {B - A}\")"
   ]
  },
  {
   "cell_type": "markdown",
   "metadata": {},
   "source": [
    "---\n",
    "\n",
    "#### Oppgaver\n",
    "\n",
    "##### Oppgave 1 😍\n",
    " \n",
    "Under er to strings, `a` og `b`\n",
    "\n",
    "``` \n",
    "a = \"😎😋😎😆😉😉😉😉😉😊😊😋😆😘😅😘😆😉😋😉😋😅😍😉😋😎😍😆😋😆😉😍😉😉😅😘😅😋😅😊😋😎😎😅😘😍😍😘😆😎😋😆😍😍😉😘😉😅😍😘😉😆😋😆😉😊😆😉😎😅😘😆😋😊😊😉😉😎😆😋😍😅😊😅😆😅😆😘😋😅😆😎😊😎😘😘😍😉😊😍\"\n",
    "b = \"🥲🥰🥲😍😘😚🥲😙😙😘😚😘😍🥲😍😗🥲😘😙😗😙🥰🥲😘😘😘🥲😚😘🥲🥰😗😚🥰😘😙😚😍😙😚😗😙🥲😗😙😚🥰😚😙😘🥲😙🥰🥰🥲🥲🥰🥲😚🥲🥰😗🥰🥰😙😘😙🥰🥰😗🥲😍😘😘😗🥰😚😚🥲😘😙😍🥰🥰🥰😗😙😙😘😚😗😚😚🥰😘😚🥰🥰😘😘\"\n",
    "```\n",
    "\n",
    "1. Finn alle emojis som finnes i både `a` og `b`.\n",
    "2. Finn alle emojis i begge tekstene.\n",
    "3. Finn alle emojis som bare finnes i `a`.\n",
    "4. Finn alle emojis som bare finnes i `b`.\n",
    "\n",
    "```{admonition} Fasit\n",
    ":class: note, dropdown\n",
    "1. `{'😘', '😍'}`\n",
    "2. `{'😘', '😆', '😉', '😅', '😍', '😎', '😊', '😚', '😋', '🥲', '🥰', '😙', '😗'}`\n",
    "3. `{'😆', '😉', '😅', '😎', '😊', '😋'}`\n",
    "4. `{'😚', '🥲', '🥰', '😙', '😗'}`\n",
    "```\n"
   ]
  }
 ],
 "metadata": {
  "kernelspec": {
   "display_name": "Python 3",
   "language": "python",
   "name": "python3"
  },
  "language_info": {
   "codemirror_mode": {
    "name": "ipython",
    "version": 3
   },
   "file_extension": ".py",
   "mimetype": "text/x-python",
   "name": "python",
   "nbconvert_exporter": "python",
   "pygments_lexer": "ipython3",
   "version": "3.10.7"
  }
 },
 "nbformat": 4,
 "nbformat_minor": 2
}
