{
 "cells": [
  {
   "cell_type": "markdown",
   "metadata": {},
   "source": [
    "(Rutenett)=\n",
    "### Rutenett\n",
    "\n",
    "Vi kan lage rutenett ved å lage en liste som inneholder hver rad.\n",
    "\n",
    "For å skrive ut rutenettet, kan vi skrive ut hver rad med en `for`-løkke."
   ]
  },
  {
   "cell_type": "code",
   "execution_count": 4,
   "metadata": {},
   "outputs": [
    {
     "name": "stdout",
     "output_type": "stream",
     "text": [
      "[1, 2, 3]\n",
      "[4, 5, 6]\n",
      "[7, 8, 9]\n"
     ]
    }
   ],
   "source": [
    "rutenett = [[1, 2, 3], \n",
    "            [4, 5, 6], \n",
    "            [7, 8, 9]]\n",
    "\n",
    "for rad in rutenett:\n",
    "    print(rad)"
   ]
  },
  {
   "cell_type": "markdown",
   "metadata": {},
   "source": [
    "Vi kan også deklarere rutenettet på én linje med `rutenett = [[1, 2, 3], [4, 5, 6], [7, 8, 9]]`"
   ]
  },
  {
   "cell_type": "markdown",
   "metadata": {},
   "source": [
    "#### Indeksere i rutenett\n",
    "\n",
    "Dette kartet kan hjelpe oss med å indeksere i rutenettet.\n",
    "\n",
    "```\n",
    "       Søyle\n",
    " Rad  0  1  2\n",
    "  0  [1, 2, 3]\n",
    "  1  [4, 5, 6]\n",
    "  2  [7, 8, 9]\n",
    "```\n",
    "\n",
    "For å indeksere i rutenettet skriver vi `rutenett[rad][søyle]`."
   ]
  },
  {
   "cell_type": "code",
   "execution_count": 5,
   "metadata": {},
   "outputs": [
    {
     "name": "stdout",
     "output_type": "stream",
     "text": [
      "3\n",
      "5\n",
      "7\n"
     ]
    }
   ],
   "source": [
    "rutenett = [[1, 2, 3], \n",
    "            [4, 5, 6], \n",
    "            [7, 8, 9]]\n",
    "\n",
    "\n",
    "print(rutenett[0][2]) # Rad 0, søyle 2\n",
    "print(rutenett[1][1]) # Rad 1, søyle 1\n",
    "print(rutenett[2][0]) # Rad 2, søyle 0"
   ]
  },
  {
   "cell_type": "markdown",
   "metadata": {},
   "source": [
    "#### Generere rutenett\n",
    "\n",
    "Vi kan generere rutenett ved å bruke en løkke i en løkke."
   ]
  },
  {
   "cell_type": "code",
   "execution_count": 17,
   "metadata": {},
   "outputs": [
    {
     "name": "stdout",
     "output_type": "stream",
     "text": [
      "['#', '#', '#', '#', '#']\n",
      "['#', '#', '#', '#', '#']\n",
      "['#', '#', '#', '#', '#']\n",
      "['#', '#', '#', '#', '#']\n",
      "['#', '#', '#', '#', '#']\n"
     ]
    }
   ],
   "source": [
    "# Et tomt rutenett\n",
    "rutenett = []\n",
    "\n",
    "for n in range(5):\n",
    "    # Lager en tom rad\n",
    "    rad = []\n",
    "\n",
    "    # Legger til på raden\n",
    "    for m in range(5):\n",
    "        rad.append(\"#\")\n",
    "    \n",
    "    # Legger raden til på rutenettet\n",
    "    rutenett.append(rad)\n",
    "\n",
    "# Skriver ut rutenettet\n",
    "for rad in rutenett:\n",
    "    print(rad)"
   ]
  },
  {
   "cell_type": "markdown",
   "metadata": {},
   "source": [
    "I noen tilfeller kan vi ønske å bruke strings for radene i stedet for lister.\n",
    "\n",
    "Da blir rutenettet en liste med strings som representerer hver rad."
   ]
  },
  {
   "cell_type": "code",
   "execution_count": 20,
   "metadata": {},
   "outputs": [
    {
     "name": "stdout",
     "output_type": "stream",
     "text": [
      "# # # # # \n",
      "# # # # # \n",
      "# # # # # \n",
      "# # # # # \n",
      "# # # # # \n"
     ]
    }
   ],
   "source": [
    "rutenett = []\n",
    "\n",
    "for n in range(5):\n",
    "    rad = \"\"\n",
    "    for m in range(5):\n",
    "        rad += \"# \"\n",
    "    rutenett.append(rad)\n",
    "\n",
    "for rad in rutenett:\n",
    "    print(rad)"
   ]
  },
  {
   "cell_type": "markdown",
   "metadata": {},
   "source": [
    "---\n",
    "\n",
    "#### Oppgaver\n",
    "\n",
    "##### Oppgave 1 🪟\n",
    "\n",
    "Lag et program som lar en bruker skrive inn antall rader og antall søyler for et rutenett, og som skriver ut det tilsvarende rutenettet med `#`.\n",
    "\n",
    "```\n",
    "Antall rader: 3\n",
    "Antall søyler: 5\n",
    "```\n",
    "```\n",
    "# # # # # \n",
    "# # # # # \n",
    "# # # # # \n",
    "```\n",
    "\n",
    "````{admonition} Løsningsforslag\n",
    ":class: note, dropdown\n",
    "\n",
    "Det finnes flere måter å gjøre dette på, men her har jeg brukt at man kan gange strings for å lage radene.\n",
    "```\n",
    "rader = int(input(\"Antall rader: \"))\n",
    "søyler = int(input(\"Antall søyler: \"))\n",
    "\n",
    "for n in range(rader):\n",
    "    print(\"# \" * søyler)\n",
    "```\n",
    "```\n",
    "# # # # # \n",
    "# # # # # \n",
    "# # # # # \n",
    "```\n",
    "````\n",
    "\n",
    "##### Oppgave 2 ✖️\n",
    "\n",
    "a) Lag et program som skriver ut gangetabellen fra $1$ til $9$ som et rutenett.\n",
    "\n",
    "```\n",
    "  1  2  3  4  5  6  7  8  9\n",
    "  2  4  6  8 10 12 14 16 18\n",
    "  3  6  9 12 15 18 21 24 27\n",
    "  4  8 12 16 20 24 28 32 36\n",
    "  5 10 15 20 25 30 35 40 45\n",
    "  6 12 18 24 30 36 42 48 54\n",
    "  7 14 21 28 35 42 49 56 63\n",
    "  8 16 24 32 40 48 56 64 72\n",
    "  9 18 27 36 45 54 63 72 81\n",
    "```\n",
    "\n",
    "b) Utvid programmet til å skrive ut gangetabellen fra $1$ til $12$.\n",
    "\n",
    "```{admonition} Sliter du med å få ting til å stå på rekke og rad?\n",
    ":class: hint\n",
    "\n",
    "Det kan være lurt å bruke `:>2` eller `:>3` i en f-string for å sette av like mye plass til hver string du legger til.\n",
    "\n",
    "Se gjerne tilbake på  {ref}`Formatering med f-strings`.\n",
    "```\n",
    "\n",
    "````{admonition} Løsningsforslag a)\n",
    ":class: note, dropdown\n",
    "```\n",
    "rutenett = []\n",
    "\n",
    "for n in range(1, 10):\n",
    "    rad = \"\"\n",
    "    for m in range(1, 10):\n",
    "        rad += f\"{m * n:>3}\"\n",
    "    rutenett.append(rad)\n",
    "\n",
    "for rad in rutenett:\n",
    "    print(rad)\n",
    "```\n",
    "```\n",
    "  1  2  3  4  5  6  7  8  9\n",
    "  2  4  6  8 10 12 14 16 18\n",
    "  3  6  9 12 15 18 21 24 27\n",
    "  4  8 12 16 20 24 28 32 36\n",
    "  5 10 15 20 25 30 35 40 45\n",
    "  6 12 18 24 30 36 42 48 54\n",
    "  7 14 21 28 35 42 49 56 63\n",
    "  8 16 24 32 40 48 56 64 72\n",
    "  9 18 27 36 45 54 63 72 81\n",
    "```\n",
    "````\n",
    "\n",
    "````{admonition} Løsningsforslag b)\n",
    ":class: note, dropdown\n",
    "Her må vi endre litt på løkkene og sette av litt større plass til hver string.\n",
    "```\n",
    "rutenett = []\n",
    "\n",
    "for n in range(1, 13):\n",
    "    rad = \"\"\n",
    "    for m in range(1, 13):\n",
    "        rad += f\"{m * n:>4}\"\n",
    "    rutenett.append(rad)\n",
    "\n",
    "for rad in rutenett:\n",
    "    print(rad)\n",
    "```\n",
    "```\n",
    "   1   2   3   4   5   6   7   8   9  10  11  12\n",
    "   2   4   6   8  10  12  14  16  18  20  22  24\n",
    "   3   6   9  12  15  18  21  24  27  30  33  36\n",
    "   4   8  12  16  20  24  28  32  36  40  44  48\n",
    "   5  10  15  20  25  30  35  40  45  50  55  60\n",
    "   6  12  18  24  30  36  42  48  54  60  66  72\n",
    "   7  14  21  28  35  42  49  56  63  70  77  84\n",
    "   8  16  24  32  40  48  56  64  72  80  88  96\n",
    "   9  18  27  36  45  54  63  72  81  90  99 108\n",
    "  10  20  30  40  50  60  70  80  90 100 110 120\n",
    "  11  22  33  44  55  66  77  88  99 110 121 132\n",
    "  12  24  36  48  60  72  84  96 108 120 132 144\n",
    "```\n",
    "````"
   ]
  }
 ],
 "metadata": {
  "kernelspec": {
   "display_name": "Python 3",
   "language": "python",
   "name": "python3"
  },
  "language_info": {
   "codemirror_mode": {
    "name": "ipython",
    "version": 3
   },
   "file_extension": ".py",
   "mimetype": "text/x-python",
   "name": "python",
   "nbconvert_exporter": "python",
   "pygments_lexer": "ipython3",
   "version": "3.12.4"
  }
 },
 "nbformat": 4,
 "nbformat_minor": 2
}
