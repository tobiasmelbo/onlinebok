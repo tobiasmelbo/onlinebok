{
 "cells": [
  {
   "cell_type": "markdown",
   "metadata": {},
   "source": [
    "(Lister II)=\n",
    "### Lister II\n",
    " \n",
    "I dette kapitlet skal vi se videre på lister. "
   ]
  },
  {
   "cell_type": "markdown",
   "metadata": {},
   "source": [
    "#### Fjerne objekter\n",
    "\n",
    "Her er noen måter vi kan fjerne objekter fra lister.\n",
    "\n",
    "- Vi kan fjerne objekter med en spesifikk **indeks** med `pop()`-metoden.\n",
    "- Hvis vi vet hvilket objekt vi skal fjerne, men ikke indeksen, kan vi bruke `remove(<objekt>)`-metoden."
   ]
  },
  {
   "cell_type": "code",
   "execution_count": 35,
   "metadata": {},
   "outputs": [
    {
     "name": "stdout",
     "output_type": "stream",
     "text": [
      "['1', '3']\n"
     ]
    }
   ],
   "source": [
    "liste = [\"1\", \"2\", \"3\"]\n",
    "\n",
    "liste.pop(1) # Fjerner objektet ved indeks 1\n",
    "\n",
    "print(liste)"
   ]
  },
  {
   "cell_type": "code",
   "execution_count": 36,
   "metadata": {},
   "outputs": [
    {
     "name": "stdout",
     "output_type": "stream",
     "text": [
      "['1', '3', '2', '2']\n"
     ]
    }
   ],
   "source": [
    "liste = [\"1\", \"2\", \"3\", \"2\", \"2\"]\n",
    "\n",
    "liste.remove(\"2\")\n",
    "\n",
    "print(liste)"
   ]
  },
  {
   "cell_type": "markdown",
   "metadata": {},
   "source": [
    "````{admonition} remove() fjerner bare det første objektet!\n",
    ":class: warning\n",
    "\n",
    "Legg merke til at `remove()`-metoden bare fjerner det første objektet metoden kommer over.\n",
    "\n",
    "For å fjerne *alle* matchende objekter kan vi for eksempel bruke *list comprehension*.\n",
    "\n",
    "```\n",
    "liste = [\"1\", \"2\", \"3\", \"2\", \"2\"]\n",
    "\n",
    "print([x for x in liste if x != \"2\"])\n",
    "```\n",
    "```\n",
    "['1', '3']\n",
    "```\n",
    "\n",
    "Her lager vi altså en ny liste som har alle elementene i `liste`, bortsett fra `\"2\"`.\n",
    "````"
   ]
  },
  {
   "cell_type": "markdown",
   "metadata": {},
   "source": [
    "#### Sette inn ved en indeks\n",
    "\n",
    "Vi kan sette inn et objekt ved en spesifikk indeks ved å bruke `insert()`-metoden"
   ]
  },
  {
   "cell_type": "code",
   "execution_count": 37,
   "metadata": {},
   "outputs": [
    {
     "name": "stdout",
     "output_type": "stream",
     "text": [
      "['1', '🐍', '2', '3']\n"
     ]
    }
   ],
   "source": [
    "liste = [\"1\", \"2\", \"3\"]\n",
    "\n",
    "liste.insert(1, \"🐍\")\n",
    "\n",
    "print(liste)"
   ]
  },
  {
   "cell_type": "markdown",
   "metadata": {},
   "source": [
    "#### Negativ indeksering\n",
    "\n",
    "Vi kan indeksere fra slutten en liste ved å bruke negative tall som indeks."
   ]
  },
  {
   "cell_type": "code",
   "execution_count": 38,
   "metadata": {},
   "outputs": [
    {
     "name": "stdout",
     "output_type": "stream",
     "text": [
      "Siste element: 4\n",
      "Nest siste element: 3\n"
     ]
    }
   ],
   "source": [
    "liste = [0, 1, 2, 3, 4]\n",
    "\n",
    "print(f\"Siste element: {liste[-1]}\")\n",
    "print(f\"Nest siste element: {liste[-2]}\")"
   ]
  },
  {
   "cell_type": "markdown",
   "metadata": {},
   "source": [
    "#### Finne indeks\n",
    "\n",
    "For å finne indeksen til et objekt kan vi bruke `index()`-metoden for lister."
   ]
  },
  {
   "cell_type": "code",
   "execution_count": 39,
   "metadata": {},
   "outputs": [
    {
     "name": "stdout",
     "output_type": "stream",
     "text": [
      "2\n"
     ]
    }
   ],
   "source": [
    "nums = [4, 5, 6, 6, 7]\n",
    "\n",
    "print(nums.index(6))"
   ]
  },
  {
   "cell_type": "markdown",
   "metadata": {},
   "source": [
    "Legg merke til at `index()`-metoden bare finner det første elementet i listen som den kommer over."
   ]
  },
  {
   "cell_type": "markdown",
   "metadata": {},
   "source": [
    "#### Slicing\n",
    "\n",
    "Vi kan hente ut flere objekter fra en liste ved å bruke en spesiell måte å indeksere som kalles *list slicing* på engelsk 🔪"
   ]
  },
  {
   "cell_type": "code",
   "execution_count": 40,
   "metadata": {},
   "outputs": [
    {
     "name": "stdout",
     "output_type": "stream",
     "text": [
      "[1, 2, 3]\n",
      "[2, 3, 4]\n",
      "[0, 1, 2, 3]\n"
     ]
    }
   ],
   "source": [
    "liste = [0, 1, 2, 3, 4]\n",
    "\n",
    "print(liste[1:4])\n",
    "print(liste[2:])\n",
    "print(liste[:-1])"
   ]
  },
  {
   "cell_type": "markdown",
   "metadata": {},
   "source": [
    "Som vi ser kan vi hente ut flere objekter fra en liste ved å indeksere på denne måten: `liste[a:b]`. Da får vi alle objektene med indeks fra og med `a` til `b`, altså $[a, b\\rangle $."
   ]
  },
  {
   "cell_type": "markdown",
   "metadata": {},
   "source": [
    "#### Sjekke om noe er i en liste\n",
    "\n",
    "For å sjekke om et objekt er i en liste kan vi bruke `in`-nøkkelordet."
   ]
  },
  {
   "cell_type": "code",
   "execution_count": 41,
   "metadata": {},
   "outputs": [
    {
     "name": "stdout",
     "output_type": "stream",
     "text": [
      "2 er en løsning!\n"
     ]
    }
   ],
   "source": [
    "løsninger = [2, 6]\n",
    "\n",
    "if 2 in løsninger:\n",
    "    print(\"2 er en løsning!\")"
   ]
  },
  {
   "cell_type": "markdown",
   "metadata": {},
   "source": [
    "Utsagnet `2 in løsninger` returnerer `True` fordi `2` er et element i `løsninger`."
   ]
  },
  {
   "cell_type": "markdown",
   "metadata": {},
   "source": [
    "(count-metoden)=\n",
    "#### Telle i lister\n",
    "\n",
    "For å telle antallet av et spesifikt objekt i en liste kan vi bruke `count()`-metoden til lister."
   ]
  },
  {
   "cell_type": "code",
   "execution_count": 42,
   "metadata": {},
   "outputs": [
    {
     "name": "stdout",
     "output_type": "stream",
     "text": [
      "Firere: 2\n",
      "Toere: 1\n"
     ]
    }
   ],
   "source": [
    "liste = [4, 5, 3, 4, 6, 3, 2]\n",
    "\n",
    "print(\"Firere:\", liste.count(4)) # Skriver ut hvor mange firere som er i listen\n",
    "print(\"Toere:\", liste.count(2)) # Skriver ut hvor mange toere som er i listen"
   ]
  },
  {
   "cell_type": "markdown",
   "metadata": {},
   "source": [
    "#### Sortere lister\n",
    "\n",
    "Vi kan få en sortert kopi av en liste ved å bruke `sorted()`-funksjonen. "
   ]
  },
  {
   "cell_type": "code",
   "execution_count": 43,
   "metadata": {},
   "outputs": [
    {
     "name": "stdout",
     "output_type": "stream",
     "text": [
      "[2, 3, 4, 9]\n",
      "['Arne', 'Bjarne', 'Cecilie']\n"
     ]
    }
   ],
   "source": [
    "tallliste = [3, 2, 9, 4]\n",
    "stringliste = [\"Bjarne\", \"Cecilie\", \"Arne\"]\n",
    "\n",
    "print(sorted(tallliste))\n",
    "print(sorted(stringliste))"
   ]
  },
  {
   "cell_type": "markdown",
   "metadata": {},
   "source": [
    "Hvis vi ønsker motsatt rekkefølge kan vi sette argumentet `reverse` til `True`."
   ]
  },
  {
   "cell_type": "code",
   "execution_count": 44,
   "metadata": {},
   "outputs": [
    {
     "name": "stdout",
     "output_type": "stream",
     "text": [
      "[9, 4, 3, 2]\n"
     ]
    }
   ],
   "source": [
    "talliste = [3, 2, 9, 4]\n",
    "\n",
    "print(sorted(talliste, reverse=True))"
   ]
  },
  {
   "cell_type": "markdown",
   "metadata": {},
   "source": [
    "#### Reversere lister\n",
    "\n",
    "Vi kan få en reversert kopi av en liste ved å bruker `reversed()`-funksjonen.\n"
   ]
  },
  {
   "cell_type": "code",
   "execution_count": 45,
   "metadata": {},
   "outputs": [
    {
     "name": "stdout",
     "output_type": "stream",
     "text": [
      "[4, 3, 2, 1]\n"
     ]
    }
   ],
   "source": [
    "liste = [1, 2, 3, 4]\n",
    "\n",
    "print(list(reversed(liste)))"
   ]
  },
  {
   "cell_type": "markdown",
   "metadata": {},
   "source": [
    "#### Konvertere til og fra lister\n",
    "\n",
    "Vi ønsker ofte å lage lister av objekter for å kunne bruke metoder som å telle, sortere og reversere.\n",
    "\n",
    "##### Tekst til lister\n",
    "\n",
    "Vi kan konvertere tekst til lister ved å bruke `list()`-funksjonen."
   ]
  },
  {
   "cell_type": "code",
   "execution_count": 46,
   "metadata": {},
   "outputs": [
    {
     "name": "stdout",
     "output_type": "stream",
     "text": [
      "['P', 'a', 'r', 'a', 'l', 'l', 'e', 'l', 'l', 'o', 'g', 'r', 'a', 'm']\n",
      "Antall med bokstav l: 4\n"
     ]
    }
   ],
   "source": [
    "tekst = \"Parallellogram\"\n",
    "tekst_liste = list(tekst)\n",
    "\n",
    "print(tekst_liste)\n",
    "print(\"Antall med bokstav l:\", tekst_liste.count(\"l\"))"
   ]
  },
  {
   "cell_type": "markdown",
   "metadata": {},
   "source": [
    "##### Tall til lister\n",
    "\n",
    "Hvis vi skal gjøre om tall til lister, må vi gjøre de om til strings først."
   ]
  },
  {
   "cell_type": "code",
   "execution_count": 47,
   "metadata": {},
   "outputs": [
    {
     "name": "stdout",
     "output_type": "stream",
     "text": [
      "456\n",
      "['4', '5', '6']\n"
     ]
    }
   ],
   "source": [
    "tall = 456\n",
    "\n",
    "print(tall)\n",
    "print(list(str(tall)))"
   ]
  },
  {
   "cell_type": "markdown",
   "metadata": {},
   "source": [
    "##### Lister til tekst\n",
    "\n",
    "Hvis vi ønsker å sette sammen en liste med strings til én sammensatt string kan vi bruke string-metoden `.join()`. Vi kan bestemme hvilken string vi ønsker mellom listeelementene, hvis vi ønsker det."
   ]
  },
  {
   "cell_type": "code",
   "execution_count": 48,
   "metadata": {},
   "outputs": [
    {
     "name": "stdout",
     "output_type": "stream",
     "text": [
      "Parallellogram\n",
      "['P', 'a', 'r', 'a', 'l', 'l', 'e', 'l', 'l', 'o', 'g', 'r', 'a', 'm']\n",
      "P_a_r_a_l_l_e_l_l_o_g_r_a_m\n",
      "P a r a l l e l l o g r a m\n",
      "margollellaraP\n"
     ]
    }
   ],
   "source": [
    "tekst = \"Parallellogram\"\n",
    "\n",
    "print(tekst)\n",
    "print(list(tekst))\n",
    "print(\"_\".join(list(tekst)))\n",
    "print(\" \".join(list(tekst)))\n",
    "print(\"\".join(reversed(list(tekst))))"
   ]
  },
  {
   "cell_type": "markdown",
   "metadata": {},
   "source": [
    "#### List comprehension\n",
    "\n",
    "La oss se på en mer kompakt måte å lage lister på."
   ]
  },
  {
   "cell_type": "code",
   "execution_count": 49,
   "metadata": {},
   "outputs": [
    {
     "name": "stdout",
     "output_type": "stream",
     "text": [
      "[0, 1, 2, 3, 4, 5, 6, 7, 8, 9]\n"
     ]
    }
   ],
   "source": [
    "liste = []\n",
    "\n",
    "for n in range(10):\n",
    "    liste.append(n)\n",
    "\n",
    "print(liste)"
   ]
  },
  {
   "cell_type": "markdown",
   "metadata": {},
   "source": [
    "Programmet over kan gjøres enda mer kompakt med *list comprehension*."
   ]
  },
  {
   "cell_type": "code",
   "execution_count": 50,
   "metadata": {},
   "outputs": [
    {
     "name": "stdout",
     "output_type": "stream",
     "text": [
      "[0, 1, 2, 3, 4, 5, 6, 7, 8, 9]\n"
     ]
    }
   ],
   "source": [
    "liste = [n for n in range(10)]\n",
    "print(liste)"
   ]
  },
  {
   "cell_type": "markdown",
   "metadata": {},
   "source": [
    "Wow, så enkelt 🤯\n",
    "\n",
    "Vi kan også legge til kriterier for listen."
   ]
  },
  {
   "cell_type": "code",
   "execution_count": 51,
   "metadata": {},
   "outputs": [
    {
     "name": "stdout",
     "output_type": "stream",
     "text": [
      "[0, 2, 4, 6, 8]\n"
     ]
    }
   ],
   "source": [
    "partall = [n for n in range(10) if n % 2 == 0]\n",
    "print(partall)"
   ]
  },
  {
   "cell_type": "markdown",
   "metadata": {},
   "source": [
    "````{admonition} Flere kule eksempler\n",
    ":class: hint, dropdown\n",
    "Her er noen flere kule eksempler på lister vi kan lage.\n",
    "\n",
    "```\n",
    "from random import choice\n",
    "bits = [choice([0, 1]) for x in range(10)]\n",
    "print(bits)\n",
    "``` \n",
    "\n",
    "Dette programmet gir oss en liste med tilfeldige *bits*. Altså `0` eller `1`. For eksempel `[0, 1, 0, 1, 1, 1, 1, 0, 0, 1]`.\n",
    "\n",
    "```\n",
    "navn = [\"Ruben\", \"Aleksander\", \"Nora\", \"Sveinung\", \"Oddvar\", \"Bård\"]\n",
    "navn_med_a = [x for x in navn if \"a\" in x or \"A\" in x]\n",
    "print(navn_med_a)\n",
    "```\n",
    "\n",
    "Dette programmet gir oss en liste over alle navnene som inneholder `\"a\"` eller `\"A\"` i listen `navn`. Det blir `['Aleksander', 'Nora', 'Oddvar']`\n",
    "\n",
    "```\n",
    "liste = [1, 2, 3]\n",
    "tekst_liste = [str(x) for x in liste]\n",
    "print(tekst_liste)\n",
    "```\n",
    "\n",
    "Dette programmet konverterer listen med tall om til en liste med strings. Det blir `[\"1\", \"2\", \"3\"]`\n",
    "````"
   ]
  },
  {
   "cell_type": "markdown",
   "metadata": {},
   "source": [
    "---\n",
    "\n",
    "#### Oppgaver\n",
    "\n",
    "````{admonition} Oppgave 1 🍲\n",
    ":class: task\n",
    "\n",
    "Lag en liste med flere forskjellige middager.\n",
    "\n",
    "```\n",
    "middager = []\n",
    "```\n",
    "\n",
    "1. Skriv ut den første middagen i listen.\n",
    "2. Skriv ut lengden til listen.\n",
    "3. Skriv ut den siste middagen i listen. Dette skal kunne fungere selv om man legger til flere middager i listen.\n",
    "4. Skriv ut en tilfeldig middag fra listen.\n",
    "5. Skriv ut en sortert versjon av listen i alfabetisk rekkefølge.\n",
    "6. Skriv ut en liste med alle middager som inneholder bokstaven `a`.\n",
    "````\n",
    "\n",
    "````{admonition} Oppgave 2 🐍\n",
    ":class: task\n",
    "\n",
    "Du har fått denne teksten\n",
    "\n",
    "```\n",
    "tekst = \"🐍🐍🦎🐊🐢🐍🐉🦕🦖🐊🦎🐢🐍🐍🐍🐊🦎🐉🐢🐍🐍🐍🐍🦎🐢🦎🐢🐍🐍🐢🐉🦕🐢🐍🐉🐊🐊🐍🦕🐢🦎🐊🐍🦕🦎🦖🦕🐍🦖🦖🐍🦖🐢🐢🐉🦕🐍\"\n",
    "```\n",
    "\n",
    "Kopier linjen inn i Python og bruk `count()`-metoden til å finne hvor mange slanger som skjuler seg i teksten.\n",
    "\n",
    "Svar: <input id=\"textInput\" type=\"text\"><a id=\"response\"></a>\n",
    "\n",
    "<script>\n",
    "document.getElementById(\"textInput\").addEventListener(\"keypress\", function(event) {\n",
    "  var inputText = this.value.trim().toLowerCase();\n",
    "  if (event.key === \"Enter\") {\n",
    "    if (inputText === \"18\") {\n",
    "      document.getElementById(\"response\").innerHTML = \" ✅\";\n",
    "    } else {\n",
    "      document.getElementById(\"response\").innerHTML = \" ❌\";\n",
    "    }\n",
    "  }\n",
    "});\n",
    "</script>\n",
    "```` \n",
    "\n",
    "```{admonition} Oppgave 3 🪞\n",
    ":class: task\n",
    "\n",
    "Tallet $11$ er det samme baklengs og forlengs. Tallet $42$ er ikke det.\n",
    "\n",
    "Vi kan anta at alle tallene fra og med $1$ til og med $9$ også er de samme baklengs og forlengs.\n",
    "\n",
    "Hva er summen av alle tallene under $1000$ hvor tallet er det samme baklengs og forlengs?\n",
    "\n",
    "Svar: <input id=\"oppg3\" type=\"text\"><a id=\"response2\"></a>\n",
    "\n",
    "<script>\n",
    "document.getElementById(\"oppg3\").addEventListener(\"keypress\", function(event) {\n",
    "  var inputText = this.value.trim().toLowerCase();\n",
    "  if (event.key === \"Enter\") {\n",
    "    if (inputText === \"50040\") {\n",
    "      document.getElementById(\"response2\").innerHTML = \" ✅\";\n",
    "    } else {\n",
    "      document.getElementById(\"response2\").innerHTML = \" ❌\";\n",
    "    }\n",
    "  }\n",
    "});\n",
    "</script>\n",
    "```\n",
    "\n",
    "`````{admonition} Oppgave 4 🔢\n",
    ":class: task\n",
    "\n",
    "En tverrsum (*digital sum*) er summen av sifrene i et tall. \n",
    "\n",
    "For eksempel er tverrsummen av $123 \\rightarrow 1+2+3 = 6$ og $456\\rightarrow 4+5+6 = 15$.\n",
    "\n",
    "a) Lag en funksjon `digsum(n)` som tar et heltall `n` og returnerer tverrsummen.\n",
    "\n",
    "````{admonition} Løsningsforslag\n",
    ":class: solution, dropdown\n",
    "```\n",
    "def digsum(n):\n",
    "    s = 0\n",
    "    # For hvert siffer\n",
    "    for siffer in str(n):\n",
    "        s += int(siffer)\n",
    "    return s\n",
    "```\n",
    "Alternativt kan vi bruke list comprehension\n",
    "```\n",
    "def digsum(n):\n",
    "    return sum([int(siffer) for siffer in str(n)])\n",
    "```\n",
    "````\n",
    "\n",
    "La oss fortsette å ta tverrsummen av tallet vi får som resultat helt til vi står igjen med ett ensifret heltall. Dette kan vi kalle for en gjentatt tverrsum, eller *digital root* på engelsk.\n",
    "\n",
    "For eksempel vil vi få $456\\rightarrow 4+5+6 = 15 \\rightarrow 1 + 5 = 6$.\n",
    "\n",
    "b) Lag en funksjon `digroot(n)` som tar et heltall `n` og returnerer den gjentatte tverrsummen.\n",
    "\n",
    "````{admonition} Løsningsforslag\n",
    ":class: solution, dropdown\n",
    "La oss bruke funksjonen `digsum(n)` fra a).\n",
    "```\n",
    "def digroot(n):\n",
    "    n_string = str(n)\n",
    "    # Mens vi har flere sifre enn 1\n",
    "    while len(n_string) > 1:\n",
    "        # Ta tversummen og sett n_string til den nye tverrsummen\n",
    "        n_string = str(digsum(n_string))\n",
    "    \n",
    "    # Returner n_string, som nå bare er ett siffer\n",
    "    return n_string\n",
    "```\n",
    "````\n",
    "\n",
    "````{admonition} Litt om gjentatt tverrsum 🤓\n",
    ":class: hint, dropdown\n",
    "\n",
    "La oss se på tverrsummen av de første $30$ tallene i tallsystemet.\n",
    "\n",
    "```\n",
    "print([digroot(n) for n in range(30)])\n",
    "```\n",
    "```\n",
    "['0', '1', '2', '3', '4', '5', '6', '7', '8', '9', '1', '2', '3', '4', '5', '6', '7', '8', '9', '1', '2', '3', '4', '5', '6', '7', '8', '9', '1', '2']\n",
    "```\n",
    "\n",
    "Ser du et mønster?\n",
    "\n",
    "Det viser seg faktisk at det finnes en enkel formel for å finne den gjentatte tverrsummen.\n",
    "\n",
    "```\n",
    "def digroot(n):\n",
    "    if num == 0:\n",
    "        return 0\n",
    "    else:\n",
    "        return n - 9*int((n- 1)/9)\n",
    "```\n",
    "\n",
    "Mer om dette kan du lese om på [Wikipedia (lenke)](https://en.wikipedia.org/wiki/Digital_root)\n",
    "````\n",
    "`````"
   ]
  }
 ],
 "metadata": {
  "kernelspec": {
   "display_name": "Python 3",
   "language": "python",
   "name": "python3"
  },
  "language_info": {
   "codemirror_mode": {
    "name": "ipython",
    "version": 3
   },
   "file_extension": ".py",
   "mimetype": "text/x-python",
   "name": "python",
   "nbconvert_exporter": "python",
   "pygments_lexer": "ipython3",
   "version": "3.12.4"
  }
 },
 "nbformat": 4,
 "nbformat_minor": 2
}
