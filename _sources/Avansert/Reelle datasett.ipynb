{
 "cells": [
  {
   "cell_type": "markdown",
   "metadata": {},
   "source": [
    "(Reelle datasett)=\n",
    "### Reelle datasett"
   ]
  },
  {
   "cell_type": "markdown",
   "metadata": {},
   "source": [
    "Vi har nå lært å åpne tekstfiler, splitte opp linjer og hente ut data. \n",
    "\n",
    "Som jegere i en data-jungel har vi lært å jakte, slakte og partere data-byttet vårt... men det viser seg at man ikke trenger å jakte lengre, fordi det finnes data-biff å få kjøpt ferdig partert i butikken -- i form av fint formaterte `.csv`- og `.json`-filer."
   ]
  },
  {
   "cell_type": "markdown",
   "metadata": {},
   "source": [
    "#### CSV-filer\n",
    "\n",
    "Filer med `.csv` er tekstfiler som følger en (litt slapp) standard.\n",
    "\n",
    "- Hver linje (rad) representerer et dataobjekt, for eksempel et spill, en bil eller en person.\n",
    "- Hver linje er delt opp i kolonner med et *delimiter*-tegn, i dette tilfellet `,`.\n",
    "\n",
    "```\n",
    "Plassering,Spillnavn,Konsoll\n",
    "1,\"Mario Kart DS\",DS\n",
    "2,\"Hey You, Pikachu!\",N64\n",
    "3,\"WarioWare, Inc.: Mega MicroGame$\",GBA\n",
    "4,\"Horse Life 4: My Horse, My Friend, My Champion\",3DS\n",
    "```\n",
    "\n",
    "Filer med `.csv` har ofte en første rad (eller flere rader) som forklarer hva hver kolonne representerer. Dette kalles en *header*. I tillegg brukes det noen ganger en annen delimiter enn `,`, for eksempel `;` eller `\\t`, til tross for at det heter *comma*-separated values."
   ]
  },
  {
   "cell_type": "code",
   "execution_count": 52,
   "metadata": {},
   "outputs": [
    {
     "name": "stdout",
     "output_type": "stream",
     "text": [
      "1 | Mario Kart DS                                      | DS\n",
      "2 | Hey You, Pikachu!                                  | N64\n",
      "3 | WarioWare, Inc.: Mega MicroGame$                   | GBA\n",
      "4 | Horse Life 4: My Horse, My Friend, My Champion     | 3DS\n"
     ]
    }
   ],
   "source": [
    "import csv\n",
    "\n",
    "with open(\"spill_enkel.csv\") as file:\n",
    "    file.readline() # Hopper over headeren\n",
    "    lines = list(csv.reader(file.readlines(), delimiter=\",\"))\n",
    "\n",
    "for x in lines:\n",
    "    print(f\"{x[0]} | {x[1]:<50} | {x[2]}\")"
   ]
  },
  {
   "cell_type": "markdown",
   "metadata": {},
   "source": [
    "Å skrive `delimiter=\",\"` er egentlig overflødig, fordi det er standard, men sånn kan man enkelt endre til en annen delimiter."
   ]
  },
  {
   "cell_type": "markdown",
   "metadata": {},
   "source": [
    "````{admonition} Hvorfor bruke csv.reader()? 🤔\n",
    ":class: hint\n",
    "Man *kan* håndtere en `.csv`-fil slik vi har lært å håndtere vanlige filer, ved å ta hver linje av filen og splitte linjene på et tegn.\n",
    "\n",
    "```\n",
    "'1,\"Mario Kart DS\",DS'     ->  ['1', 'Mario Kart DS', 'DS']           ✅\n",
    "'2,\"Hey You, Pikachu!\",PC' ->  ['2', '\"Hey You', 'Pikachu!\"', 'N64']  ❌\n",
    "``` \n",
    "\n",
    "... men hvis vi gjør det ser vi at linjene blir splittet feil.\n",
    "\n",
    "Når vi bruker `csv.reader()` ignoreres delimiteren når den står med mellomrom etter. Dette fikser problemet. Det er mange andre ting man kan gjøre med `csv.reader()`, men det kan du lese om i [dokumentasjonen (lenke)](https://docs.python.org/3/library/csv.html).\n",
    "````"
   ]
  },
  {
   "cell_type": "markdown",
   "metadata": {},
   "source": [
    "#### JSON-filer\n",
    "\n",
    "Filer med `.json` er tekstfiler som lagrer data på nesten samme måte som vi har gjort med [ordbøker (lenke)](ordbøker).\n",
    "\n",
    "```\n",
    "{\n",
    "    \"1\" : {\n",
    "        \"Navn\" : \"Mario Kart DS\",\n",
    "        \"Konsoll\" : \"DS\"\n",
    "    },\n",
    "    \"2\" : {\n",
    "        \"Navn\" : \"Hey You, Pikachu!\",\n",
    "        \"Konsoll\" : \"N64\"\n",
    "    },\n",
    "    \"3\" : {\n",
    "        \"Navn\" : \"WarioWare, Inc.: Mega MicroGame$\",\n",
    "        \"Konsoll\" : \"GBA\"\n",
    "    },\n",
    "    \"4\" : {\n",
    "        \"Navn\" : \"Horse Life 4: My Horse, My Friend, My Champion\",\n",
    "        \"Konsoll\" : \"3DS\"\n",
    "    }\n",
    "}\n",
    "```"
   ]
  },
  {
   "cell_type": "code",
   "execution_count": 53,
   "metadata": {},
   "outputs": [
    {
     "name": "stdout",
     "output_type": "stream",
     "text": [
      "1 | Mario Kart DS                                      | DS\n",
      "2 | Hey You, Pikachu!                                  | N64\n",
      "3 | WarioWare, Inc.: Mega MicroGame$                   | GBA\n",
      "4 | Horse Life 4: My Horse, My Friend, My Champion     | 3DS\n"
     ]
    }
   ],
   "source": [
    "import json\n",
    "\n",
    "with open(\"spill_enkel.json\") as file:\n",
    "    data = json.load(file)\n",
    "\n",
    "for x in data:\n",
    "    # x er hver \"plassering\", som er key for hvert spill. \n",
    "    print(f\"{x} | {data[x][\"Navn\"]:<50} | {data[x][\"Konsoll\"]}\")"
   ]
  }
 ],
 "metadata": {
  "kernelspec": {
   "display_name": "Python 3",
   "language": "python",
   "name": "python3"
  },
  "language_info": {
   "codemirror_mode": {
    "name": "ipython",
    "version": 3
   },
   "file_extension": ".py",
   "mimetype": "text/x-python",
   "name": "python",
   "nbconvert_exporter": "python",
   "pygments_lexer": "ipython3",
   "version": "3.12.4"
  },
  "orig_nbformat": 4
 },
 "nbformat": 4,
 "nbformat_minor": 2
}
