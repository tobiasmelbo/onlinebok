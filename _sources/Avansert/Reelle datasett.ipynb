{
 "cells": [
  {
   "cell_type": "markdown",
   "metadata": {},
   "source": [
    "(Reelle datasett)=\n",
    "### Reelle datasett"
   ]
  },
  {
   "cell_type": "markdown",
   "metadata": {},
   "source": [
    "Som jegere i en data-jungel har vi lært å jakte, slakte og partere data-byttet vårt -- men det viser seg at vi egentlig ikke hadde trengt å jakte lengre, fordi det finnes data-biff ferdig partert i butikken -- i form av fint formaterte `.csv`- og `.json`-filer.\n",
    "\n",
    "Med `pandas` er det å åpne og analysere datafiler en lek, men før vi ser på datafilene, må vi bli kjent med `DataFrame`-objekter."
   ]
  },
  {
   "cell_type": "markdown",
   "metadata": {},
   "source": [
    "#### Dataframes\n",
    "\n",
    "Den viktigste datatypen fra `pandas` er `DataFrame`.\n",
    "\n",
    "En dataframe er en ordbok hvor keys er navn for kolonner, og values er data i hver kolonne."
   ]
  },
  {
   "cell_type": "code",
   "execution_count": 1,
   "metadata": {},
   "outputs": [
    {
     "name": "stdout",
     "output_type": "stream",
     "text": [
      "     Navn      Class  Alder      Rase  Level\n",
      "0   Aelar     Ranger    120       Elf      5\n",
      "1  Thalia     Wizard     35     Human      7\n",
      "2  Gorath  Barbarian     28  Half-Orc      6\n",
      "3   Elara      Rogue     25  Halfling      4\n",
      "4   Borin     Cleric    150     Dwarf      8\n"
     ]
    }
   ],
   "source": [
    "import pandas as pd\n",
    "\n",
    "data = {\n",
    "    'Navn': ['Aelar', 'Thalia', 'Gorath', 'Elara', 'Borin'],\n",
    "    'Class': ['Ranger', 'Wizard', 'Barbarian', 'Rogue', 'Cleric'],\n",
    "    'Alder': [120, 35, 28, 25, 150],\n",
    "    'Rase': ['Elf', 'Human', 'Half-Orc', 'Halfling', 'Dwarf'],\n",
    "    'Level': [5, 7, 6, 4, 8]\n",
    "}\n",
    "\n",
    "df = pd.DataFrame(data)\n",
    "\n",
    "print(df)"
   ]
  },
  {
   "cell_type": "markdown",
   "metadata": {},
   "source": [
    "##### Søyler\n",
    "\n",
    "Man kan hente all data fra en søyle ved å bruke søylens navn."
   ]
  },
  {
   "cell_type": "code",
   "execution_count": 4,
   "metadata": {},
   "outputs": [
    {
     "name": "stdout",
     "output_type": "stream",
     "text": [
      "0     Aelar\n",
      "1    Thalia\n",
      "2    Gorath\n",
      "3     Elara\n",
      "4     Borin\n",
      "Name: Navn, dtype: object\n",
      "\n",
      "['Aelar', 'Thalia', 'Gorath', 'Elara', 'Borin']\n"
     ]
    }
   ],
   "source": [
    "print(df[\"Navn\"])\n",
    "print()\n",
    "print(list(df[\"Navn\"]))"
   ]
  },
  {
   "cell_type": "markdown",
   "metadata": {},
   "source": [
    "##### Rader\n",
    "\n",
    "Man kan hente en spesifikk rad ved å bruke `iloc()`."
   ]
  },
  {
   "cell_type": "code",
   "execution_count": 16,
   "metadata": {},
   "outputs": [
    {
     "name": "stdout",
     "output_type": "stream",
     "text": [
      "Navn      Borin\n",
      "Class    Cleric\n",
      "Alder       150\n",
      "Rase      Dwarf\n",
      "Level         8\n",
      "Name: 4, dtype: object\n"
     ]
    }
   ],
   "source": [
    "print(df.iloc[4])"
   ]
  },
  {
   "cell_type": "markdown",
   "metadata": {},
   "source": [
    "##### Filtrering\n",
    "\n",
    "Man kan også enkelt filtrere resultater."
   ]
  },
  {
   "cell_type": "code",
   "execution_count": 19,
   "metadata": {},
   "outputs": [
    {
     "name": "stdout",
     "output_type": "stream",
     "text": [
      "     Navn      Class  Alder      Rase  Level\n",
      "1  Thalia     Wizard     35     Human      7\n",
      "2  Gorath  Barbarian     28  Half-Orc      6\n",
      "4   Borin     Cleric    150     Dwarf      8\n"
     ]
    }
   ],
   "source": [
    "print(df[df[\"Level\"] >= 6]) # Henter ut alle som har level større enn eller likt 6"
   ]
  },
  {
   "cell_type": "markdown",
   "metadata": {},
   "source": [
    "##### Gjennomsnitt og sum\n",
    "\n",
    "Gjennomsnitt og sum finner man også lett."
   ]
  },
  {
   "cell_type": "code",
   "execution_count": 24,
   "metadata": {},
   "outputs": [
    {
     "name": "stdout",
     "output_type": "stream",
     "text": [
      "Gjennomsnittlig alder: 71.6 år\n",
      "Sum av hvert level: 30\n"
     ]
    }
   ],
   "source": [
    "print(f\"Gjennomsnittlig alder: {df['Alder'].mean()} år\")\n",
    "print(f\"Sum av hvert level: {df['Level'].sum()}\")"
   ]
  },
  {
   "cell_type": "markdown",
   "metadata": {},
   "source": [
    "##### Sortering \n",
    "\n",
    "Man kan sortere en DataFrame etter verdier."
   ]
  },
  {
   "cell_type": "code",
   "execution_count": 27,
   "metadata": {},
   "outputs": [
    {
     "name": "stdout",
     "output_type": "stream",
     "text": [
      "     Navn      Class  Alder      Rase  Level\n",
      "4   Borin     Cleric    150     Dwarf      8\n",
      "0   Aelar     Ranger    120       Elf      5\n",
      "1  Thalia     Wizard     35     Human      7\n",
      "2  Gorath  Barbarian     28  Half-Orc      6\n",
      "3   Elara      Rogue     25  Halfling      4\n"
     ]
    }
   ],
   "source": [
    "print(df.sort_values(by=\"Alder\", ascending=False))"
   ]
  },
  {
   "cell_type": "markdown",
   "metadata": {},
   "source": [
    "##### Plotting\n",
    "\n",
    "Det er også innebygd `matplotlib`-funksjonalitet i `pandas`. "
   ]
  },
  {
   "cell_type": "code",
   "execution_count": 31,
   "metadata": {},
   "outputs": [
    {
     "data": {
      "image/png": "[encoded data removed]",
      "text/plain": [
       "<Figure size 640x480 with 1 Axes>"
      ]
     },
     "metadata": {},
     "output_type": "display_data"
    }
   ],
   "source": [
    "import matplotlib.pyplot as plt\n",
    "\n",
    "df.plot(x=\"Navn\", y=[\"Alder\", \"Level\"], kind=\"bar\")\n",
    "plt.show()"
   ]
  },
  {
   "cell_type": "markdown",
   "metadata": {},
   "source": [
    "##### Lagre filer\n",
    "\n",
    "Når man har en dataframe, kan man enkelt lagre den som en `.csv` eller `.json`-fil."
   ]
  },
  {
   "cell_type": "markdown",
   "metadata": {},
   "source": [
    "```\n",
    "df.to_csv(\"adventurers.csv\", index=False)\n",
    "df.to_json(\"adventurers.json\", index=False)\n",
    "```"
   ]
  },
  {
   "cell_type": "markdown",
   "metadata": {},
   "source": [
    "#### CSV-filer\n",
    "\n",
    "Filer med `.csv` er tekstfiler som følger en (litt slapp) standard.\n",
    "\n",
    "- Hver linje (rad) representerer et dataobjekt, for eksempel et spill, en bil eller en person.\n",
    "- Hver linje er delt opp i kolonner med et *delimiter*- eller *separator*-tegn, i dette tilfellet `,`.\n",
    "\n",
    "```\n",
    "Plassering,Spillnavn,Konsoll\n",
    "1,\"Mario Kart DS\",DS\n",
    "2,\"Hey You, Pikachu!\",N64\n",
    "3,\"WarioWare, Inc.: Mega MicroGame$\",GBA\n",
    "4,\"Horse Life 4: My Horse, My Friend, My Champion\",3DS\n",
    "```\n",
    "\n",
    "Filer med `.csv` har ofte en første rad (eller flere rader) som forklarer hva hver kolonne representerer. Dette kalles en *header*. I tillegg brukes det noen ganger en annen delimiter enn `,`, for eksempel `;` eller `\\t`, til tross for at det heter *comma*-separated values."
   ]
  },
  {
   "cell_type": "code",
   "execution_count": 33,
   "metadata": {},
   "outputs": [
    {
     "name": "stdout",
     "output_type": "stream",
     "text": [
      "   Plassering                                       Spillnavn Konsoll\n",
      "0           1                                   Mario Kart DS      DS\n",
      "1           2                               Hey You, Pikachu!     N64\n",
      "2           3                WarioWare, Inc.: Mega MicroGame$     GBA\n",
      "3           4  Horse Life 4: My Horse, My Friend, My Champion     3DS\n"
     ]
    }
   ],
   "source": [
    "import pandas as pd\n",
    "\n",
    "df = pd.read_csv(\"spill_enkel.csv\")\n",
    "\n",
    "print(df)"
   ]
  },
  {
   "cell_type": "markdown",
   "metadata": {},
   "source": [
    "````{admonition} Spesifisere separator og desimaltegn\n",
    ":class: hint\n",
    "\n",
    "Man kan spesifisere separator og desimaltegn som ekstra argumenter til `read_csv()`.\n",
    "\n",
    "Dette er nyttig hvis vi har en datafil som bruker andre tegn for separator og komma.\n",
    "\n",
    "```\n",
    "2023;129,6;126,1;126,6;127,6;129,0;129,6;130,4;130,9;129,9;129,8;131,1;131,8;131,9\n",
    "2022;122,8;117,8;119,1;119,8;121,2;121,5;122,6;124,2;123,9;125,6;126,0;125,8;125,9\n",
    "2021;116,1;114,1;114,9;114,6;115,0;114,9;115,3;116,3;116,3;117,5;117,2;118,1;118,9\n",
    "```\n",
    "```\n",
    "df = pd.read_csv(\"datafil.csv\", sep=\";\", decimal=\",\")\n",
    "```\n",
    "````"
   ]
  },
  {
   "cell_type": "markdown",
   "metadata": {},
   "source": [
    "#### JSON-filer\n",
    "\n",
    "Filer med `.json` er tekstfiler som lagrer data på nesten samme måte som vi har gjort med [ordbøker (lenke)](ordbøker).\n",
    "\n",
    "```\n",
    "{\n",
    "    \"1\" : {\n",
    "        \"Navn\" : \"Mario Kart DS\",\n",
    "        \"Konsoll\" : \"DS\"\n",
    "    },\n",
    "    \"2\" : {\n",
    "        \"Navn\" : \"Hey You, Pikachu!\",\n",
    "        \"Konsoll\" : \"N64\"\n",
    "    },\n",
    "    \"3\" : {\n",
    "        \"Navn\" : \"WarioWare, Inc.: Mega MicroGame$\",\n",
    "        \"Konsoll\" : \"GBA\"\n",
    "    },\n",
    "    \"4\" : {\n",
    "        \"Navn\" : \"Horse Life 4: My Horse, My Friend, My Champion\",\n",
    "        \"Konsoll\" : \"3DS\"\n",
    "    }\n",
    "}\n",
    "```"
   ]
  },
  {
   "cell_type": "code",
   "execution_count": 49,
   "metadata": {},
   "outputs": [
    {
     "name": "stdout",
     "output_type": "stream",
     "text": [
      "                     1                  2                                 3  \\\n",
      "Navn     Mario Kart DS  Hey You, Pikachu!  WarioWare, Inc.: Mega MicroGame$   \n",
      "Konsoll             DS                N64                               GBA   \n",
      "\n",
      "                                                      4  \n",
      "Navn     Horse Life 4: My Horse, My Friend, My Champion  \n",
      "Konsoll                                             3DS  \n",
      "\n",
      "Mario Kart DS\n"
     ]
    }
   ],
   "source": [
    "import pandas as pd\n",
    "\n",
    "df = pd.read_json(\"spill_enkel.json\")\n",
    "\n",
    "print(df)\n",
    "print()\n",
    "print(df[1][\"Navn\"]) # Henter navnet fra plassering 1"
   ]
  },
  {
   "cell_type": "markdown",
   "metadata": {},
   "source": [
    "````{admonition} Manglende data\n",
    ":class: hint\n",
    "\n",
    "Hvis man går gjennom en kolonne, kan man droppe de radene som ikke har data i den kolonnen ved å bruke `df.dropna()`-metoden.\n",
    "\n",
    "```\n",
    "Rating,Title,Console,Time(Optional)\n",
    "5,Bloodborne,PS4,16h54m19s\n",
    "4,Katamari Damacy,PS2,4h42m58s\n",
    "3,Dead Cells,PC,\n",
    "```\n",
    "```\n",
    "df = pd.read_csv(\"list.csv\")\n",
    "print(df[\"Time(Optional)\"].dropna())\n",
    "```\n",
    "```\n",
    "16h54m19s\n",
    "4h42m58s\n",
    "```\n",
    "````"
   ]
  },
  {
   "cell_type": "markdown",
   "metadata": {},
   "source": [
    "```{admonition} Dokumentasjonen\n",
    ":class: note\n",
    "\n",
    "Dokumentasjonen for `pandas` finner du [her (lenke)](https://pandas.pydata.org/docs/reference/frame.html).\n",
    "\n",
    "Husk, å kunne lese dokumentasjon er en viktig ferdighet for en aspirerende programmerer! 🤓\n",
    "```"
   ]
  },
  {
   "cell_type": "markdown",
   "metadata": {},
   "source": [
    "---\n",
    "\n",
    "#### Oppgaver\n",
    "\n",
    "````{admonition} Oppgave 1 🅰️\n",
    ":class: task\n",
    "\n",
    "Lag din egen DataFrame. Første kolonne skal være `Fag` og andre kolonne skal være `Karakter`. Du kan finne på fag og karakterer.\n",
    "- Finn snittkarakteren.\n",
    "- Lag et søylediagram med labels som navnene på fagene og verdiene (høydene) som karakterene.\n",
    "- Bruk `pandas` til å lagre dette som en datafil `karakterer.csv`.\n",
    "````\n",
    "\n",
    "`````{admonition} Oppgave 2 🎮\n",
    ":class: task\n",
    "\n",
    "Jeg har rundet hundrevis av spill og kategorisert de i en `.csv`-fil.\n",
    "\n",
    "Last ned filen [her (lenke)](https://raw.githubusercontent.com/tobiasmelbo/om_meg/main/list.csv)\n",
    "\n",
    "- Skriv ut antallet spill i listen.\n",
    "- Skriv ut fordelingen mellom 1-ere, 2-ere, 3-ere, 4-ere og 5-ere.\n",
    "- Skriv ut hvor mange spill det er til de $8$ mest populære spillkonsollene, i synkende rekkefølge.\n",
    "- (BONUS) Regn ut summen av de registrerte tidene i timer.\n",
    "\n",
    "````{admonition} Løsningsforslag\n",
    ":class: solution, dropdown\n",
    "\n",
    "```\n",
    "import pandas as pd\n",
    "from collections import Counter\n",
    "\n",
    "# DataFrame\n",
    "df = pd.read_csv(\"list.csv\")\n",
    "\n",
    "# Antall spill\n",
    "print(f\"-> Antall spill: {len(df)}\")\n",
    "\n",
    "# Fordeling av ratings\n",
    "rating_counter = Counter()\n",
    "for rating in df[\"Rating\"]:\n",
    "    rating_counter[rating] += 1\n",
    "print(f\"-> Ratings\")\n",
    "for n in range(1, 6):\n",
    "    print(f\"{n} : {rating_counter[n]}\")\n",
    "\n",
    "# Populære konsoller\n",
    "print(f\"-> Topp 8 konsoller\")\n",
    "console_counter = Counter()\n",
    "for console in df[\"Console\"]:\n",
    "    console_counter[console] += 1\n",
    "for x in console_counter.most_common(8):\n",
    "    print(f\"{x[0]:4} : {x[1]}\")\n",
    "\n",
    "# Total tid\n",
    "print(f\"-> Total tid:\")\n",
    "s = pd.to_timedelta(0)\n",
    "for x in df[\"Time(Optional)\"].dropna():\n",
    "    s += pd.to_timedelta(x)\n",
    "print(s)\n",
    "```\n",
    "```\n",
    "-> Antall spill: 498\n",
    "-> Ratings\n",
    "1 : 41\n",
    "2 : 91\n",
    "3 : 200\n",
    "4 : 134\n",
    "5 : 32\n",
    "-> Topp 8 konsoller\n",
    "PC   : 366\n",
    "PSX  : 18\n",
    "PS3  : 15\n",
    "X360 : 15\n",
    "SNES : 12\n",
    "GCN  : 12\n",
    "N64  : 10\n",
    "GBA  : 9\n",
    "-> Total tid:\n",
    "156 days 01:36:43\n",
    "```\n",
    "````\n",
    "`````\n",
    "\n",
    "`````{admonition} Oppgave 3 🏹\n",
    ":class: task\n",
    "\n",
    "Handelsmannen Knoteknut Glimretå er en handelsmann som selger utstyr til eventyrere.\n",
    "\n",
    "Last ned filen {download}`gnome_merchant_inventory.json`.\n",
    "\n",
    "Skriv ut en oversikt over de seks tingene han har mest av.\n",
    "`````\n",
    "\n",
    "\n",
    "`````{admonition} Oppgave 4 ✨\n",
    ":class: task\n",
    "\n",
    "Stjernestasjonen Epsilon-9 har et register over romskipene fra føderasjonen som har besøkt stasjonen.\n",
    "\n",
    "Last ned filen {download}`starship_registry.csv`.\n",
    "\n",
    "Skriv ut en fin tabell over alle besøkene i kronologisk rekkefølge.\n",
    "`````\n",
    "\n",
    "`````{admonition} Oppgave 5 🎬\n",
    ":class: task\n",
    "\n",
    "Norsk filmindustri har produsert noen sykt bra filmer gjennom tidene.\n",
    "\n",
    "Last ned filen {download}`filmer.csv`.\n",
    "\n",
    "- Lag en fin tabell. Brukeren skal kunne velge om man skal skrive ut i alfabetisk rekkefølge, eller etter utgivelse.\n",
    "- Skriv ut de tre mest sette filmene på kino.\n",
    "- Skriv ut de tre filmene med flest strømminger.\n",
    "`````"
   ]
  }
 ],
 "metadata": {
  "kernelspec": {
   "display_name": "Python 3",
   "language": "python",
   "name": "python3"
  },
  "language_info": {
   "codemirror_mode": {
    "name": "ipython",
    "version": 3
   },
   "file_extension": ".py",
   "mimetype": "text/x-python",
   "name": "python",
   "nbconvert_exporter": "python",
   "pygments_lexer": "ipython3",
   "version": "3.10.7"
  },
  "orig_nbformat": 4
 },
 "nbformat": 4,
 "nbformat_minor": 2
}
