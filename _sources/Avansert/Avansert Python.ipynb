{
 "cells": [
  {
   "cell_type": "markdown",
   "metadata": {},
   "source": [
    "(Avansert Python)=\n",
    "### Avansert Python 💪\n",
    "\n",
    ">*La oss temme Python-slangen 🐍*\n",
    "\n",
    "Vi skal\n",
    "- ... lære mer om `strings` og `lister` 📃\n",
    "- ... skrive til og lese fra filer 📂\n",
    "- ... lære om datatypene `mengder`, `tupler` og `ordbøker` 🗃️\n",
    "- ... jobbe med `.csv`- og `.json`-filer 📂\n",
    "- ... lese og lage *flytskjema* og *pseudokode* 💬\n",
    "- ... utfordre hjernen ved å jobbe med *rutenett* og *algoritmer* 🧠\n",
    "\n",
    "```{admonition} Til læreren 🧑‍🏫\n",
    ":class: note\n",
    "Denne modulen bygger videre på {ref}`Grunnleggende Python` og er ment for:\n",
    "\n",
    "- Elever som bruker Python 🐍 i Informasjonsteknologi 1 eller 2.\n",
    "- Spesielt interesserte elever i teoretisk matte og fysikk.\n",
    "- Lærere som vil bli gode og selvsikre kodere i Python.\n",
    "```"
   ]
  }
 ],
 "metadata": {
  "language_info": {
   "name": "python"
  }
 },
 "nbformat": 4,
 "nbformat_minor": 2
}
