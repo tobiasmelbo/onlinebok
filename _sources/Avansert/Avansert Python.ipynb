{
 "cells": [
  {
   "cell_type": "markdown",
   "metadata": {},
   "source": [
    "(Avansert Python)=\n",
    "### Avansert Python 💪\n",
    "\n",
    "*La oss temme Python-slangen 🐍 ...*\n",
    " \n",
    "```{admonition} Til læreren 🧑‍🏫\n",
    ":class: note\n",
    "Dette kapitlet bygger videre på kapitlet {ref}`Grunnleggende Python` og er ment til de som skal programmere mye... eller de som er litt ekstra nerd.\n",
    "```"
   ]
  }
 ],
 "metadata": {
  "language_info": {
   "name": "python"
  }
 },
 "nbformat": 4,
 "nbformat_minor": 2
}
