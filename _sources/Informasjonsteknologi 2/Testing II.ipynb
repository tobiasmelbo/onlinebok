{
 "cells": [
  {
   "cell_type": "markdown",
   "metadata": {},
   "source": [
    "(Testing II)=\n",
    "### Testing II\n",
    "  \n",
    "Når vi skal teste større ting er det hensiktsmessig å lage et *testprogram*. Det skal vi gjøre ved å bruke den innebygde pakken `unittest`.\n",
    "   \n",
    "#### Testing med `unittest`\n",
    "\n",
    "La oss ta utgangspunkt i programmet `sirkelregner.py`."
   ]
  },
  {
   "cell_type": "code",
   "execution_count": 1,
   "metadata": {},
   "outputs": [],
   "source": [
    "import math\n",
    "\n",
    "class Sirkel:\n",
    "    def __init__(self, r):\n",
    "        if r < 0:\n",
    "            raise ValueError(\"Radius kan ikke være negativ.\")\n",
    "        \n",
    "        self.r = r\n",
    "        self.areal = math.pi * self.r ** 2\n",
    "        self.omkrets = 2 * math.pi * self.r\n",
    "    \n",
    "    # Skalerer sirkelen med en faktor k\n",
    "    def skaler(self, k):\n",
    "        if type(k) not in [int, float]:\n",
    "            raise TypeError(\"Skaleringsfaktoren må være et tall.\")\n",
    "        elif k < 0:\n",
    "            raise ValueError(\"Skaleringsfaktoren kan ikke være negativ\")\n",
    "        \n",
    "        self.__init__(self.r * k)\n",
    "\n",
    "    # Returnerer en string når man printer objekter av klassen\n",
    "    def __str__(self):\n",
    "        return f\"Sirkel med radius: {self.r:.3f}, areal: {self.areal:.3f} og omkrets: {self.omkrets:.3f}\""
   ]
  },
  {
   "cell_type": "markdown",
   "metadata": {},
   "source": [
    "Nå skal vi lage et testprogram. Vi kommer til å kalle testprogrammet `test_sirkelregner.py`.\n",
    "\n",
    "Her er noen av tingene vi skal teste.\n",
    " \n",
    "- Vi skal få en `ValueError` dersom vi prøver å sette en negativ radius.\n",
    "- Vi skal få en `TypeError` dersom skaleringsfaktoren ikke er et tall.\n",
    "- Vi skal få en `ValueError` dersom skaleringsfaktoren er negativ.\n",
    "- Vi skal få areal og omkrets lik `0` dersom radius er lik `0`.\n",
    "- Arealet skal øke med en faktor `4` dersom vi skalerer med skaleringsfaktor `2`.\n",
    "- Omkretsen skal øke med en faktor `2` dersom vi skalerer med skaleringsfaktor `2`.\n",
    "\n",
    "Vårt testprogram `test_sirkelregner.py` kan se slik ut:"
   ]
  },
  {
   "cell_type": "code",
   "execution_count": 4,
   "metadata": {},
   "outputs": [],
   "source": [
    "import sirkelregner as sr\n",
    "import unittest, math\n",
    "\n",
    "class TestSirkelregner(unittest.TestCase):\n",
    "    # Testmetode for konstruktøren\n",
    "    def test_konstruktør(self):\n",
    "        # Sjekker at vi får ValueError med negativ radius\n",
    "        self.assertRaises(ValueError, sr.Sirkel, -1)\n",
    "\n",
    "        # Sjekker noen regneeksempler\n",
    "        self.assertAlmostEqual(sr.Sirkel(1).areal, math.pi)\n",
    "        self.assertEqual(sr.Sirkel(0).areal, 0)\n",
    "        self.assertAlmostEqual(sr.Sirkel(1).omkrets, 2*math.pi)\n",
    "        self.assertEqual(sr.Sirkel(0).omkrets, 0)\n",
    "\n",
    "    # Testmetode for skaleringsmetoden\n",
    "    def test_skalering(self):\n",
    "        # Lager et eksempel\n",
    "        sirkel = sr.Sirkel(1)\n",
    "\n",
    "        # Sjekker at vi får TypeError med feil type skaleringsfaktor\n",
    "        self.assertRaises(TypeError, sirkel.skaler, \"1\")\n",
    "\n",
    "        # Sjekker at vi får ValueError med negativ skaleringsfaktor\n",
    "        self.assertRaises(ValueError, sirkel.skaler, -1)\n",
    "\n",
    "        # Sjekker at skaleringen blir riktig\n",
    "        areal_før, omkrets_før = sirkel.areal, sirkel.omkrets\n",
    "        sirkel.skaler(2)\n",
    "        areal_etter, omkrets_etter = sirkel.areal, sirkel.omkrets\n",
    "        self.assertAlmostEqual(areal_etter, 4*areal_før)\n",
    "        self.assertAlmostEqual(omkrets_etter, 2*omkrets_før)"
   ]
  },
  {
   "cell_type": "markdown",
   "metadata": {},
   "source": [
    "For å kjøre testprogrammet bruker vi `python -m unittest test_sirkelregner.py` i terminalvinduet.\n",
    "\n",
    "Da får vi utskriften:\n",
    "\n",
    "```\n",
    "Ran 2 tests in 0.000s\n",
    "\n",
    "OK\n",
    "```\n",
    "\n",
    "Det betyr at testene gikk gjennom uten feil. Koden fungerer som forventet 👍"
   ]
  },
  {
   "cell_type": "markdown",
   "metadata": {},
   "source": [
    "---\n",
    "\n",
    "#### Oppgaver\n",
    "\n",
    "```{admonition} Oppgave 1 🌡️\n",
    ":class: task\n",
    "\n",
    "I denne oppgaven skal vi lage et testprogram før vi lager et program.\n",
    "\n",
    "Til slutt skal `temperatur.py` inneholde en klasse `Temperatur` som har en attributt `c` som skal tilsvare grader i celsius og settes i konstruktøren. \n",
    "\n",
    "`Temperatur` skal også ha to metoder. \n",
    "\n",
    "- `som_kelvin()` skal returnere temperaturen som kelvin. \n",
    "- `som_fahrenheit()` skal returnere temperaturen som fahrenheit.\n",
    "\n",
    "1. Lag to filer `temperatur.py` og `test_temperatur.py` i samme mappe.\n",
    "\n",
    "2. Sett opp `test_temperatur.py` og lag noen tomme testmetoder `test_konstruktør`, `test_som_fahrenheit` og `test_som_kelvin`. (Du kan bruke `pass` for å lage metoder som ikke gjør noen ting)\n",
    "\n",
    "Her er noen krav som du må teste med testmetodene dine.\n",
    "\n",
    "- Man skal få en `ValueError` dersom man setter temperaturen til `-273.15` eller under.\n",
    "- Man skal få en `TypeError` dersom temperaturen man setter ikke er et tall.\n",
    "- For en temperatur `0.0` skal man få ut `32.0` grader fahrenheit, og `237.15` grader kelvin.\n",
    "- For en temperatur `100.0` skal man få ut `212.0` grader fahrenheit og `373.15` grader kelvin.\n",
    "\n",
    "3. Lag `temperatur.py` og sjekk at alle testene går gjennom med `python -m unittest test_temperatur.py` underveis.\n",
    "```"
   ]
  }
 ],
 "metadata": {
  "kernelspec": {
   "display_name": "Python 3",
   "language": "python",
   "name": "python3"
  },
  "language_info": {
   "codemirror_mode": {
    "name": "ipython",
    "version": 3
   },
   "file_extension": ".py",
   "mimetype": "text/x-python",
   "name": "python",
   "nbconvert_exporter": "python",
   "pygments_lexer": "ipython3",
   "version": "3.10.7"
  }
 },
 "nbformat": 4,
 "nbformat_minor": 2
}
