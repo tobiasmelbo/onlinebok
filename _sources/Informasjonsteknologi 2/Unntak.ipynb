{
 "cells": [
  {
   "cell_type": "markdown",
   "metadata": {},
   "source": [
    "### Unntak\n",
    " \n",
    "Unntak (*exceptions*) har du sikkert sett før.  "
   ]
  },
  {
   "cell_type": "code",
   "execution_count": 1,
   "metadata": {},
   "outputs": [
    {
     "ename": "ZeroDivisionError",
     "evalue": "division by zero",
     "output_type": "error",
     "traceback": [
      "\u001b[1;31m---------------------------------------------------------------------------\u001b[0m",
      "\u001b[1;31mZeroDivisionError\u001b[0m                         Traceback (most recent call last)",
      "Cell \u001b[1;32mIn[1], line 1\u001b[0m\n\u001b[1;32m----> 1\u001b[0m \u001b[38;5;28mprint\u001b[39m(\u001b[38;5;241;43m1\u001b[39;49m\u001b[38;5;241;43m/\u001b[39;49m\u001b[38;5;241;43m0\u001b[39;49m)\n",
      "\u001b[1;31mZeroDivisionError\u001b[0m: division by zero"
     ]
    }
   ],
   "source": [
    "print(1/0) "
   ]
  },
  {
   "cell_type": "markdown",
   "metadata": {},
   "source": [
    "I koden over forsøker vi å dele på $0$. Det skaper en feilmelding med unntaket `ZeroDivisionError`.\n",
    "\n",
    "Det finnes en del andre unntak også, men her er en liste over noen av de mest typiske.\n",
    "  \n",
    "::::{grid} 2\n",
    ":gutter: 1\n",
    "\n",
    ":::{grid-item-card} IndexError\n",
    "```\n",
    "liste = [1, 2, 3]\n",
    "print(liste[3])\n",
    "```\n",
    ":::\n",
    "\n",
    ":::{grid-item-card} Forklaring\n",
    "Når en indeks er utenfor størrelsen av et indekserbart objekt.\n",
    ":::\n",
    "\n",
    ":::{grid-item-card} KeyError\n",
    "```\n",
    "ordbok = {\"A\":\"B\",\"B\":\"C\"}\n",
    "print(ordbok[\"D\"])\n",
    "```\n",
    ":::\n",
    "\n",
    ":::{grid-item-card} Forklaring\n",
    "Når man forsøker å finne verdien til en nøkkel som ikke er i ordboken.\n",
    ":::\n",
    "\n",
    ":::{grid-item-card} TypeError\n",
    "```\n",
    "print(\"🐍\" / 3)\n",
    "```\n",
    ":::\n",
    "\n",
    ":::{grid-item-card} Forklaring\n",
    "Når man bruker feil type. I eksempelet forsøker man å dele en string på et heltall.\n",
    ":::\n",
    "\n",
    ":::{grid-item-card} ValueError\n",
    "```\n",
    "import math\n",
    "print(sqrt(-2))\n",
    "```\n",
    ":::\n",
    "\n",
    ":::{grid-item-card} Forklaring\n",
    "Når man bruker en verdi som er utenfor et gitt definisjonsområde. For eksempel klarer ikke `math` å bruke `sqrt` på et negativt tall \n",
    "\n",
    "*`numpy` og `cmath` gir deg ikke feil, men et komplekst tall*.\n",
    ":::\n",
    "\n",
    ":::{grid-item-card} ZeroDivisionError\n",
    "```\n",
    "print(1/0)\n",
    "```\n",
    ":::\n",
    "\n",
    ":::{grid-item-card} Forklaring\n",
    "\"Å dele på null er tull\" ☝️🤓\n",
    ":::\n",
    "\n",
    ":::{grid-item-card} FileNotFoundError\n",
    "```\n",
    "with open(\"test.txt\") as file:\n",
    "    linjer = file.readlines()\n",
    "print(linjer)\n",
    "```\n",
    ":::\n",
    "\n",
    ":::{grid-item-card} Forklaring\n",
    "Når man prøver å finne en fil som ikke finnes.\n",
    ":::\n",
    "\n",
    "::::\n",
    "\n",
    "Alle disse unntakene arver fra et mer generelt unntak `Exception`."
   ]
  },
  {
   "cell_type": "markdown",
   "metadata": {},
   "source": [
    "#### Skape feilmeldinger med `raise`\n",
    "\n",
    "Noen ganger ønsker vi å skape feilmeldinger. Dette kan vi gjøre med nøkkelordet `raise`."
   ]
  },
  {
   "cell_type": "code",
   "execution_count": 1,
   "metadata": {},
   "outputs": [
    {
     "name": "stdout",
     "output_type": "stream",
     "text": [
      "Farten er 5.45 m/s\n"
     ]
    },
    {
     "ename": "ZeroDivisionError",
     "evalue": "Tidsargumentet kan ikke være lik 0.",
     "output_type": "error",
     "traceback": [
      "\u001b[1;31m---------------------------------------------------------------------------\u001b[0m",
      "\u001b[1;31mZeroDivisionError\u001b[0m                         Traceback (most recent call last)",
      "Cell \u001b[1;32mIn[1], line 8\u001b[0m\n\u001b[0;32m      5\u001b[0m         \u001b[38;5;28;01mraise\u001b[39;00m \u001b[38;5;167;01mZeroDivisionError\u001b[39;00m(\u001b[38;5;124m\"\u001b[39m\u001b[38;5;124mTidsargumentet kan ikke være lik 0.\u001b[39m\u001b[38;5;124m\"\u001b[39m)\n\u001b[0;32m      7\u001b[0m \u001b[38;5;28mprint\u001b[39m(fart(\u001b[38;5;241m60\u001b[39m, \u001b[38;5;241m11\u001b[39m))\n\u001b[1;32m----> 8\u001b[0m \u001b[38;5;28mprint\u001b[39m(\u001b[43mfart\u001b[49m\u001b[43m(\u001b[49m\u001b[38;5;241;43m60\u001b[39;49m\u001b[43m,\u001b[49m\u001b[43m \u001b[49m\u001b[38;5;241;43m0\u001b[39;49m\u001b[43m)\u001b[49m)\n",
      "Cell \u001b[1;32mIn[1], line 5\u001b[0m, in \u001b[0;36mfart\u001b[1;34m(strekning, tid)\u001b[0m\n\u001b[0;32m      3\u001b[0m     \u001b[38;5;28;01mreturn\u001b[39;00m \u001b[38;5;124mf\u001b[39m\u001b[38;5;124m\"\u001b[39m\u001b[38;5;124mFarten er \u001b[39m\u001b[38;5;132;01m{\u001b[39;00mstrekning\u001b[38;5;241m/\u001b[39mtid\u001b[38;5;132;01m:\u001b[39;00m\u001b[38;5;124m.2f\u001b[39m\u001b[38;5;132;01m}\u001b[39;00m\u001b[38;5;124m m/s\u001b[39m\u001b[38;5;124m\"\u001b[39m\n\u001b[0;32m      4\u001b[0m \u001b[38;5;28;01melse\u001b[39;00m:\n\u001b[1;32m----> 5\u001b[0m     \u001b[38;5;28;01mraise\u001b[39;00m \u001b[38;5;167;01mZeroDivisionError\u001b[39;00m(\u001b[38;5;124m\"\u001b[39m\u001b[38;5;124mTidsargumentet kan ikke være lik 0.\u001b[39m\u001b[38;5;124m\"\u001b[39m)\n",
      "\u001b[1;31mZeroDivisionError\u001b[0m: Tidsargumentet kan ikke være lik 0."
     ]
    }
   ],
   "source": [
    "def fart(strekning, tid):\n",
    "    if tid != 0:\n",
    "        return f\"Farten er {strekning/tid:.2f} m/s\"\n",
    "    else:\n",
    "        raise ZeroDivisionError(\"Tidsargumentet kan ikke være lik 0.\")\n",
    "\n",
    "print(fart(60, 11))\n",
    "print(fart(60, 0))"
   ]
  },
  {
   "cell_type": "markdown",
   "metadata": {},
   "source": [
    "Som vi ser regner programmet farten dersom `s=60` og `t=11`, men om vi setter `t=0` så sendes det et unntak `ZeroDivisionError` med den feilmeldingen som vi laget selv.\n",
    "\n",
    "Her er et eksempel med klasser og `TypeError`:"
   ]
  },
  {
   "cell_type": "code",
   "execution_count": null,
   "metadata": {},
   "outputs": [
    {
     "ename": "TypeError",
     "evalue": "Du kan bare legge til elever med denne metoden.",
     "output_type": "error",
     "traceback": [
      "\u001b[1;31m---------------------------------------------------------------------------\u001b[0m",
      "\u001b[1;31mTypeError\u001b[0m                                 Traceback (most recent call last)",
      "Cell \u001b[1;32mIn[17], line 23\u001b[0m\n\u001b[0;32m     21\u001b[0m lærer \u001b[38;5;241m=\u001b[39m Lærer(\u001b[38;5;124m\"\u001b[39m\u001b[38;5;124mEinar\u001b[39m\u001b[38;5;124m\"\u001b[39m, \u001b[38;5;124m\"\u001b[39m\u001b[38;5;124mGym\u001b[39m\u001b[38;5;124m\"\u001b[39m)\n\u001b[0;32m     22\u001b[0m klasse\u001b[38;5;241m.\u001b[39mlegg_til_elev(elev)\n\u001b[1;32m---> 23\u001b[0m \u001b[43mklasse\u001b[49m\u001b[38;5;241;43m.\u001b[39;49m\u001b[43mlegg_til_elev\u001b[49m\u001b[43m(\u001b[49m\u001b[43mlærer\u001b[49m\u001b[43m)\u001b[49m\n",
      "Cell \u001b[1;32mIn[17], line 17\u001b[0m, in \u001b[0;36mKlasse.legg_til_elev\u001b[1;34m(self, x)\u001b[0m\n\u001b[0;32m     15\u001b[0m     \u001b[38;5;28mself\u001b[39m\u001b[38;5;241m.\u001b[39melever\u001b[38;5;241m.\u001b[39mappend(x)\n\u001b[0;32m     16\u001b[0m \u001b[38;5;28;01melse\u001b[39;00m:\n\u001b[1;32m---> 17\u001b[0m     \u001b[38;5;28;01mraise\u001b[39;00m \u001b[38;5;167;01mTypeError\u001b[39;00m(\u001b[38;5;124m\"\u001b[39m\u001b[38;5;124mDu kan bare legge til elever med denne metoden.\u001b[39m\u001b[38;5;124m\"\u001b[39m)\n",
      "\u001b[1;31mTypeError\u001b[0m: Du kan bare legge til elever med denne metoden."
     ]
    }
   ],
   "source": [
    "class Elev:\n",
    "    def __init__(self, navn):\n",
    "        self.navn = navn\n",
    "\n",
    "class Lærer:\n",
    "    def __init__(self, navn, fag):\n",
    "        self.navn = navn\n",
    "\n",
    "class Klasse:\n",
    "    def __init__(self, navn):\n",
    "        self.elever = []\n",
    "\n",
    "    def legg_til_elev(self, x):\n",
    "        if isinstance(x, Elev):\n",
    "            self.elever.append(x)\n",
    "        else:\n",
    "            raise TypeError(\"Du kan bare legge til elever med denne metoden.\")\n",
    "\n",
    "klasse = Klasse(\"10B\")\n",
    "elev = Elev(\"Petter\")\n",
    "lærer = Lærer(\"Einar\", \"Gym\")\n",
    "klasse.legg_til_elev(elev)\n",
    "klasse.legg_til_elev(lærer)"
   ]
  },
  {
   "cell_type": "markdown",
   "metadata": {},
   "source": [
    "Vi får en hensiktsmessig feilmelding om vi bruker metoden på feil måte."
   ]
  },
  {
   "cell_type": "markdown",
   "metadata": {},
   "source": [
    "````{admonition} Hvordan hindre at objekter lages av en spesiell klasse\n",
    ":class: tip\n",
    "Noen ganger ønsker vi at man ikke skal kunne lage objekter av en klasse.\n",
    "\n",
    "For å hindre dette kan vi modifisere konstruktøren til å sende en feilmelding om man lager et objekt av samme `type()`.\n",
    "```\n",
    "class Kjøretøy:\n",
    "    def __init__(self, merke):\n",
    "        if type(self) == Kjøretøy:\n",
    "            raise Exception(\"Du kan ikke lage objekter av klassen Kjøretøy. Bruk subklassene i stedet.\")\n",
    "        self.merke = merke\n",
    "```\n",
    "Brukeren kan fortsatt lage objekter av subklassene, men om brukeren prøver å lage et objekt med \n",
    "```\n",
    "bil = Kjøretøy(\"Volvo\")\n",
    "```\n",
    "Så får brukeren feilmeldingen:\n",
    "```\n",
    "Exception: Du kan ikke lage objekter av klassen Kjøretøy. Bruk subklassene i stedet.\n",
    "```\n",
    "````"
   ]
  },
  {
   "cell_type": "markdown",
   "metadata": {},
   "source": [
    "#### Unngå feilmeldinger med `try` og `except`\n",
    "\n",
    "Vi kan *dodge* feilmeldinger ved å bruke `try` og `except` 🧍💨🤸💨🧍.\n",
    "\n",
    "Jeg vil lage et program hvor man har en ordbok som holder styr på hvem som har poeng i et spill. Etter en runde ønsker jeg å øke poengene til alle som er i listen `vinnere`, men hvis jeg prøver å øke poengene til noen som ikke er i ordboken, får jeg en `KeyError`."
   ]
  },
  {
   "cell_type": "code",
   "execution_count": 6,
   "metadata": {},
   "outputs": [
    {
     "ename": "KeyError",
     "evalue": "'Matheus'",
     "output_type": "error",
     "traceback": [
      "\u001b[1;31m---------------------------------------------------------------------------\u001b[0m",
      "\u001b[1;31mKeyError\u001b[0m                                  Traceback (most recent call last)",
      "Cell \u001b[1;32mIn[6], line 6\u001b[0m\n\u001b[0;32m      3\u001b[0m vinnere \u001b[38;5;241m=\u001b[39m [\u001b[38;5;124m\"\u001b[39m\u001b[38;5;124mYosef\u001b[39m\u001b[38;5;124m\"\u001b[39m, \u001b[38;5;124m\"\u001b[39m\u001b[38;5;124mMatheus\u001b[39m\u001b[38;5;124m\"\u001b[39m, \u001b[38;5;124m\"\u001b[39m\u001b[38;5;124mHannah\u001b[39m\u001b[38;5;124m\"\u001b[39m]\n\u001b[0;32m      5\u001b[0m \u001b[38;5;28;01mfor\u001b[39;00m x \u001b[38;5;129;01min\u001b[39;00m vinnere:\n\u001b[1;32m----> 6\u001b[0m     poeng[x] \u001b[38;5;241m+\u001b[39m\u001b[38;5;241m=\u001b[39m \u001b[38;5;241m1\u001b[39m\n",
      "\u001b[1;31mKeyError\u001b[0m: 'Matheus'"
     ]
    }
   ],
   "source": [
    "poeng = {\"Yosef\" : 1, \"Hannah\" : 1}\n",
    "\n",
    "vinnere = [\"Yosef\", \"Matheus\", \"Hannah\"]\n",
    "\n",
    "for x in vinnere:\n",
    "    poeng[x] += 1"
   ]
  },
  {
   "cell_type": "markdown",
   "metadata": {},
   "source": [
    "Hvis jeg får en `KeyError` betyr det at personen ikke er i ordboken. Da kan vi bruke `try` og `except` for å fange unntaket `KeyError`, og legge inn personen hvis det er tilfellet."
   ]
  },
  {
   "cell_type": "code",
   "execution_count": null,
   "metadata": {},
   "outputs": [
    {
     "name": "stdout",
     "output_type": "stream",
     "text": [
      "{'Yosef': 2, 'Hannah': 2, 'Matheus': 1}\n"
     ]
    }
   ],
   "source": [
    "poeng = {\"Yosef\" : 1, \"Hannah\" : 1}\n",
    "\n",
    "vinnere = [\"Yosef\", \"Matheus\", \"Hannah\"]\n",
    "\n",
    "for x in vinnere:\n",
    "    try:\n",
    "        poeng[x] += 1\n",
    "    except KeyError:\n",
    "        poeng[x] = 1\n",
    "\n",
    "print(poeng)"
   ]
  },
  {
   "cell_type": "markdown",
   "metadata": {},
   "source": [
    "---\n",
    "\n",
    "#### Oppgaver\n",
    "\n",
    "##### Oppgave 1 🐎\n",
    "\n",
    "Her er begynnelsen på et objektorientert program om en stall og noen dyr.\n",
    "\n",
    "```\n",
    "class Stall:\n",
    "    def __init__(self):\n",
    "        self.stallplasser = []\n",
    "    \n",
    "    def sett_inn(self, x):\n",
    "        self.stallplasser.append(x)\n",
    "\n",
    "class Hund:\n",
    "    def __init__(self, navn):\n",
    "        self.navn = navn\n",
    "\n",
    "class Hest:\n",
    "    def __init__(self, navn):\n",
    "        self.navn = navn\n",
    "```\n",
    "\n",
    "Modifiser klassen `Stall` slik at man får en feilmelding med `TypeError` dersom man prøver å kjøre `sett_inn` med et objekt som **ikke** er en `Hest`. \n",
    "\n",
    "Feilmeldingen skal også si hvilken type objekt du har forsøkt å legge inn som ikke passer.\n",
    "\n",
    "##### Oppgave 2 📚\n",
    "\n",
    "Lag en funksjon `unik_liste(liste)` som skal ta en sortert liste med tall som argument og returnere listen med bare unike elementer.\n",
    "\n",
    "```\n",
    "unik_liste([1, 1, 2, 2, 2, 3]) -> [1, 2, 3]\n",
    "unik_liste([0, 0, 5, 5, 10]) -> [0, 5, 10]\n",
    "unik_liste([1, 3, 3, 7]) -> [1, 3, 7]\n",
    "```\n",
    "\n",
    "Her kommer utfordringen.\n",
    "\n",
    "1. Du må gjøre det *in-place*. Det betyr at du bare kan modifisere den opprinnelige listen, og ikke lage en ny liste. `list.pop(n)` er et eksempel på en metode som fungerer in-place.\n",
    "2. Du kan ikke bruke `list(set(liste))` 😉\n",
    "\n",
    "```{admonition} Hint\n",
    ":class: note, dropdown\n",
    "\n",
    "Størrelsen på listen vil kunne endre seg underveis hvis vi bruker `list.pop(n)`. Kanskje en while-løkke passer her?\n",
    "\n",
    "Hvis listen krymper underveis i løkken vil vi kunne møte på et unntak `IndexError` når vi indekserer med `nums[n]`. Vet du om en måte å unngå dette unntaket?\n",
    "```\n",
    "\n",
    "````{admonition} Løsningsforslag\n",
    ":class: note, dropdown\n",
    "\n",
    "Her er et løsningsforslag.\n",
    "```\n",
    "def remove_duplicates(nums : list) -> list:\n",
    "    n = 0\n",
    "    prev = None\n",
    "    while n < len(nums):\n",
    "        try:\n",
    "            if nums[n] == prev:\n",
    "                nums.pop(n)\n",
    "            else:\n",
    "                prev = nums[n]\n",
    "                n += 1\n",
    "        except IndexError:\n",
    "            break\n",
    "    return nums\n",
    "```\n",
    "````"
   ]
  }
 ],
 "metadata": {
  "kernelspec": {
   "display_name": "Python 3",
   "language": "python",
   "name": "python3"
  },
  "language_info": {
   "codemirror_mode": {
    "name": "ipython",
    "version": 3
   },
   "file_extension": ".py",
   "mimetype": "text/x-python",
   "name": "python",
   "nbconvert_exporter": "python",
   "pygments_lexer": "ipython3",
   "version": "3.10.6"
  }
 },
 "nbformat": 4,
 "nbformat_minor": 2
}
