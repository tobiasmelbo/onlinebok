{
 "cells": [
  {
   "cell_type": "markdown",
   "metadata": {},
   "source": [
    "### Spill\n",
    "  \n",
    "Å lage spill er en fin måte å øve seg på objektorientert programmering. For å lage spill kommer vi til å bruke `pygame`-pakken. \n",
    "    \n",
    "Du kan finne dokumentasjonen til Pygame på [denne nettsiden](https://www.pygame.org/docs/).\n",
    "\n",
    "#### Et grunnleggende eksempel.\n",
    "  \n",
    "Her er et enkelt eksempel som viser hvordan vi kan sette opp et spill med `pygame`.\n",
    " \n",
    "```\n",
    "import pygame\n",
    " \n",
    "pygame.init()\n",
    "\n",
    "screen = pygame.display.set_mode((500, 500)) # Setter skjermen til 500x500 piksler.\n",
    "\n",
    "clock = pygame.time.Clock()\n",
    "\n",
    "running = True\n",
    "\n",
    "while running:\n",
    "    # Avslutter løkken\n",
    "    for event in pygame.event.get():\n",
    "        if event.type == pygame.QUIT:\n",
    "            running = False\n",
    "\n",
    "    # Fyller skjermen med hvit farge\n",
    "    screen.fill(\"white\")\n",
    "\n",
    "    \"\"\"\n",
    "    Her skal vi putte spillets logikk, som å tegne figurer og oppdatere posisjonen deres.\n",
    "    \"\"\"\n",
    "\n",
    "    # Oppdaterer hele skjermen\n",
    "    pygame.display.flip()\n",
    "\n",
    "    # Forsikrer at spillet kjører i maksimalt 60 FPS.\n",
    "    clock.tick(60)\n",
    "\n",
    "# Avslutter spillet\n",
    "pygame.quit()\n",
    "```"
   ]
  },
  {
   "cell_type": "markdown",
   "metadata": {},
   "source": [
    "Dette spillet viser en hvit skjerm og avslutter programmet om vi lukker vinduet."
   ]
  }
 ],
 "metadata": {
  "kernelspec": {
   "display_name": "Python 3",
   "language": "python",
   "name": "python3"
  },
  "language_info": {
   "codemirror_mode": {
    "name": "ipython",
    "version": 3
   },
   "file_extension": ".py",
   "mimetype": "text/x-python",
   "name": "python",
   "nbconvert_exporter": "python",
   "pygments_lexer": "ipython3",
   "version": "3.10.6"
  }
 },
 "nbformat": 4,
 "nbformat_minor": 2
}
