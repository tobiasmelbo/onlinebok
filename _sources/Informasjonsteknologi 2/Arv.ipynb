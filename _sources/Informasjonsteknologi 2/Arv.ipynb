{
 "cells": [
  {
   "cell_type": "markdown",
   "metadata": {},
   "source": [
    "### Arv\n",
    "  \n",
    "Arv er når man har en mer generell klasse som man lager subklasser av. Dette er veldig nyttig når vi skal modellere ting med objekter.\n",
    "   \n",
    "#### Eksempel: Bompengesystem\n",
    "\n",
    "I dette eksempelet skal vi lage et bompengesystem for ulike kjøretøy. Ulike kjøretøy betaler ofte ulikt.\n",
    "\n",
    "En bil er en form for kjøretøy. Hvis vi lager en klasse `Kjøretøy`, så vil vi at `Bil` skal *arve* fra denne klassen, fordi en bil også er et kjøretøy.\n",
    " \n",
    "`Bil` er en *subklasse* av `Kjøretøy`, mens `Kjøretøy` er bilers *superklasse*."
   ]
  },
  {
   "cell_type": "code",
   "execution_count": 3,
   "metadata": {},
   "outputs": [
    {
     "name": "stdout",
     "output_type": "stream",
     "text": [
      "Tut!\n"
     ]
    }
   ],
   "source": [
    "class Kjøretøy:\n",
    "    def __init__(self, merke):\n",
    "        self.merke = merke \n",
    "    \n",
    "    def tut(self):\n",
    "        print(\"Tut!\")\n",
    "\n",
    "class Bil(Kjøretøy):\n",
    "    def __init__(self, merke):\n",
    "        super().__init__(merke) # Arver data og metoder fra Kjøretøy\n",
    "        self.pris = 50\n",
    "\n",
    "bil = Bil(\"Toyota\")\n",
    "bil.tut()"
   ]
  },
  {
   "cell_type": "markdown",
   "metadata": {},
   "source": [
    "Vi ser at alle `Kjøretøy`-objekter skal ha et `merke` og kan tute med `tut()`. Selv om metoden `tut()` ikke står under `Bil`-klassen, så ser vi at `Bil`-objektet har arvet denne metoden fra `Kjøretøy`-klassen."
   ]
  },
  {
   "cell_type": "markdown",
   "metadata": {},
   "source": [
    "#### Å sjekke typen til et objekt\n",
    "\n",
    "`type()`-funksjonen lar oss sjekke om et objekt tilhører en spesifikk klasse."
   ]
  },
  {
   "cell_type": "code",
   "execution_count": 2,
   "metadata": {},
   "outputs": [
    {
     "name": "stdout",
     "output_type": "stream",
     "text": [
      "<class '__main__.Bil'>\n",
      "True\n",
      "False\n"
     ]
    }
   ],
   "source": [
    "class Kjøretøy:\n",
    "    def __init__(self, merke):\n",
    "        self.merke = merke\n",
    "    \n",
    "    def tut(self):\n",
    "        print(\"Tut!\")\n",
    "\n",
    "class Bil(Kjøretøy):\n",
    "    def __init__(self, merke):\n",
    "        super().__init__(merke) # Arver data og metoder fra Kjøretøy\n",
    "        self.pris = 50\n",
    "\n",
    "bil = Bil(\"Toyota\")\n",
    "\n",
    "print(type(bil))\n",
    "print(type(bil) == Bil)"
   ]
  },
  {
   "cell_type": "markdown",
   "metadata": {},
   "source": [
    "Vi ser at typen til bil er `<class '__main__.Bil'>`. `type(bil) == Bil` er `True` fordi `bil` er et objekt av klassen `Bil`."
   ]
  },
  {
   "cell_type": "markdown",
   "metadata": {},
   "source": [
    "````{admonition} Hvordan sjekke superklasser\n",
    ":class: tip\n",
    "I eksempelet over vil `type(bil) == Kjøretøy` evalueres til `False`. Hvorfor?\n",
    "\n",
    "Vi kan tenke oss at `type()`-funksjonen sjekker *navnet* til klassen. Dette navnet er `\"Bil\"`, ikke `\"Kjøretøy\"`.\n",
    "\n",
    "Men en bil er jo et kjøretøy også. Hvis vi ønsker å sjekke typen på en klasse som også gir `True` for en superklasse kan vi bruke `isinstance()`-funksjonen.\n",
    "\n",
    "```\n",
    "print(isinstance(bil, Kjøretøy))\n",
    "```\n",
    "Programmet over vil evalueres til `True`.\n",
    "````"
   ]
  },
  {
   "cell_type": "markdown",
   "metadata": {},
   "source": [
    "#### Utvidet eksempel: Bompengesystem\n",
    "\n",
    "La oss utvide bompengesystemet."
   ]
  },
  {
   "cell_type": "code",
   "execution_count": 4,
   "metadata": {},
   "outputs": [
    {
     "name": "stdout",
     "output_type": "stream",
     "text": [
      "Pris for lastebil: 200\n",
      "Pris for bil: 50\n",
      "Pris for elbil: 25\n"
     ]
    }
   ],
   "source": [
    "class Kjøretøy:\n",
    "    def __init__(self, merke):\n",
    "        self.merke = merke\n",
    "    \n",
    "    def tut(self):\n",
    "        print(\"Tut!\")\n",
    "\n",
    "class Lastebil(Kjøretøy):\n",
    "    def __init__(self, merke):\n",
    "        super().__init__(merke)\n",
    "        self.pris = 200\n",
    "\n",
    "class Bil(Kjøretøy):\n",
    "    def __init__(self, merke):\n",
    "        super().__init__(merke)\n",
    "        self.pris = 50\n",
    "\n",
    "class ELBil(Bil):\n",
    "    def __init__(self, merke):\n",
    "        super().__init__(merke)\n",
    "        self.pris = 25\n",
    "\n",
    "lastebil = Lastebil(\"Mercedes\")\n",
    "bil = Bil(\"Toyota\")\n",
    "elbil = ELBil(\"Tesla\")\n",
    "\n",
    "print(\"Pris for lastebil:\", lastebil.pris)\n",
    "print(\"Pris for bil:\", bil.pris)\n",
    "print(\"Pris for elbil:\", elbil.pris)"
   ]
  },
  {
   "cell_type": "markdown",
   "metadata": {},
   "source": [
    "Studer eksempelet nøye. \n",
    "\n",
    "Vi ser at `Lastebil` og `Bil` arver fra `Kjøretøy` og har sine egne priser. `ELBil` arver fra `Bil` og har halvparten av prisen til `Bil`."
   ]
  },
  {
   "cell_type": "markdown",
   "metadata": {},
   "source": [
    "#### Objektorienterte modeller: UML\n",
    "\n",
    "Når vi har en del klasser som arver fra hverandre kan det være hensiktsmessig å lage en oversikt, en *modell*.\n",
    "\n",
    "I UML-diagrammer er det vanlig å representere klasser som bokser med tre deler; en del for navnet til klassen, en del for attributtene og en del for metodene. Pilene representerer arv. Subklasser har piler som peker til superklasser.\n",
    "\n",
    "```{mermaid}\n",
    "---\n",
    "title: Klassediagram/UML\n",
    "---\n",
    "classDiagram\n",
    "\tclass Kjøretøy\n",
    "\tKjøretøy : +str merke\n",
    "\tKjøretøy : +tut()\n",
    "\tclass Lastebil\n",
    "\tLastebil : +int pris\n",
    "\tclass Bil\n",
    "\tBil : +int pris\n",
    "\tclass ELBil\n",
    "\tELBil : +int pris\n",
    "\tKjøretøy <|-- Lastebil\n",
    "\tKjøretøy <|-- Bil\n",
    "\tBil <|-- ELBil\n",
    "```\n",
    "\n",
    "Denne modellen viser hvilke klasser som arver fra hvilke. Dette kalles et *klassehierarki*. Desto lengre nedover i modellen vi kommer, desto mer *spesialiserte* blir klassene. Det vil si at klassene får flere, mere spesifikke, egenskaper. Beveger vi oss oppover i modellen blir klassene mer *generaliserte*. Det vil si at klassene får færre, mer generelle, egenskaper.\n",
    "\n",
    "For å lage modeller anbefaler jeg å bruke [Draw.io](https://draw.io/).\n",
    "\n",
    "##### Inneholderklasser\n",
    "En annen relasjon mellom klasser er at en klasse kan inneholde en annen klasse. Det kan vi også vise i modellene våre.\n",
    "\n",
    "La oss se på et eksempel."
   ]
  },
  {
   "cell_type": "code",
   "execution_count": 3,
   "metadata": {},
   "outputs": [],
   "source": [
    "class Elev:\n",
    "    def __init__(self, navn):\n",
    "        self.navn = navn\n",
    "\n",
    "class SkoleKlasse:\n",
    "    def __init__(self, navn):\n",
    "        self.navn = navn\n",
    "        self.elever = []\n",
    "\n",
    "    def legg_til(self, elev : Elev):\n",
    "        self.elever.append(elev)\n",
    "\n",
    "klasse = SkoleKlasse(\"VG3\")\n",
    "klasse.legg_til(Elev(\"Omar\"))\n",
    "klasse.legg_til(Elev(\"Theodor\"))"
   ]
  },
  {
   "cell_type": "markdown",
   "metadata": {},
   "source": [
    "For å representere at en klasse kan inneholde andre klasser kan vi bruke en egen pil.\n",
    "\n",
    "```{mermaid}\n",
    "---\n",
    "title: Klassediagram/UML\n",
    "---\n",
    "classDiagram\n",
    "\tclass Elev\n",
    "    Elev : +str navn\n",
    "    class SkoleKlasse\n",
    "    SkoleKlasse : +str navn\n",
    "    SkoleKlasse : +list elever\n",
    "    SkoleKlasse : legg_til(Elev)\n",
    "    SkoleKlasse o-- Elev\n",
    "\n",
    "```"
   ]
  },
  {
   "cell_type": "markdown",
   "metadata": {},
   "source": [
    "---\n",
    "\n",
    "#### Oppgaver\n",
    "\n",
    "```{admonition} Oppgave 1 🚗 \n",
    ":class: task\n",
    "\n",
    "Kopier alle klassene fra eksempelet med bompengesystemet.\n",
    "\n",
    "1. Lag en funksjon `bom(x)` som tar inn et objekt `x`. Funksjonen skal skrive ut hvilken type kjøretøy som kjører igjennom bommen, hvilket merke den har og hva prisen blir.\n",
    "2. Test funksjonen ved å lage et objekt av hver type, `Bil`, `Lastebil` og `ELBil`.\n",
    "\n",
    "> Mulig utskrift: `En ELBil med merke Tesla har passert og må betale 25kr`.\n",
    "\n",
    "```\n",
    "\n",
    "```{admonition} Oppgave 2 🐄\n",
    ":class: task\n",
    "\n",
    "I denne oppgaven skal vi organisere husdyr.\n",
    "\n",
    "1. Lag en klasse `Husdyr`. Alle `Husdyr`-objekter skal ha en attributt `navn` som settes som argument til konstruktøren.\n",
    "2. Lag en klasse `Kylling`. Den skal arve fra `Husdyr` og ha en metode `lyd()` som returnerer `\"Kykkeliky!\"`.\n",
    "3. Lag to nye selvvalgte husdyr som også arver fra `Husdyr`-klassen. De skal også ha sin egen `lyd()`-metode som returnerer en egen lyd.\n",
    "4. Lag en modell av klassene som viser hvilke klasser som arver fra hvilke\n",
    "\n",
    "Fint! Nå skal vi organisere disse dyrene i en liste.\n",
    "\n",
    "5. Lag en liste med husdyr som heter `husdyrliste`. Legg inn et objekt av hver subklasse av `Husdyr` inn i denne listen.\n",
    "6. Lag en funksjon `hils(x)` som tar et objekt `x` som argument. Den skal skrive ut navnet til dyret og hvilken lyd det lager ved å bruke `lyd()`-metoden.\n",
    "7. Send hvert objekt i husdyrlisten inn i `hils()`-funksjonen.\n",
    "\n",
    "> Mulig utskrift: `Bertha sier Kykkeliky!`\n",
    "\n",
    "```\n",
    "\n",
    "```{admonition} Oppgave 3 💸\n",
    ":class: task\n",
    "\n",
    "I denne oppgaven skal vi lage et system for bankkontoer.\n",
    "\n",
    "1. Lag en klasse `Bankkonto`. En bankkonto skal ha en `saldo` (tall) som settes som argument til konstruktøren.\n",
    "2. Lag en klasse `Sparekonto`. En `Sparekonto` skal arve fra `Bankkonto` og i tillegg ha en `rente` på 3.5%. Det kan være lurt å lagre dette som et desimaltall istedet.\n",
    "3. Lag en klasse `Brukskonto`. En `Brukskonto` skal arve fra `Bankkonto` og i tillegg ha en `rente` på 0.5%.\n",
    "4. Lag en modell av klassene som viser hvilken klasse som arver fra hvilken.\n",
    "\n",
    "Nå skal vi legge til litt funksjonalitet.\n",
    "\n",
    "5. Utvid `Bankkonto` med en metode `oppdater()`. Denne skal regne ut hvor mye penger man skal få i rente og legge det til på saldoen.\n",
    "6. Opprett et `Sparekonto`-objekt og et `Brukskonto`-objekt med like mye penger i saldo. Hvor mye penger har hver konto i saldo etter fem oppdateringer?\n",
    "\n",
    "Bonus: Gjør slik at man får en feilmelding (eller bare printet til terminalen) når man forsøker å opprette et objekt av `Bankkonto` (altså ikke `Sparekonto` eller `Brukskonto`). Dette kan du gjøre ved å endre på `__init__()`-metoden eller `__new__()`-metoden.\n",
    "```\n",
    "\n",
    "```{admonition} Oppgave 4 🏫\n",
    ":class: task\n",
    "\n",
    "I denne oppgaven skal vi lage et system for skoler.\n",
    "\n",
    "1. Lag en klasse `Person` som skal ha attributten `navn` som settes som argument til konstruktøren.\n",
    "2. Lag en klasse `Elev` som skal være en subklasse av `Person`. `Elev` skal i tillegg ha attributten `karakterliste` som skal være en tom liste fra begynnelsen av.\n",
    "3. Legg til en metode `legg_til_karakter` som tar en argument `karakter` som heltall og setter det inn i `Elev`-objektets attributt `karakterliste`.\n",
    "4. Lag en klasse `Lærer` som skal være en subklasse av `Person`. `Lærer` skal i tillegg ha attributten `fagområde` som en string som skal settes som argument til konstruktøren (f.eks \"Matematikk/fysikk\" eller \"Elektro\").\n",
    "\n",
    "Nå skal vi lage en overordnet struktur for skolen.\n",
    "\n",
    "1. Lag en klasse `Klasse`. Et `Klasse`-objekt skal ha en attributt `navn` som en string som settes som argument til konstruktøren. Et `Klasse`-objekt skal i tillegg ha attributtene `elevliste` og `lærerliste` som skal være tomme lister fra begynnelsen av.\n",
    "2. Lag en metode `legg_til_person` som tar inn et objekt og skjekker om objektet er et `Elev`-objekt eller et `Lærer`-objekt og legger objektet inn i riktig liste.\n",
    "3. Lag en klasse `Skole`. Et `Skole`-objekt skal ha attributtene `navn` og `klasseliste`. `navn` skal settes som argument til konstruktøren og `klasseliste` skal være en tom liste fra begynnelsen av.\n",
    "4. Legg til en metode `legg_til_klasse` til `Skole` som tar et `Klasse`-objekt og legger det inn i `klasseliste`.\n",
    "\n",
    "Nå skal vi sørge for at vi får hensiktsmessig utskrift av objektene.\n",
    "\n",
    "5. Legg til `__str__`-metoder for `Elev`, `Lærer`, `Klasse` og `Skole` som returnerer hensiktsmessig utskrift av attributtene.\n",
    "6. Test klassene ved å lage objekter, bruke metoder og skrive ut objekter.\n",
    "7. Tegn klassehierarkiet.\n",
    "```\n",
    "\n",
    "````{admonition} Oppgave 5\n",
    ":class: task\n",
    "\n",
    "Implementer følgende klassediagram som et objektorientert program i Python 🐍\n",
    "\n",
    "```{mermaid}\n",
    "classDiagram\n",
    "\tclass Party\n",
    "\tParty : +list members\n",
    "\tParty : +add_member(member)\n",
    "\tParty : +remove_member(member) \n",
    "\tclass Member\n",
    "\tMember : +str name\n",
    "\tMember : +int max_HP\n",
    "\tMember : +int HP\n",
    "    Member : +int MP\n",
    "\tclass Warrior\n",
    "\tWarrior : +shout()\n",
    "\tclass Priest\n",
    "\tPriest : +heal(member)\n",
    "\tclass Rogue\n",
    "\tRogue : +hide()\n",
    "\tParty o-- Member\n",
    "\tMember <|-- Warrior\n",
    "\tMember <|-- Priest\n",
    "\tMember <|-- Rogue\n",
    "```\n",
    "\n",
    "Her er noen krav:\n",
    "- Metodene `shout()` og `hide()` skal bare printe noe til terminalvinduet.\n",
    "- Metoden `heal(member)` skal:\n",
    "    - øke `HP` for `member` med `5`, men bare opp til `max_HP`. \n",
    "    - bruke opp `5` `MP`, og bare funke dersom en `Priest` har mer enn `5` `MP`.\n",
    "- Legg til `__str__()`-metoder for å få en hensiktsmessig utskrift når man printer de ulike objektene.\n",
    "````"
   ]
  }
 ],
 "metadata": {
  "kernelspec": {
   "display_name": "Python 3",
   "language": "python",
   "name": "python3"
  },
  "language_info": {
   "codemirror_mode": {
    "name": "ipython",
    "version": 3
   },
   "file_extension": ".py",
   "mimetype": "text/x-python",
   "name": "python",
   "nbconvert_exporter": "python",
   "pygments_lexer": "ipython3",
   "version": "3.12.4"
  }
 },
 "nbformat": 4,
 "nbformat_minor": 2
}
