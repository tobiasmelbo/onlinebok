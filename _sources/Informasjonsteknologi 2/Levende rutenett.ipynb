{
 "cells": [
  {
   "cell_type": "markdown",
   "id": "8b260fad",
   "metadata": {},
   "source": [
    "### Levende rutenett\n",
    "  \n",
    "Hvordan i all verden kan noe så komplekst som *liv* oppstå ut fra forholdsvis enkle regler og lover fra kjemi og fysikk?\n",
    "\n",
    "Hvorfor i all verden snakker jeg om dette i et kapittel for faget Informasjonsteknologi 2?\n",
    "\n",
    "Alt vil bli klart, kjære leser, når vi tar et dypdykk i **Conway's Game of Life**...\n",
    "\n",
    "\n",
    "#### Game of Life\n",
    "\n",
    "**Game of Life** er et sett med regler for et rutenett som ble utviklet av John Horton Conway på 70-tallet. Hver rute i rutenettet anses som en *celle*, og hver celle kan være enten levende eller død. Reglene er som følger:\n",
    "\n",
    "Naboer | Oppdatering\n",
    "---|---\n",
    "Færre enn to levende naboer | Dør\n",
    "To eller tre levende naboer | Fortsetter å leve\n",
    "Flere enn tre levende naboer | Dør\n",
    "Død, men med akkurat tre levende naboer | Kommer til live\n",
    "\n",
    "```{admonition} Oppgave: Lag Game of Life\n",
    ":class: task\n",
    "\n",
    "Under kommer et forslag på en løsning for Game of Life, men prøv gjerne selv først!\n",
    "```\n",
    "\n",
    "Her er "
   ]
  }
 ],
 "metadata": {
  "language_info": {
   "name": "python"
  }
 },
 "nbformat": 4,
 "nbformat_minor": 5
}
