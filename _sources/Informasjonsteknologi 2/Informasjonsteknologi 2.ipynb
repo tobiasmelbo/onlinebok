{
 "cells": [
  {
   "cell_type": "markdown",
   "metadata": {},
   "source": [
    "(Informasjonsteknologi 2)=\n",
    "# Informasjonsteknologi 2 💾\n",
    " \n",
    "I dette kapitlet skal vi jobbe med noen ting som er relevant for Informasjonsteknologi 2. Det er også lov å følge kapitlet selv om man ikke har IT2 🤓.\n",
    "   \n",
    "Vi skal lære å\n",
    "  \n",
    "- bruke klasser, programmere objektorientert og lage objektorienterte modeller 🚗\n",
    "- lage egne pakker og dokumentasjon 📦📄\n",
    "- bruke strategier for testing av programkode ✅\n",
    "- ... og å lage spill og grafikk med `pygame`-pakken 👾\n",
    " \n",
    "```{admonition} Til læreren 🧑‍🏫\n",
    ":class: note\n",
    "Man bør ha vært gjennom {ref}`Grunnleggende Python`, {ref}`Avansert Python` og {ref}`Dataanalyse og plotting` før man begynner på dette kapittelet.\n",
    "```"
   ]
  }
 ],
 "metadata": {
  "language_info": {
   "name": "python"
  }
 },
 "nbformat": 4,
 "nbformat_minor": 2
}
