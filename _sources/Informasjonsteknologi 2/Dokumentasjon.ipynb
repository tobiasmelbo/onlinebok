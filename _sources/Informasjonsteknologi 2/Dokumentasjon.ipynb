{
 "cells": [
  {
   "cell_type": "markdown",
   "metadata": {},
   "source": [
    "(Dokumentasjon)=\n",
    "### Dokumentasjon\n",
    "      \n",
    "God, gjenbrukbar kode bør ha god dokumentasjon. Å skrive dokumentasjon gjør at andre kan bruke koden vår uten å måtte lese hele kildekoden. "
   ]
  },
  {
   "cell_type": "markdown",
   "metadata": {},
   "source": [
    "#### Type hints\n",
    " \n",
    "I funksjoner og metoder trenger vi ikke å definere hvilken type data vi forventer som argument, og heller ikke hvilken type data som funksjonen returnerer. Det er vi nødt til i andre språk som Java. La oss se på et eksempel."
   ]
  },
  {
   "cell_type": "code",
   "execution_count": 1,
   "metadata": {},
   "outputs": [
    {
     "name": "stdout",
     "output_type": "stream",
     "text": [
      "Linnea hilser på Beate\n"
     ]
    }
   ],
   "source": [
    "class Elev:\n",
    "    def __init__(self, navn):\n",
    "        self.navn = navn\n",
    "      \n",
    "    def hils(self, kompis_navn):\n",
    "        return f\"{self.navn} hilser på {kompis_navn}\"\n",
    "\n",
    "elev = Elev(\"Linnea\")\n",
    "print(elev.hils(\"Beate\"))"
   ]
  },
  {
   "cell_type": "markdown",
   "metadata": {},
   "source": [
    "`hils()`-metoden skal ta en string `kompis_navn` og returnere en string `f{self.navn} hilser på {kompis_navn}`, men det er ingenting som hindrer oss i å skrive inn feil datatyper og det er heller ingenting som sier oss at metoden skal returnere en string, med mindre vi leser koden.\n",
    "\n",
    "For å signalisere hvilke datatyper vi forventer som argument, og hvilke datatyper som returneres, kan vi bruke *type hints*."
   ]
  },
  {
   "cell_type": "code",
   "execution_count": null,
   "metadata": {},
   "outputs": [],
   "source": [
    "class Elev:\n",
    "    def __init__(self, navn):\n",
    "        self.navn = navn\n",
    "    \n",
    "    def hils(self, kompis_navn : str) -> str:\n",
    "        return f\"{self.navn} hilser på {kompis_navn}\""
   ]
  },
  {
   "cell_type": "markdown",
   "metadata": {},
   "source": [
    "Der det står `kompis_navn : str` mener vi altså at variabelen med navn `kompis_navn` burde være en `str`. Pilen `-> str` betyr at funksjonen skal returnere en `str`. Dette sier til brukeren hva som returneres og hva som skal puttes inn som argument. Dette vises for eksempel i VSCode og dokumentasjonen vi lager senere."
   ]
  },
  {
   "cell_type": "markdown",
   "metadata": {},
   "source": [
    "#### Lage og bruke programmer i andre programmer\n",
    "\n",
    "Det er enkelt å lage og bruke programmer i andre programmer. Vi lager først en Python-fil som definerer funksjoner og klasser, og deretter bruker vi `import` for å hente inn klassene og funksjonene til et annet program.\n",
    "\n",
    "La oss lage et program som regner på sirkler."
   ]
  },
  {
   "cell_type": "code",
   "execution_count": 2,
   "metadata": {},
   "outputs": [],
   "source": [
    "# sirkelregner.py\n",
    "\n",
    "import math\n",
    "\n",
    "class Sirkel:\n",
    "    # Konstruktøren\n",
    "    def __init__(self, r : float):\n",
    "        self.r = r\n",
    "        self.areal = math.pi * self.r ** 2\n",
    "        self.omkrets = 2 * math.pi * self.r\n",
    "    \n",
    "    # Skalerer sirkelen med en faktor k\n",
    "    def skaler(self, k : float):\n",
    "        self.__init__(self.r * k)\n",
    "\n",
    "    # Returnerer en string når man printer objekter av klassen\n",
    "    def __str__(self) -> str:\n",
    "        return f\"Sirkel med radius: {self.r}, areal: {round(self.areal, 2)} og omkrets: {round(self.omkrets, 2)}\"\n"
   ]
  },
  {
   "cell_type": "markdown",
   "metadata": {},
   "source": [
    "Hvis vi lagrer koden over som `sirkelregner.py` kan vi enkelt bruke `import` for å hente innholdet til et annet program. Dette kan vi gjøre på noen forskjellige måter:\n",
    "\n",
    "- Vi kan bruke `import sirkelregner` og deretter bruke `sirkelregner.Sirkel()`.\n",
    "- Vi kan bruke `import sirkelregner as sr` og deretter bruke `sr.Sirkel()`.\n",
    "- Vi kan bruke `from sirkelregner import Sirkel` og deretter bruke `Sirkel()`.\n",
    "\n",
    "Siden pakken bare inneholder én klasse velger jeg å bruke siste alternativ."
   ]
  },
  {
   "cell_type": "code",
   "execution_count": 3,
   "metadata": {},
   "outputs": [
    {
     "name": "stdout",
     "output_type": "stream",
     "text": [
      "Sirkel med radius: 1, areal: 3.14 og omkrets: 6.28\n",
      "Sirkel med radius: 2, areal: 12.57 og omkrets: 12.57\n"
     ]
    }
   ],
   "source": [
    "from sirkelregner import Sirkel\n",
    "\n",
    "sirkel = Sirkel(1) # Lager et Sirkel-objekt\n",
    "print(sirkel) # Skriver ut Sirkel-objektet\n",
    "sirkel.skaler(2) # Skalerer Sirkel-objektet med faktor 2\n",
    "print(sirkel) # Skriver ut Sirkel-objektet"
   ]
  },
  {
   "cell_type": "markdown",
   "metadata": {},
   "source": [
    "Som vi ser kan vi enkelt importere `Sirkel`-klassen og bruke den i et annet program. Det avhenger så klart av at vi vet hvordan vi skal bruke `sirkelregner`. Hvis vi skal formidle hvordan en pakke fungerer, må vi skrive en god dokumentasjon."
   ]
  },
  {
   "cell_type": "markdown",
   "metadata": {},
   "source": [
    "#### Dokumentasjon med docstrings\n"
   ]
  },
  {
   "cell_type": "markdown",
   "metadata": {},
   "source": [
    "Vi kan enkelt skrive dokumentasjonen inn i koden ved å bruke `\"\"\"`-kommentarer. Dette er en standard som er støttet av Python. Akkurat hvordan man formaterer setningene i kommentarene er det flere ulike konvensjoner for. I dette eksempelet vil vi bruke konvensjonen *Google Docstrings*.\n",
    "\n",
    "Her kommer et eksempel av `sirkelregner.py` skrevet med docstrings. Legg merke til hvordan man kan spesifisere attributter, args (argumenter) og return-verdier."
   ]
  },
  {
   "cell_type": "code",
   "execution_count": 4,
   "metadata": {},
   "outputs": [],
   "source": [
    "\"\"\"Dette programmet gir en klasse som gjør at man kan lage et skalerbart sirkelobjekt.\n",
    "\n",
    "Typisk eksempel på bruk:\n",
    "\n",
    "    sirkel = Sirkel(1)\n",
    "    print(sirkel)\n",
    "    sirkel.skaler(2)\n",
    "    print(sirkel)\n",
    "\"\"\"\n",
    "\n",
    "import math\n",
    "\n",
    "class Sirkel:\n",
    "    \"\"\"En klasse som håndterer sirkelobjekter\n",
    "    \n",
    "    Attributes:\n",
    "        r: en radius som et tall.\n",
    "        areal: arealet regnet fra radius\n",
    "        omkrets: omkretsen regnet fra radius\n",
    "    \"\"\"\n",
    "\n",
    "    # Konstruktøren\n",
    "    def __init__(self, r : float):\n",
    "        \"\"\"Initialiserer et sirkelobjekt med en radius r.\n",
    "        \n",
    "        Args:\n",
    "            r: en radius som et tall\n",
    "        \"\"\"\n",
    "        self.r = r\n",
    "        self.areal = math.pi * self.r ** 2\n",
    "        self.omkrets = 2 * math.pi * self.r\n",
    "    \n",
    "    # Skalerer sirkelen med en faktor k\n",
    "    def skaler(self, k : float):\n",
    "        \"\"\"Skalerer sirkelobjektet med en faktor k.\n",
    "        \n",
    "        Args:\n",
    "            k: en faktor (tall) som skal ganges med radius.\n",
    "        \"\"\"\n",
    "        self.__init__(self.r * k)\n",
    "\n",
    "    # Returnerer en string når man printer objekter av klassen\n",
    "    def __str__(self) -> str:\n",
    "        \"\"\"Gir en string når man printer sirkelobjekter.\n",
    "        \n",
    "        Returns:\n",
    "            En string som inneholder radius, areal og omkrets av sirkelen.    \n",
    "        \"\"\"\n",
    "        return f\"Sirkel med radius: {self.r}, areal: {round(self.areal, 2)} og omkrets: {round(self.omkrets, 2)}\""
   ]
  },
  {
   "cell_type": "markdown",
   "metadata": {},
   "source": [
    "Vi kan nå enkelt hente hele dokumentasjonen til dette programmet ved å bruke `help()`-funksjonen i Python.\n",
    "\n",
    "```\n",
    "import sirkelregner\n",
    "help(sirkelregner)               # Gir hele dokumentasjonen\n",
    "help(sirkelregner.Sirkel)        # Gir dokumentasjonen for Sirkel-klassen\n",
    "help(sirkelregner.Sirkel.skaler) # Gir dokumentasjonen for skaler()-metoden\n",
    "```"
   ]
  },
  {
   "cell_type": "markdown",
   "metadata": {},
   "source": [
    "#### Generere dokumentasjon med `pydoc`\n",
    "\n",
    "Python-installasjoner kommer med pakken `pydoc` som lar oss skrive dokumentasjonen fra docstrings over til en `.html`-fil som kan åpnes i nettleseren. Dette gjør vi ved å sørge for at terminalvinduet er åpnet i mappen som man har pakken og skrive\n",
    "\n",
    "```\n",
    "python -m pydoc -w sirkelregner\n",
    "```\n",
    "\n",
    "Erstatt `sirkelregner` med din pakkes navn. Da vil du få en `.html`-fil med litt retro stil, men som forklarer metoder og objekter i programmet ditt, og som kan sendes videre til brukeren."
   ]
  }
 ],
 "metadata": {
  "kernelspec": {
   "display_name": "Python 3",
   "language": "python",
   "name": "python3"
  },
  "language_info": {
   "codemirror_mode": {
    "name": "ipython",
    "version": 3
   },
   "file_extension": ".py",
   "mimetype": "text/x-python",
   "name": "python",
   "nbconvert_exporter": "python",
   "pygments_lexer": "ipython3",
   "version": "3.10.7"
  }
 },
 "nbformat": 4,
 "nbformat_minor": 2
}
