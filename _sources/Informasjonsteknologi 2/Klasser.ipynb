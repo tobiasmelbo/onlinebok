{
 "cells": [
  {
   "cell_type": "markdown",
   "metadata": {},
   "source": [
    "### Klasser\n",
    "  \n",
    "Python er et objektorientert programmeringsspråk. Nesten alt i Python er objekter. \n",
    "    \n",
    "- Strings er objekter \n",
    "- Lister er objekter\n",
    "- Ordbøker er objekter\n",
    "- Pakker er objekter \n",
    "- Filer er objekter \n",
    "- ... og masse, masse mer\n",
    "  \n",
    "*Men hva er egentlig et objekt?*\n",
    " \n",
    "#### Objekter\n",
    "\n",
    "Kort sagt kan vi si at et *objekt* er noe som kan\n",
    "\n",
    "1. inneholde data (attributter)\n",
    "2. gjøre ting (metoder)\n",
    "\n",
    "##### Klasser\n",
    "\n",
    "For å lage et objekt må vi spesifisere hvilke data som objektet kan inneholde, og hvilke ting objektet kan gjøre. \n",
    "\n",
    "En slik oppskrift kalles for en *klasse*.\n",
    "\n",
    "#### Et enkelt eksempel: Teller\n",
    "\n",
    "La oss lage en enkel klasse i Python."
   ]
  },
  {
   "cell_type": "code",
   "execution_count": 24,
   "metadata": {},
   "outputs": [
    {
     "name": "stdout",
     "output_type": "stream",
     "text": [
      "Teller: 0\n",
      "Teller: 1\n"
     ]
    }
   ],
   "source": [
    "class Teller:\n",
    "    # Konstruktøren\n",
    "    def __init__(self):\n",
    "        self.antall = 0\n",
    "    \n",
    "    # Metode\n",
    "    def tell(self):\n",
    "        self.antall += 1\n",
    "\n",
    "t = Teller() # Oppretter et objekt av klassen \"Teller\" og kaller det for \"t\"\n",
    "print(\"Teller:\", t.antall) # Skriver ut antall\n",
    "t.tell() # Teller en gang\n",
    "print(\"Teller:\", t.antall) # Skriver ut antall"
   ]
  },
  {
   "cell_type": "markdown",
   "metadata": {},
   "source": [
    "Dette programmet lager en klasse `Teller`. Deretter opprettes et objekt `t` som er av klassen `Teller`. Så bruker vi `tell()`-metoden (som er innebygd i objektet `t`) for å telle oppover. Hver gang vi gjør et kall på `tell()`-metoden, øker antallet."
   ]
  },
  {
   "cell_type": "markdown",
   "metadata": {},
   "source": [
    "##### Konstruktøren og metoder"
   ]
  },
  {
   "cell_type": "markdown",
   "metadata": {},
   "source": [
    "*Konstruktøren* `__init__()` er en spesiell metode som lar oss definere hva som skal skje når et objekt opprettes. Når vi oppretter et objekt så kjøres konstruktøren. Det er vanlig å sette objekters attributter her.\n",
    "\n",
    "*Metoder* er funksjoner som definerer hva et objekt kan gjøre."
   ]
  },
  {
   "cell_type": "markdown",
   "metadata": {},
   "source": [
    "#### Et nytt eksempel: Mario\n",
    "\n",
    "La oss ta et eksempel fra spill-verden. En nær og kjær folkehelt og rørlegger fra Brooklyn, New York: Mario.\n",
    "\n",
    "```\n",
    "    ____▒▒▒▒▒\n",
    "    —-▒▒▒▒▒▒▒▒▒\n",
    "    —–▓▓▓░░▓░\n",
    "    —▓░▓░░░▓░░░\n",
    "    —▓░▓▓░░░▓░░░\n",
    "    —▓▓░░░░▓▓▓▓\n",
    "    ——░░░░░░░░\n",
    "    —-▓▓▒▓▓▓▒▓▓\n",
    "    –▓▓▓▒▓▓▓▒▓▓▓\n",
    "    ▓▓▓▓▒▒▒▒▒▓▓▓▓\n",
    "    ░░▓▒░▒▒▒░▒▓░░\n",
    "    ░░░▒▒▒▒▒▒▒░░░\n",
    "    ░░▒▒▒▒▒▒▒▒▒░░\n",
    "    —-▒▒▒ ——▒▒▒\n",
    "    –▓▓▓———-▓▓▓\n",
    "    ▓▓▓▓———-▓▓▓▓\n",
    "```\n",
    "\n",
    "Selv om det første Super Mario Bros ble skrevet i Assembly, som teknisk sett ikke er et objektorientert språk, kan vi se for oss at Mario er et objekt. Han har en posisjon, kan gå til venstre og høyre, og kan hoppe. \n",
    "\n",
    "La oss lage en klasse som gjør at vi kan lage `Mario`-objekter."
   ]
  },
  {
   "cell_type": "code",
   "execution_count": 31,
   "metadata": {},
   "outputs": [
    {
     "name": "stdout",
     "output_type": "stream",
     "text": [
      "Mario har bevegd seg til høyre.\n",
      "Mario er ved ( 1 , 0 )\n",
      "Boing!\n",
      "Mario er ved ( 1 , 1 )\n",
      "Mario vokser!\n",
      "Mario faller.\n",
      "Mario er ved ( 1 , 0 )\n"
     ]
    }
   ],
   "source": [
    "class Mario:\n",
    "    # Konstruktøren (constructor)\n",
    "    def __init__(self, x, y):\n",
    "        self.x = x\n",
    "        self.y = y\n",
    "        self.liten = True\n",
    "    \n",
    "    # Metoder\n",
    "    def beveg_høyre(self):\n",
    "        self.x += 1\n",
    "        print(\"Mario har bevegd seg til høyre.\")\n",
    "        self.skriv_posisjon()\n",
    "    \n",
    "    def beveg_venstre(self):\n",
    "        self.x -= 1\n",
    "        print(\"Mario har bevegd seg til venstre.\")\n",
    "        self.skriv_posisjon()\n",
    "    \n",
    "    def hopp(self):\n",
    "        self.y += 1\n",
    "        print(\"Boing!\")\n",
    "        self.skriv_posisjon()\n",
    "\n",
    "    def fall(self):\n",
    "        self.y -= 1\n",
    "        print(\"Mario faller.\")\n",
    "        self.skriv_posisjon()\n",
    "    \n",
    "    def spis_sopp(self):\n",
    "        if self.liten:\n",
    "            self.liten = False\n",
    "            print(\"Mario vokser!\")\n",
    "        else:\n",
    "            print(\"1000 poeng!\")\n",
    "\n",
    "    def skriv_posisjon(self):\n",
    "        print(\"Mario er ved (\", self.x, \",\", self.y, \")\")\n",
    "\n",
    "mario = Mario(0, 0) # Instansierer et mario-objekt.\n",
    "mario.beveg_høyre() # Beveger mario til høyre\n",
    "mario.hopp() # Får mario til å hoppe\n",
    "mario.spis_sopp() # Får mario til å spise en sopp\n",
    "mario.fall() # Får mario til å falle"
   ]
  },
  {
   "cell_type": "markdown",
   "metadata": {},
   "source": [
    "Legg merke til konstruktøren i `Mario`-klassen. `self`-argumentet er nødvendig for å kunne sette data som objektet skal inneholde, men utenom `self` har funksjonen to argumenter, `x` og `y`. Disse gjør at vi kan (og må) definere en startposisjon når vi oppretter `Mario`-objekter, som du ser i koden når vi lager et `Mario`-objekt med `Mario(0, 0)`.\n",
    "\n",
    "I tillegg kan vi se at metodene `beveg_høyre()`, `beveg_venstre()`, `hopp()` og `fall()` kaller på en annen metode i samme objekt ved navn `skriv_posisjon()`. Det gjør at objektets posisjon skrives ut hver gang objektet flyttes på."
   ]
  },
  {
   "cell_type": "markdown",
   "metadata": {},
   "source": [
    "#### Eksempel: Flere objekter i en liste\n",
    "Vi ønsker ofte å lagre objekter i lister.\n",
    "\n",
    "Farger lagres ofte digitalt som en kombinasjon av rød, grønn og blå. Hver verdi lagres i intervallet $[0,255]$. Vi kan for eksempel representere sort som `(0, 0, 0)`, hvit som `(255, 255, 255)`, rød som `(255, 0, 0)`, grønn som `(0, 255, 0)`, blå som `(0, 0, 255)` og gul som `(255, 255, 0)`.\n",
    "\n",
    "La oss lage en klasse `Farge` som gjør at vi kan lage `Farge`-objekter med forskjellige farger. Deretter kan vi lagre disse i en liste."
   ]
  },
  {
   "cell_type": "code",
   "execution_count": 39,
   "metadata": {},
   "outputs": [
    {
     "name": "stdout",
     "output_type": "stream",
     "text": [
      "<__main__.Farge object at 0x000001FDDEF9AE90>\n",
      "<__main__.Farge object at 0x000001FDDEF9BB50>\n",
      "<__main__.Farge object at 0x000001FDDEF98A90>\n"
     ]
    }
   ],
   "source": [
    "from random import randint\n",
    "\n",
    "class Farge:\n",
    "    def __init__(self, r, g, b):\n",
    "        self.r = r # Rød verdi\n",
    "        self.g = g # Grønn verdi\n",
    "        self.b = b # Blå verdi\n",
    "\n",
    "# Lager en tom liste\n",
    "fargeliste = []\n",
    "\n",
    "# Legger inn tre tilfeldige Farge-objekter i listen\n",
    "for n in range(3):\n",
    "    r = randint(0,255)\n",
    "    g = randint(0,255)\n",
    "    b = randint(0,255)\n",
    "    fargeliste.append(Farge(r, g, b))\n",
    "\n",
    "# Skriver ut objektene i listen\n",
    "for x in fargeliste:\n",
    "    print(x)"
   ]
  },
  {
   "cell_type": "markdown",
   "metadata": {},
   "source": [
    "Som vi ser er det enkelt å lage flere objekter og legge de inn i en liste.\n",
    "\n",
    "Vi ser også at det er tre objekter i listen `fargeliste`, men utskriften sier oss lite om hvilken farge det er.\n",
    "\n",
    "##### `__str__()`-metoden\n",
    "\n",
    "Hvis vi ønsker å endre på hvordan objekter skrives ut kan vi legge til en `__str__()`-funksjon i klassen vår. Denne funksjonen skal returnere en string som `print()`-funksjonen skal skrive ut."
   ]
  },
  {
   "cell_type": "code",
   "execution_count": 43,
   "metadata": {},
   "outputs": [
    {
     "name": "stdout",
     "output_type": "stream",
     "text": [
      "(190, 229, 152)\n",
      "(144, 201, 144)\n",
      "(109, 50, 241)\n"
     ]
    }
   ],
   "source": [
    "from random import randint\n",
    "\n",
    "class Farge:\n",
    "    def __init__(self, r, g, b):\n",
    "        self.r = r # Rød verdi\n",
    "        self.g = g # Grønn verdi\n",
    "        self.b = b # Blå verdi\n",
    "\n",
    "    def __str__(self):\n",
    "        return f\"({self.r}, {self.g}, {self.b})\"\n",
    "\n",
    "# Lager en tom liste\n",
    "fargeliste = []\n",
    "\n",
    "# Legger inn tre tilfeldige Farge-objekter i listen\n",
    "for n in range(3):\n",
    "    r = randint(0,255)\n",
    "    g = randint(0,255)\n",
    "    b = randint(0,255)\n",
    "    fargeliste.append(Farge(r, g, b))\n",
    "\n",
    "# Skriver ut objektene i listen\n",
    "for x in fargeliste:\n",
    "    print(x)"
   ]
  },
  {
   "cell_type": "markdown",
   "metadata": {},
   "source": [
    "Vi ser at `print()`-funksjonen skriver ut dataene på måten som vi spesifiserte i `__str__()`-metoden!"
   ]
  },
  {
   "cell_type": "markdown",
   "metadata": {},
   "source": [
    "#### Å sjekke typen til et objekt.\n",
    "Noen ganger ønsker vi å sjekke om et objekt har riktig type. For å gjøre det kan vi bruke `type()`-funksjonen."
   ]
  },
  {
   "cell_type": "code",
   "execution_count": 15,
   "metadata": {},
   "outputs": [
    {
     "name": "stdout",
     "output_type": "stream",
     "text": [
      "Hei, Bernica. Har du gjort leksene dine?\n",
      "Hei, Tobias. Har du drukket kaffen din enda?\n"
     ]
    }
   ],
   "source": [
    "class Elev:\n",
    "    def __init__(self, navn):\n",
    "        self.navn = navn\n",
    "    \n",
    "class Lærer:\n",
    "    def __init__(self, navn):\n",
    "        self.navn = navn\n",
    "\n",
    "# En funksjon som tar inn et objekt og hilser ulikt avhengig av hvilken type objekt det er.\n",
    "def hils(x):\n",
    "    if type(x) == Elev:\n",
    "        print(\"Hei, \" + x.navn + \". Har du gjort leksene dine?\")\n",
    "    elif type(x) == Lærer:\n",
    "        print(\"Hei, \" + x.navn + \". Har du drukket kaffen din enda?\")\n",
    "\n",
    "# Lager en elev og hilser\n",
    "person = Elev(\"Bernica\")\n",
    "hils(person)\n",
    "\n",
    "# Lager en lærer og hilser\n",
    "person2 = Lærer(\"Tobias\")\n",
    "hils(person2)"
   ]
  },
  {
   "cell_type": "markdown",
   "metadata": {},
   "source": [
    "Funksjonen `hils()` svarer ulikt til ulike objekter ved å sjekke hvilken type objekt det er med `type()`-funksjonen."
   ]
  },
  {
   "cell_type": "markdown",
   "metadata": {},
   "source": [
    "#### Dunder-metoder\n",
    "\n",
    "Dunder-metoder (*double-underscore methods*) er metoder som har navn som starter og slutter med `__`. Vi har sett to eksempler allerede; `__init__()` og `__str__()`. Dunder-metoder kan utvide objekters funksjonalitet til å fungere med eksisterende operatorer og funksjoner som å printe med `print()`, indeksere med `[]`, legge til med `+=` osv...\n",
    "\n",
    "#####  `__getitem__()`-metoden\n",
    "\n",
    "Vi kan indeksere i et objekt med klammeparantes `[]` som en liste hvis vi utvider klassen med `__getitem__()`-metoden."
   ]
  },
  {
   "cell_type": "code",
   "execution_count": 13,
   "metadata": {},
   "outputs": [
    {
     "name": "stdout",
     "output_type": "stream",
     "text": [
      "Lasse Isak Nicolai \n",
      "Isak\n"
     ]
    }
   ],
   "source": [
    "class Elevliste:\n",
    "    def __init__(self, liste):\n",
    "        self.liste = liste\n",
    "\n",
    "    def __str__(self):\n",
    "        string = \"\"\n",
    "        for x in self.liste:\n",
    "            string += x + \" \"\n",
    "        return string\n",
    "    \n",
    "    def __getitem__(self, i):\n",
    "        return self.liste[i]\n",
    "\n",
    "elevliste = Elevliste([\"Lasse\", \"Isak\", \"Nicolai\", \"Stian\"])\n",
    "print(elevliste)\n",
    "print(elevliste[1])"
   ]
  },
  {
   "cell_type": "markdown",
   "metadata": {},
   "source": [
    "##### `__len__()`-metoden\n",
    "\n",
    "Vi kan bruke `len()`-funksjonen på objektet vårt hvis vi utvider klassen vår med `__len__()`-metoden."
   ]
  },
  {
   "cell_type": "code",
   "execution_count": 17,
   "metadata": {},
   "outputs": [
    {
     "name": "stdout",
     "output_type": "stream",
     "text": [
      "Linnea André Kieran Isak Nicolai \n",
      "5\n"
     ]
    }
   ],
   "source": [
    "class Elevliste:\n",
    "    def __init__(self, liste):\n",
    "        self.liste = liste\n",
    "\n",
    "    def __str__(self):\n",
    "        string = \"\"\n",
    "        for x in self.liste:\n",
    "            string += x + \" \"\n",
    "        return string\n",
    "    \n",
    "    def __len__(self):\n",
    "        return len(self.liste)\n",
    "\n",
    "elevliste = Elevliste([\"Linnea\", \"André\", \"Kieran\", \"Isak\", \"Nicolai\"])\n",
    "print(elevliste)\n",
    "print(len(elevliste))"
   ]
  },
  {
   "cell_type": "markdown",
   "metadata": {},
   "source": [
    "Dunder-metoder lar oss altså spesifisere hvordan vi ønsker at objektene våre skal fungere i koden med de operatorene og funksjonene som vi kjenner til fra før av. En oversikt over flere dunder-metoder kan du finne i dokumentasjonen [her](https://docs.python.org/3/reference/datamodel.html)."
   ]
  },
  {
   "cell_type": "markdown",
   "metadata": {},
   "source": [
    "---\n",
    "\n",
    "#### Oppgaver\n",
    "\n",
    "```{admonition} Oppgave 1 🍄 \n",
    ":class: task\n",
    "\n",
    "Kopier `Mario`-klassen fra eksemplet over.\n",
    "\n",
    "Det finnes en sopp i posisjonen $(2,1)$.\n",
    "\n",
    "1. Lag et `Mario`-objekt som starter i $(0,0)$. \n",
    "2. Bruk metodene for å simulere at `Mario`-objektet går bort, hopper, tar soppen og lander igjen.\n",
    "```\n",
    "\n",
    "```{admonition} Oppgave 2 🚗\n",
    ":class: task\n",
    "\n",
    "I denne oppgaven skal vi lage en enkel klasse.\n",
    "\n",
    "1. Lag en klasse som heter `Bil`. Bil-objekter skal ha en attributt `bilmerke` som en string. `bilmerke` skal settes som argument til konstruktøren.\n",
    "2. Legg til en metode som heter `tut()`. Denne skal printe en tutelyd som tekst (f.eks `Tut!`).\n",
    "3. Lag et `Bil`-objekt, skriv ut bilmerket og bruk `tut()`-metoden til objektet.\n",
    "```\n",
    "`````{admonition} Oppgave 3 🏫\n",
    ":class: task\n",
    "\n",
    "Lag en klasse som heter `Karakterliste`. Den skal inneholde en attributt `liste` som er en liste som er tom fra starten av.\n",
    "\n",
    "1. Lag en metode `legg_til()` som legger inn en karakter i listen.\n",
    "2. Lag en metode `seksere()` som returnerer antall seksere i listen.\n",
    "3. Lag en metode `gjennomsnitt()` som returnerer gjennomsnittet av karakterene.\n",
    "\n",
    "Opprett et objekt av klassen `Karakterliste`, legg inn 5 karakterer som tall, skriv ut antall seksere og gjennomsnittet ved å bruke metodene til objektet.\n",
    "\n",
    "Bonus: Utvid klassen med en `__str__()`-metode som gjør at man får en hensiktsmessig utskrift når printer et `Karakterliste`-objekt.\n",
    "\n",
    "````{admonition} Løsningsforslag\n",
    ":class: solution, dropdown\n",
    "```\n",
    "class Karakterliste:\n",
    "    def __init__(self):\n",
    "        self.liste = []\n",
    "\n",
    "    def legg_til(self, karakter : int):\n",
    "        self.liste.append(karakter)\n",
    "\n",
    "    def seksere(self) -> int:\n",
    "        return self.liste.count(6)\n",
    "    \n",
    "    def gjennomsnitt(self) -> float:\n",
    "        return sum(self.liste) / len(self.liste)\n",
    "\n",
    "    def __str__(self):\n",
    "        return f\"Karakterer: {self.liste}\"\n",
    "```\n",
    "````\n",
    "`````\n",
    "\n",
    "```{admonition} Oppgave 4 💸\n",
    ":class: task\n",
    "\n",
    "Lag en Python-klasse `Bankkonto` med `kontonummer` og `saldo` som attributter. Disse skal settes som argument til konstruktøren.\n",
    "\n",
    "1. Legg til metoder for innskudd og uttak fra kontoen, og skriv ut saldoen etter hver operasjon.\n",
    "2. Legg til en feilmelding når man prøver å ta ut mer penger enn man har.\n",
    "3. Lag et `Bankkonto`-objekt og test om metodene dine fungerer som de skal.\n",
    "```\n",
    "\n",
    "```{admonition} Oppgave 5 🅿️\n",
    ":class: task\n",
    "\n",
    "Kopier inn klassen `Bil` fra den tidligere oppgaven.\n",
    "\n",
    "1. Utvid `Bil`-klassen med en `__str__()`-metode som returnerer bilmerket slik at vi kan bruke `print()` på `Bil`-objekter.\n",
    "\n",
    "Lag en ny klasse `PHus` som skal inneholde en liste `plasser` som er tom fra starten av, i tillegg skal man kunne legge inn en maksgrense for antall biler som argument til konstruktøren.\n",
    "\n",
    "2. Lag en metode `parker()` som legger en bil inn i `plasser`-listen, men dersom antall biler er over maksgrensen skal det printes at det ikke er plass og at bilen ikke ble lagt til.\n",
    "3. Utvid klassen `PHus` med en `__str__()`-metode som skriver ut bilmerkene til alle bilene som er parkert.\n",
    "4. Lag et `PHus`-objekt og legg inn `Bil`-objekter helt til maksgrensen er nådd. Skriv ut `PHus`-objektet til slutt.\n",
    "```\n",
    "\n",
    "```{admonition} Oppgave 6 📦\n",
    ":class: task\n",
    "\n",
    "Lag en klasse `Varelager` som inneholder en liste over varer. Listen skal være tom når objektet dannes.\n",
    "\n",
    "Varene skal være ordbøker med nøklene `navn`, `pris` og `antall_på_lager`.\n",
    "\n",
    "Legg til metoder for å legge til varer i lageret, fjerne varer fra lageret og skrive ut en liste over tilgjengelige varer.\n",
    "\n",
    "```\n",
    "\n",
    "```{admonition} Oppgave 7 ➗ (utfordring)\n",
    ":class: task\n",
    "\n",
    "I denne oppgaven skal du lage en klasse `Brøk`. Her er noen krav:\n",
    "\n",
    "- Klassen skal ha attributtene `teller` og `nevner` som settes som argument til konstruktøren.\n",
    "- Den skal ha en `__str__()`-metode som skriver ut `{teller}/{nevner}`.\n",
    "- Den skal ha en metode forkort som forkorter brøken hvis det er mulig.\n",
    "- Den skal ha `__mul__()`- og `__truediv__()`-metoder for å håndtere multiplikasjon og divisjon med heltall og med andre Brøk-objekter.\n",
    "- Den skal ha en `__pow__()`-metode for å håndtere at brøken blir opphøyd i et heltall (både positivt, negativt og $0$)\n",
    "- Den skal ha `__sub__()`- og `__add__()`-metoder for å håndtere addisjon og subtraksjon med heltall og andre Brøk-objekter.\n",
    "```"
   ]
  }
 ],
 "metadata": {
  "kernelspec": {
   "display_name": "Python 3",
   "language": "python",
   "name": "python3"
  },
  "language_info": {
   "codemirror_mode": {
    "name": "ipython",
    "version": 3
   },
   "file_extension": ".py",
   "mimetype": "text/x-python",
   "name": "python",
   "nbconvert_exporter": "python",
   "pygments_lexer": "ipython3",
   "version": "3.10.6"
  }
 },
 "nbformat": 4,
 "nbformat_minor": 2
}
