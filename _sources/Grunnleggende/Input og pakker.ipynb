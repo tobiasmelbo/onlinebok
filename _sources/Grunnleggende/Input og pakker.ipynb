{
 "cells": [
  {
   "attachments": {},
   "cell_type": "markdown",
   "metadata": {},
   "source": [
    "(Input og pakker)=\n",
    "### Input og pakker\n",
    "\n",
    "I denne delen skal vi lære hvordan vi kan bruke pakker, lage enkle kalkulatorer og generere tilfeldige tall.\n",
    " \n",
    "#### Pakker\n",
    "\n",
    "Python har mange innebygde funksjoner, men noen funksjoner ligger i pakker som vi må importere."
   ]
  },
  {
   "attachments": {},
   "cell_type": "markdown",
   "metadata": {},
   "source": [
    "##### `math`-pakken\n",
    "\n",
    "Pakken `math` gir oss flere nyttige verktøy. \n",
    "\n",
    "- `math.sqrt(<tall>)` er en funksjon som gir oss kvadratroten av et tall.\n",
    "- `math.pi` gir oss $\\pi$.\n",
    "\n",
    "Her er noen eksempler."
   ]
  },
  {
   "cell_type": "code",
   "execution_count": 1,
   "metadata": {},
   "outputs": [
    {
     "name": "stdout",
     "output_type": "stream",
     "text": [
      "2.0\n"
     ]
    }
   ],
   "source": [
    "import math\n",
    "\n",
    "print(math.sqrt(4))     # Gir oss kvadratroten av 4.\n",
    "print(math.pi)          # Gir oss pi."
   ]
  },
  {
   "attachments": {},
   "cell_type": "markdown",
   "metadata": {},
   "source": [
    "Man kan også importere bare de tingene man trenger. Det kan gjøre koden litt enklere."
   ]
  },
  {
   "cell_type": "code",
   "execution_count": 4,
   "metadata": {},
   "outputs": [
    {
     "name": "stdout",
     "output_type": "stream",
     "text": [
      "2.0\n",
      "3.141592653589793\n"
     ]
    }
   ],
   "source": [
    "from math import sqrt, pi\n",
    "\n",
    "print(sqrt(4))\n",
    "print(pi)"
   ]
  },
  {
   "attachments": {},
   "cell_type": "markdown",
   "metadata": {},
   "source": [
    "(random-pakken)=\n",
    "##### `random`-pakken\n",
    "\n",
    "Pakken `random` gir oss tilfeldige tall. Ikke bare er det gøy å leke med, men det er også nyttig for å simulere ting.\n",
    "\n",
    "- `random.choice(<liste>)` er en funksjon som velger et tilfeldig element fra en liste.\n",
    "- `random.randint(<start>, <slutt>)` er en funksjon som gir oss et tifeldig tall fra og med startverdien til og med sluttverdien.\n",
    "\n",
    "Her er noen eksempler"
   ]
  },
  {
   "cell_type": "code",
   "execution_count": 2,
   "metadata": {},
   "outputs": [
    {
     "name": "stdout",
     "output_type": "stream",
     "text": [
      "Bjarne\n",
      "3\n"
     ]
    }
   ],
   "source": [
    "from random import choice, randint\n",
    "\n",
    "print(choice([\"Arne\", \"Bjarne\", \"Cecilie\"]))\n",
    "print(randint(1,6))"
   ]
  },
  {
   "attachments": {},
   "cell_type": "markdown",
   "metadata": {},
   "source": [
    "#### Input\n",
    "\n",
    "Vi kan ta input fra brukeren med `input()`-funksjonen.\n",
    "\n",
    "```\n",
    "navn = input(\"Navn: \")\n",
    "print(\"Hei,\", navn)\n",
    "```\n",
    "\n",
    "Dette programmet spør brukeren om navnet, og skriver ut `Hei, <navn>`. Prøv det selv!\n",
    "\n",
    "All input er tekst. Hvis vi ønsker tall, må vi gjøre teksten om til et tall. Det enkleste er å sende teksten igjennom `float()`-funksjonen. Alternativt kan vi bruke `int()`-funksjonen hvis vi ønsker heltall som input.\n",
    "\n",
    "```\n",
    "a = float(input(\"a: \"))\n",
    "b = float(input(\"b: \"))\n",
    "print(\"Summen av \", a, \"og\", b, \"er\",  a + b)\n",
    "```\n",
    "\n",
    "Dette programmet tar to tall `a` og `b` og skriver ut summen deres. Prøv det selv!"
   ]
  },
  {
   "attachments": {},
   "cell_type": "markdown",
   "metadata": {},
   "source": [
    "#### Avrunding\n",
    "\n",
    "Vi kan runde av lange desimaltall ved å bruke `round`-funksjonen. Denne ligger ikke i en pakke og må derfor ikke importeres."
   ]
  },
  {
   "cell_type": "code",
   "execution_count": 3,
   "metadata": {},
   "outputs": [
    {
     "name": "stdout",
     "output_type": "stream",
     "text": [
      "3.141592653589793\n",
      "3.14\n"
     ]
    }
   ],
   "source": [
    "from math import pi\n",
    "\n",
    "print(pi)           # Skriver ut pi med mange desimaler\n",
    "print(round(pi, 2)) # Skriver ut pi rundet av til to desimaler."
   ]
  },
  {
   "cell_type": "markdown",
   "metadata": {},
   "source": [
    "```{admonition} Merk deg\n",
    ":class: note\n",
    "`round()`-funksjonen runder ikke alltid opp på tall som ender med `.5` 🤯\n",
    "\n",
    "Dette gjør funksjonen for å unngå å runde *opp* mer enn man runder *ned* i et tallmateriale, siden mange datasett ofte har tall som ender i `.5` ☝️🤓\n",
    "```"
   ]
  },
  {
   "attachments": {},
   "cell_type": "markdown",
   "metadata": {},
   "source": [
    "---\n",
    "\n",
    "#### Oppgaver\n",
    "\n",
    "##### Oppgave 1 $\\sqrt{x}$\n",
    "\n",
    "Lag et program som tar et tall `k` som input og skriver ut kvadratroten av tallet.\n",
    "\n",
    "````{admonition} Løsningsforslag\n",
    ":class: note, dropdown\n",
    "```\n",
    "from math import sqrt\n",
    "\n",
    "k = float(input(\"Skriv inn et tall k: \"))\n",
    "\n",
    "print(\"Kvadratroten av\", a, \"er\", sqrt(a))\n",
    "```\n",
    "```\n",
    "Skriv inn et tall a: 2\n",
    "Kvadratroten av 2.0 er 1.4142135623730951\n",
    "```\n",
    "````\n",
    "\n",
    "##### Oppgave 2 🌡️\n",
    "\n",
    "```{sidebar}\n",
    "Formelen for omkretsen til en sirkel er $2\\pi r$.\n",
    "\n",
    "Formelen for arealet til en sirkel er $\\pi r^2$.\n",
    "```\n",
    "\n",
    "Lag en kalkulator som tar et tall `r` som input og skriver ut omkretsen og arealet til en sirkel.\n",
    "\n",
    "Skriv ut svarene rundet av til to desimaler.\n",
    "\n",
    "````{admonition} Løsningsforslag\n",
    ":class: note, dropdown\n",
    "```\n",
    "from math import pi\n",
    "\n",
    "r = float(input(\"Skriv inn en radius r: \"))\n",
    "\n",
    "print(\"Omkrets:\", round(2 * pi * r, 2))\n",
    "print(\"Areal:\", round(pi * r ** 2, 2))\n",
    "```\n",
    "```\n",
    "Skriv inn en radius r: 3\n",
    "Omkrets: 18.85\n",
    "Areal: 28.27\n",
    "```\n",
    "````"
   ]
  }
 ],
 "metadata": {
  "kernelspec": {
   "display_name": "Python 3",
   "language": "python",
   "name": "python3"
  },
  "language_info": {
   "codemirror_mode": {
    "name": "ipython",
    "version": 3
   },
   "file_extension": ".py",
   "mimetype": "text/x-python",
   "name": "python",
   "nbconvert_exporter": "python",
   "pygments_lexer": "ipython3",
   "version": "3.10.7"
  },
  "orig_nbformat": 4
 },
 "nbformat": 4,
 "nbformat_minor": 2
}
