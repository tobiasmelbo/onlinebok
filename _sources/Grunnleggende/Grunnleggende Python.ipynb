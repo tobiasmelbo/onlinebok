{
 "cells": [
  {
   "attachments": {},
   "cell_type": "markdown",
   "metadata": {},
   "source": [
    "<iframe width=\"560\" height=\"315\" src=\"https://www.youtube.com/embed/Tha_cPxK3xg?si=g-O9yxW9WG1ZTPiM\" title=\"YouTube video player\" frameborder=\"0\" allow=\"accelerometer; autoplay; clipboard-write; encrypted-media; gyroscope; picture-in-picture; web-share\" referrerpolicy=\"strict-origin-when-cross-origin\" allowfullscreen></iframe>\n",
    "\n",
    "---\n",
    "(Grunnleggende Python)=\n",
    "# Grunnleggende Python 🐍\n",
    "\n",
    "Dette kapitlet er en introduksjon til Python.\n",
    "\n",
    "Du vil lære flere grunnleggende ting slik at du kan\n",
    " \n",
    "- lage programmer for å modellere i naturfag 🦠\n",
    "- simulere i fysikk 🚀 \n",
    "- bruke numeriske metoder for å løse matematiske problemer 🧮\n",
    "- ... eller bare å lære deg å programmere 🧑‍💻\n",
    "\n",
    "\n",
    "```{admonition} Jeg anbefaler Spyder\n",
    ":class: note\n",
    "\n",
    "Det er mange måter å lage og kjøre programmer i Python. Man kan for eksempel skrive og kjøre programmer i nettleseren med [Trinket (lenke)](https://trinket.io/python3), men for en lokal installasjon av Python anbefaler jeg [Spyder (lenke)](https://www.spyder-ide.org/) for alle som tar matematikk og [VSCode (lenke)](https://code.visualstudio.com/docs/python/python-tutorial) for de som tar informasjonsteknologi.\n",
    "\n",
    "Det har ikke så mye å si hva man bruker for å skrive og programmere i Python, men jeg opplever at [Spyder (lenke)](https://www.spyder-ide.org/) gjør det enklest. [Thonny (lenke)](https://thonny.org/) og [mu (lenke)](https://codewith.mu/) ser kanskje litt mindre *skumle* ut, men jeg opplever at man før eller siden møter på problemer ved bruk av disse. Spyder er mer *plug-and-play* og fungerer for alle mattefag til elevene går ut av videregående, og sikkert etter det også.\n",
    "```"
   ]
  }
 ],
 "metadata": {
  "kernelspec": {
   "display_name": "Python 3",
   "language": "python",
   "name": "python3"
  },
  "language_info": {
   "codemirror_mode": {
    "name": "ipython",
    "version": 3
   },
   "file_extension": ".py",
   "mimetype": "text/x-python",
   "name": "python",
   "nbconvert_exporter": "python",
   "pygments_lexer": "ipython3",
   "version": "3.8.0"
  },
  "widgets": {
   "application/vnd.jupyter.widget-state+json": {
    "state": {},
    "version_major": 2,
    "version_minor": 0
   }
  }
 },
 "nbformat": 4,
 "nbformat_minor": 4
}
