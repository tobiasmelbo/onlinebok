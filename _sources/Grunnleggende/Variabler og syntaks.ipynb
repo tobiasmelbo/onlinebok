{
 "cells": [
  {
   "attachments": {},
   "cell_type": "markdown",
   "metadata": {},
   "source": [
    "(Variabler og syntaks)=\n",
    "### Variabler og syntaks\n",
    " \n",
    "En variabel gir et navn til et objekt. Vi lager en variabel ved å gi den et navn og en verdi. Dette gjør vi med likhetstegnet `=` i Python.  "
   ]
  },
  {
   "attachments": {},
   "cell_type": "markdown",
   "metadata": {},
   "source": [
    "#### Typer\n",
    "\n",
    "Variabler kan være av mange forskjellige typer. Vi skal se på flere av disse senere."
   ]
  },
  {
   "attachments": {},
   "cell_type": "markdown",
   "metadata": {},
   "source": [
    "```\n",
    "a = 1                   # Heltall (integer)\n",
    "b = 2.3                 # Flyttall eller desimaltall (float)\n",
    "c = \"Hei!\"              # Tekst (string)\n",
    "d = True                # Sannhetsverdi (boolean)\n",
    "e = [2, 3]              # Liste (list)\n",
    "f = {\"NO\" : \"Norway\"}   # Ordbok (dictionary)\n",
    "```"
   ]
  },
  {
   "attachments": {},
   "cell_type": "markdown",
   "metadata": {},
   "source": [
    "```{admonition} Merk deg\n",
    ":class: note\n",
    "I Python bruker vi punktum `.` for desimaltall, ikke komma `,`.\n",
    "```"
   ]
  },
  {
   "attachments": {},
   "cell_type": "markdown",
   "metadata": {},
   "source": [
    "(Kommentarer)=\n",
    "#### Kommentarer\n",
    "\n",
    "Noen ganger ønsker vi å legge inn kommentarer i koden for å gjøre den mer lesbar. "
   ]
  },
  {
   "attachments": {},
   "cell_type": "markdown",
   "metadata": {},
   "source": [
    "```\n",
    "# Dette er en kommentar på en linje.\n",
    "\n",
    "\"\"\"\n",
    "Dette er en kommentar over flere linjer.\n",
    "Vi kan skrive så mye vi vil her inne.\n",
    "\"\"\"\n",
    "```"
   ]
  },
  {
   "attachments": {},
   "cell_type": "markdown",
   "metadata": {},
   "source": [
    "#### `print()`-funksjonen"
   ]
  },
  {
   "attachments": {},
   "cell_type": "markdown",
   "metadata": {},
   "source": [
    "Vi ønsker ofte at programmet skal skrive ut noe. Til det bruker vi ```print()```-funksjonen."
   ]
  },
  {
   "cell_type": "code",
   "execution_count": 3,
   "metadata": {},
   "outputs": [
    {
     "name": "stdout",
     "output_type": "stream",
     "text": [
      "5\n"
     ]
    }
   ],
   "source": [
    "a = 2\n",
    "b = 3\n",
    "c = a + b\n",
    "\n",
    "print(c)"
   ]
  },
  {
   "attachments": {},
   "cell_type": "markdown",
   "metadata": {},
   "source": [
    "`print()`-funksjonen kan også skrive ut en kombinasjon av tekst og variabler ved å bruke *f-strings*. Da setter vi en `f` før en string, og setter variabler inn med krøllparanteser `{}`."
   ]
  },
  {
   "cell_type": "code",
   "execution_count": 4,
   "metadata": {},
   "outputs": [
    {
     "name": "stdout",
     "output_type": "stream",
     "text": [
      "2 pluss 3 er lik 5\n"
     ]
    }
   ],
   "source": [
    "a = 2\n",
    "b = 3\n",
    "c = a + b\n",
    "\n",
    "print(f\"{a} pluss {b} er lik {c}\")"
   ]
  },
  {
   "cell_type": "markdown",
   "metadata": {},
   "source": [
    "Vi kan også printe variabler og tekst ved å skille de med komma."
   ]
  },
  {
   "cell_type": "code",
   "execution_count": null,
   "metadata": {},
   "outputs": [],
   "source": [
    "a = 2\n",
    "b = 3\n",
    "c = a + b\n",
    "\n",
    "print(a, \"pluss\", b, \"er lik\", c)"
   ]
  },
  {
   "attachments": {},
   "cell_type": "markdown",
   "metadata": {},
   "source": [
    "#### Regning og formler\n",
    "\n",
    "Python har noen symboler for regning.\n",
    "\n",
    "+ Addisjon bruker symbolet `+`\n",
    "+ Subtraksjon bruker symbolet `-`\n",
    "+ Multiplikasjon bruker symbolet `*`\n",
    "+ Divisjon bruker symbolet `/`\n",
    "+ Potenser bruker symbolet `**`\n",
    "\n",
    "::::{grid} 2\n",
    ":gutter: 1\n",
    "\n",
    ":::{grid-item-card} **Matematisk**\n",
    ":::\n",
    "\n",
    ":::{grid-item-card} **Pythonsk**\n",
    ":::\n",
    "\n",
    ":::{grid-item-card} \n",
    "$2+3$\n",
    ":::\n",
    "\n",
    ":::{grid-item-card} \n",
    "`2+3`\n",
    ":::\n",
    "\n",
    ":::{grid-item-card} \n",
    "$2-3$\n",
    ":::\n",
    "\n",
    ":::{grid-item-card} \n",
    "`2-3`\n",
    ":::\n",
    "\n",
    ":::{grid-item-card} \n",
    "$2\\cdot 3$\n",
    ":::\n",
    "\n",
    ":::{grid-item-card} \n",
    "`2*3`\n",
    ":::\n",
    "\n",
    ":::{grid-item-card} \n",
    "$\\frac{2}{3}$\n",
    ":::\n",
    "\n",
    ":::{grid-item-card} \n",
    "`2/3`\n",
    ":::\n",
    "\n",
    ":::{grid-item-card} \n",
    "$2^3$\n",
    ":::\n",
    "\n",
    ":::{grid-item-card} \n",
    "`2**3`\n",
    ":::\n",
    "\n",
    "::::"
   ]
  },
  {
   "attachments": {},
   "cell_type": "markdown",
   "metadata": {},
   "source": [
    "```{admonition} Viktig!\n",
    ":class: warning\n",
    "Husk å bruke paranteser dersom du jobber med uttrykk som inneholder flere ledd! \n",
    "\n",
    "Skal man for eksempel regne ut $\\frac{1}{2+1}$, så må man skrive `1/(2+1)`.\n",
    "```"
   ]
  },
  {
   "cell_type": "markdown",
   "metadata": {},
   "source": [
    "(Rest og heltallsdivisjon)=\n",
    "#### Rest og heltallsdivisjon\n",
    "\n",
    "Noen ganger ønsker vi å finne ut hvor mange ganger et tall går opp i et annet tall. Til det bruker vi operatoren `//`. Hvis vi ønsker å finne hva resten blir bruker vi operatoren `%`. Denne operatoren kalles *modulusoperatoren*."
   ]
  },
  {
   "cell_type": "code",
   "execution_count": 3,
   "metadata": {},
   "outputs": [
    {
     "name": "stdout",
     "output_type": "stream",
     "text": [
      "2\n",
      "1\n"
     ]
    }
   ],
   "source": [
    "print(7 // 3)\n",
    "print(7 % 3)"
   ]
  },
  {
   "cell_type": "markdown",
   "metadata": {},
   "source": [
    "- Vi ser at `7 // 3` gir `2` fordi $3$ går opp i $7$ to ganger.\n",
    "\n",
    "- Vi ser at `7 % 3` gir `1` fordi resten blir $1$ når $3$ har gått opp i $7$ to ganger.\n",
    "\n",
    "Dersom resten blir `0` så er tallet *delbart*. Med andre ord kan vi sjekke om `a` er delbart med `b` ved å sjekke om `a % b` gir `0`."
   ]
  },
  {
   "cell_type": "code",
   "execution_count": 1,
   "metadata": {},
   "outputs": [
    {
     "name": "stdout",
     "output_type": "stream",
     "text": [
      "0\n",
      "17\n"
     ]
    }
   ],
   "source": [
    "print(187 % 11)\n",
    "print(187 // 11)"
   ]
  },
  {
   "cell_type": "markdown",
   "metadata": {},
   "source": [
    "Programmet over viser at \n",
    "- $187$ er delbart med $11$ fordi resten er `0`\n",
    "- ... og at $11$ går opp `17` ganger i tallet $187$."
   ]
  },
  {
   "cell_type": "markdown",
   "metadata": {},
   "source": [
    "---\n",
    "\n",
    "#### Oppgaver\n",
    "\n",
    "`````{admonition} Oppgave 1 ⭕\n",
    ":class: task\n",
    "\n",
    "Regn ut følgende matematiske uttrykk med Python\n",
    "\n",
    "1. $\\quad2\\left( 1 + \\frac{1}{7}\\cdot \\frac{2^3}{2} \\right)$\n",
    "2. $\\quad\\frac{1}{2}\\left( \\frac{3\\cdot 5}{53} + 6 \\right)$\n",
    "3. $\\quad2\\left( \\frac{3}{2} + \\frac{4^2}{226} \\right)$\n",
    "\n",
    "````{admonition} Løsningsforslag\n",
    ":class: solution, dropdown\n",
    "\n",
    "Her er et løsningsforslag. Det kan være flere måter å gjøre det på.\n",
    "```\n",
    "print(2 * (1 + (1/7) * (2**3 / 2)))\n",
    "print((1/2) * ((3*5 / 53) + 6))\n",
    "print(2 * ((3/2) + (4**2 / 226)))\n",
    "```\n",
    "```\n",
    "3.142857142857143\n",
    "3.141509433962264\n",
    "3.1415929203539825\n",
    "```\n",
    "\n",
    "Ser du at det er et mønster i svarene? \n",
    "\n",
    "Det er fordi uttrykkene kan regnes ut til å være $\\frac{22}{7}$, $\\frac{333}{106}$ og $\\frac{355}{113}$. Disse brøkene blir nærmere og nærmere $\\pi$! 🤓\n",
    "\n",
    "Les mer om kjedebrøken for å approksimere $\\pi$ [her (lenke)](https://en.wikipedia.org/wiki/Continued_fraction#Continued_fraction_expansion_of_%CF%80_and_its_convergents)\n",
    "````\n",
    "`````\n",
    "\n",
    "`````{admonition} Oppgave 2 🔢\n",
    ":class: task\n",
    "\n",
    "Sjekk om disse tallene er delbare med Python.\n",
    "\n",
    "1. Er $112$ delbart med $7$?\n",
    "2. Er $171$ delbart med $9$?\n",
    "3. Er $1157$ delbart med $13$?\n",
    "\n",
    "Finn også hvor mange ganger det andre tallet går opp i det første.\n",
    "\n",
    "````{admonition} Løsningsforslag\n",
    ":class: solution, dropdown\n",
    "```\n",
    "a = 112\n",
    "b = 7\n",
    "\n",
    "print(b, \"går opp i\", a, 112 // 7, \"ganger.\")\n",
    "print(\"Resten blir\", 112 % 7)\n",
    "```\n",
    "```\n",
    "7 går opp i 112 16 ganger.\n",
    "Resten blir 0\n",
    "```\n",
    "\n",
    "Hvis vi bytter ut `a` og `b` kan vi se at alle tallene er delbare fordi vi får $0$ i rest.\n",
    "````\n",
    "`````\n",
    "\n",
    "`````{admonition} Oppgave 3 🌡️\n",
    ":class: task\n",
    "\n",
    "Noen land bruker grader fahrenheit ($^{\\circ}F$) som måleenhet for temperatur\n",
    "\n",
    "Formelen for å regne over fra celsius til fahrenheit er $^{\\circ}F=(^{\\circ}C \\cdot \\frac{9}{5})+32$\n",
    "\n",
    "Lag en kalkulator som bruker formelen for å regne om fra celsius til fahrenheit.\n",
    "\n",
    "Bruk programmet til å finne hvor mange grader fahrenheit disse temperaturene er:\n",
    "\n",
    "- Kokepunktet til vann\n",
    "- Frysepunktet til vann\n",
    "- Kroppstemperaturen til et menneske\n",
    "- Temperaturen i dag\n",
    "\n",
    "`````"
   ]
  }
 ],
 "metadata": {
  "kernelspec": {
   "display_name": "Python 3",
   "language": "python",
   "name": "python3"
  },
  "language_info": {
   "codemirror_mode": {
    "name": "ipython",
    "version": 3
   },
   "file_extension": ".py",
   "mimetype": "text/x-python",
   "name": "python",
   "nbconvert_exporter": "python",
   "pygments_lexer": "ipython3",
   "version": "3.10.7"
  },
  "orig_nbformat": 4
 },
 "nbformat": 4,
 "nbformat_minor": 2
}
