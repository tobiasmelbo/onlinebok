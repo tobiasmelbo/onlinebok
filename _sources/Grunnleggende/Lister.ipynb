{
 "cells": [
  {
   "cell_type": "markdown",
   "metadata": {},
   "source": [
    "(Lister)=\n",
    "### Lister"
   ]
  },
  {
   "cell_type": "markdown",
   "metadata": {},
   "source": [
    "Lister (*lists*) brukes til å lagre flere objekter i én variabel. "
   ]
  },
  {
   "cell_type": "code",
   "execution_count": null,
   "metadata": {},
   "outputs": [],
   "source": [
    "liste = [\"Alfa\", \"Beta\", \"Gamma\"] "
   ]
  },
  {
   "cell_type": "markdown",
   "metadata": {},
   "source": [
    "Lister kan inneholde mange forskjellige objekter."
   ]
  },
  {
   "cell_type": "code",
   "execution_count": 6,
   "metadata": {},
   "outputs": [],
   "source": [
    "a = [\"Alfa\", \"Beta\"]    # Tekststrenger\n",
    "b = [1, 2, 3]           # Heltall\n",
    "c = [1.41, 2.72, 3.14]  # Desimaltall\n",
    "d = [[1, 1], [2, 2]]    # Andre lister\n",
    "e = [\"Alfa\", 2, 3.14]   # En kombinasjon av objekter"
   ]
  },
  {
   "cell_type": "markdown",
   "metadata": {},
   "source": [
    "#### Hente objekter\n",
    "\n",
    "Vi kan hente enkelte objekter fra en liste ved å bruke *indeksen* til objektet."
   ]
  },
  {
   "cell_type": "code",
   "execution_count": 7,
   "metadata": {},
   "outputs": [
    {
     "name": "stdout",
     "output_type": "stream",
     "text": [
      "Alfa\n",
      "Beta\n",
      "Gamma\n"
     ]
    }
   ],
   "source": [
    "liste = [\"Alfa\", \"Beta\", \"Gamma\"]\n",
    "\n",
    "print(liste[0]) # liste[0] gir oss det første objektet.\n",
    "print(liste[1]) # liste[1] gir oss det andre objektet.\n",
    "print(liste[2]) # liste[2] gir oss det tredje objektet."
   ]
  },
  {
   "cell_type": "markdown",
   "metadata": {},
   "source": [
    "```{admonition} Merk deg\n",
    ":class: note\n",
    "I Python teller vi fra null i lister og `for`-løkker.\n",
    "```"
   ]
  },
  {
   "cell_type": "markdown",
   "metadata": {},
   "source": [
    "#### Lengden av listen\n",
    "\n",
    "Vi kan hente lengden av en liste ved å bruke `len()`-funksjonen. Da får vi hvor mange objekter listen inneholder."
   ]
  },
  {
   "cell_type": "code",
   "execution_count": 52,
   "metadata": {},
   "outputs": [
    {
     "name": "stdout",
     "output_type": "stream",
     "text": [
      "3\n"
     ]
    }
   ],
   "source": [
    "liste = [\"Alfa\", \"Beta\", \"Gamma\"]\n",
    "\n",
    "print(len(liste))"
   ]
  },
  {
   "cell_type": "markdown",
   "metadata": {},
   "source": [
    "#### Maksimum, minimum og sum\n",
    "\n",
    "Vi kan hente maksimum og minimum, og sum for lister ved å bruke `max()`-, `min()`-, og `sum()`-funksjonene."
   ]
  },
  {
   "cell_type": "code",
   "execution_count": 53,
   "metadata": {},
   "outputs": [
    {
     "name": "stdout",
     "output_type": "stream",
     "text": [
      "87\n",
      "12\n",
      "354\n"
     ]
    }
   ],
   "source": [
    "aldere = [34, 18, 24, 60, 45, 32, 12, 19, 87, 23]\n",
    "\n",
    "print(max(aldere))\n",
    "print(min(aldere))\n",
    "print(sum(aldere))"
   ]
  },
  {
   "cell_type": "markdown",
   "metadata": {},
   "source": [
    "#### Legge til objekter\n",
    "\n",
    "Vi kan legge til objekter på slutten av en liste ved å bruke `append()`-metoden."
   ]
  },
  {
   "cell_type": "code",
   "execution_count": 54,
   "metadata": {},
   "outputs": [
    {
     "name": "stdout",
     "output_type": "stream",
     "text": [
      "[]\n",
      "[1]\n",
      "[1, 2]\n"
     ]
    }
   ],
   "source": [
    "liste = []         # Tom liste\n",
    "print(liste)       # Skriver ut listen\n",
    "\n",
    "liste.append(1)    # Legger til tallet 1\n",
    "print(liste)       # Skriver ut listen\n",
    "\n",
    "liste.append(2)    # Legger til tallet 2\n",
    "print(liste)       # Skriver ut listen\n"
   ]
  },
  {
   "cell_type": "markdown",
   "metadata": {},
   "source": [
    "#### Gå igjennom alle elementer\n",
    "\n",
    "Ofte ønsker vi å kjøre en løkke igjennom en liste for å gjøre noe med alle objektene. Dette kan vi gjøre med en enkel `for`-løkke."
   ]
  },
  {
   "cell_type": "code",
   "execution_count": 2,
   "metadata": {},
   "outputs": [
    {
     "name": "stdout",
     "output_type": "stream",
     "text": [
      "Alfa\n",
      "Beta\n",
      "Gamma\n"
     ]
    }
   ],
   "source": [
    "liste = [\"Alfa\", \"Beta\", \"Gamma\"] \n",
    "\n",
    "for n in range(len(liste)):\n",
    "    print(liste[n])"
   ]
  },
  {
   "cell_type": "markdown",
   "metadata": {},
   "source": [
    "Det finnes også en alternativ måte å gå igjennom alle elementer som gjør at vi ikke trenger å bruke indeksen."
   ]
  },
  {
   "cell_type": "code",
   "execution_count": 3,
   "metadata": {},
   "outputs": [
    {
     "name": "stdout",
     "output_type": "stream",
     "text": [
      "Alfa\n",
      "Beta\n",
      "Gamma\n"
     ]
    }
   ],
   "source": [
    "liste = [\"Alfa\", \"Beta\", \"Gamma\"]\n",
    "\n",
    "for x in liste:\n",
    "    print(x)"
   ]
  },
  {
   "cell_type": "markdown",
   "metadata": {},
   "source": [
    "---\n",
    "\n",
    "#### Oppgaver\n",
    "\n",
    "\n",
    "##### Oppgave 1 🧍‍♀️\n",
    "\n",
    "Lag en liste med forskjellige høyder. Du kan samle inn fra folk du kjenner, eller finne på noen selv.\n",
    "\n",
    "```{sidebar}\n",
    "Man finner gjennomsnitt ved å ta summen av alle tallene, og dele på hvor mange tall det er.\n",
    "\n",
    "Gjennomsnittet av tallene `1`, `2` og `3` er $\\frac{1+2+3}{3}=2$\n",
    "```\n",
    "\n",
    "1. Skriv ut hva som er den største høyden.\n",
    "2. Skriv ut hva som er den minste høyden.\n",
    "3. Skriv ut gjennomsnittet av høydene.\n",
    "\n",
    "\n",
    "##### Oppgave 2 🎲\n",
    "\n",
    "Lag en tom liste `liste`.\n",
    "\n",
    "```\n",
    "liste = []\n",
    "```\n",
    "\n",
    "Fyll listen med $100$ forskjellige tilfeldige tall mellom $1$ og $6$ 🎲\n",
    "\n",
    "1. Finn gjennomsnittet til listen. Kjør programmet et par ganger.\n",
    "2. Gjør at programmet ditt lager $1000$ forskjellige tall.\n",
    "3. Finn gjennomsnittet nå. \n",
    "\n",
    "Prøv gjerne med flere terningkast.\n",
    "\n",
    "Hva tror du den gjennomsnittlige verdien blir om vi gjør dette med uendelig mange terningkast?\n",
    "\n",
    "````{admonition} Løsningsforslag\n",
    ":class: note, dropdown\n",
    "Dette programmet tar $100$ terningkast og finner gjennomsnittet.\n",
    "```\n",
    "from random import randint\n",
    "\n",
    "liste = []\n",
    "for n in range(100):\n",
    "    liste.append(randint(1, 6))\n",
    "\n",
    "print(sum(liste) / len(liste))\n",
    "```\n",
    "Man kan enkelt bytte ut $100$ med et annet tall.\n",
    "\n",
    "Vi ser at når vi øker antallet terningkast blir gjennomsnittet likere og likere $3.5$. Det er også det tallet det skal nærme seg når vi gjør uendelig mange terningkast.\n",
    "````"
   ]
  }
 ],
 "metadata": {
  "kernelspec": {
   "display_name": "Python 3",
   "language": "python",
   "name": "python3"
  },
  "language_info": {
   "codemirror_mode": {
    "name": "ipython",
    "version": 3
   },
   "file_extension": ".py",
   "mimetype": "text/x-python",
   "name": "python",
   "nbconvert_exporter": "python",
   "pygments_lexer": "ipython3",
   "version": "3.10.7"
  },
  "orig_nbformat": 4
 },
 "nbformat": 4,
 "nbformat_minor": 2
}
