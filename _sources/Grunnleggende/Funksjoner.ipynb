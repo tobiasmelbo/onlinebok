{
 "cells": [
  {
   "cell_type": "markdown",
   "metadata": {},
   "source": [
    "<iframe width=\"560\" height=\"315\" src=\"https://www.youtube.com/embed/Tha_cPxK3xg?si=qG4Be5rWwCn2ACNq&amp;start=3118\" title=\"YouTube video player\" frameborder=\"0\" allow=\"accelerometer; autoplay; clipboard-write; encrypted-media; gyroscope; picture-in-picture; web-share\" referrerpolicy=\"strict-origin-when-cross-origin\" allowfullscreen></iframe>\n",
    "\n",
    "---\n",
    "\n",
    "(Funksjoner)=\n",
    "### Funksjoner\n",
    "\n",
    "Vi kan tenke på en funksjon som en spesifikk oppgave som kan inneholde flere instruksjoner. For å kjøre en funksjon gjør vi et *kall* på funksjonen."
   ]
  },
  {
   "cell_type": "code",
   "execution_count": 5,
   "metadata": {},
   "outputs": [
    {
     "name": "stdout",
     "output_type": "stream",
     "text": [
      "Hei!\n"
     ]
    }
   ],
   "source": [
    "def hils():\n",
    "    print(\"Hei!\")\n",
    "\n",
    "hils()"
   ]
  },
  {
   "cell_type": "markdown",
   "metadata": {},
   "source": [
    "Når vi skriver `hils()` gjør vi et kall på funksjonen. Da gjennomføres det som står med innrykk."
   ]
  },
  {
   "cell_type": "markdown",
   "metadata": {},
   "source": [
    "#### Argumenter og `return`-verdier"
   ]
  },
  {
   "cell_type": "markdown",
   "metadata": {},
   "source": [
    "Ofte ønsker vi å sette variabler *inn* i en funksjon, la gjøre funksjonen gjøre noe, og så få *ut* noe.\n",
    "\n",
    "Det vi setter inn kalles funksjonens **argumenter**. Det vi får ut kalles funksjonens **`return`-verdier**."
   ]
  },
  {
   "cell_type": "code",
   "execution_count": 6,
   "metadata": {},
   "outputs": [
    {
     "name": "stdout",
     "output_type": "stream",
     "text": [
      "4\n"
     ]
    }
   ],
   "source": [
    "def f(x):\n",
    "    return 2*x \n",
    "\n",
    "print(f(2))"
   ]
  },
  {
   "cell_type": "markdown",
   "metadata": {},
   "source": [
    "Når vi kjører funksjonen med funksjonskallet `f(2)` så skjer dette:\n",
    "\n",
    "- `2` settes inn i funksjonen som `x`\n",
    "- funksjonen returnerer to ganger `x`, som blir `4`\n",
    "\n",
    "Derfor skrives `4` ut.\n",
    "\n",
    "Nå kan vi lage matematiske funksjoner!"
   ]
  },
  {
   "cell_type": "markdown",
   "metadata": {},
   "source": [
    "#### Flere argumenter\n",
    "\n",
    "Vi kan gi en funksjon flere argumenter ved å skille de med komma."
   ]
  },
  {
   "cell_type": "code",
   "execution_count": 7,
   "metadata": {},
   "outputs": [
    {
     "name": "stdout",
     "output_type": "stream",
     "text": [
      "3\n",
      "1\n"
     ]
    }
   ],
   "source": [
    "def størst(a, b):\n",
    "    if a >= b:\n",
    "        return a\n",
    "    else:\n",
    "        return b\n",
    "    \n",
    "print(størst(2, 3))\n",
    "print(størst(-2, 1))"
   ]
  },
  {
   "cell_type": "markdown",
   "metadata": {},
   "source": [
    "Denne funksjonen returnerer det som er størst av enten `a` eller `b`."
   ]
  },
  {
   "cell_type": "markdown",
   "metadata": {},
   "source": [
    "---\n",
    "\n",
    "#### Oppgaver\n",
    "\n",
    "```{admonition} Oppgave 1 👋\n",
    ":class: task\n",
    "\n",
    "Lag en funksjon som tar et navn som argument og skriver ut `Hei, <navn>!`\n",
    "```\n",
    "\n",
    "```{admonition} Oppgave 2 🎢\n",
    ":class: task\n",
    "\n",
    "I denne oppgaven skal vi lage den matematiske funksjonen $f(x) = x^2$\n",
    "\n",
    "1. Lag en funksjon `f(x)` som returnerer verdien `x**2`. Prøv den med noen verdier.\n",
    "2. Bruk en for-løkke til å sette inn tallene $[0, 10]$ i funksjonen. Skriv ut resultatene.\n",
    "```\n",
    "\n",
    "```{admonition} Oppgave 3 🧑‍🤝‍🧑\n",
    ":class: task\n",
    "\n",
    "Lag en funksjon `er_partall(x)`som sjekker om et tall `x` er et partall.\n",
    "\n",
    "Funksjonen skal returnere `True` om `x` er et partall, og `False` om det ikke er det.\n",
    "```\n",
    "\n",
    "````{admonition} Oppgave 4 📐\n",
    ":class: task\n",
    "\n",
    "```{sidebar}\n",
    "Med Pytagoras læresetning kan vi finne den lengste siden i en rettvinklet trekant med formelen $c = \\sqrt{a^2+b^2}$.\n",
    "```\n",
    "\n",
    "Lag en funksjon som tar lengden av to sider `a` og `b` som argumenter og returnerer lengden av den lengste siden `c`. \n",
    "\n",
    "Test funksjonen med trekanten `a = 3` og `b = 4`. Dette skal gi `5`.\n",
    "````\n",
    "\n",
    "```{admonition} Oppgave 5 ➗\n",
    ":class: task\n",
    "> I denne oppgaven kan det være nyttig å se tilbake på {ref}`Rest og heltallsdivisjon`\n",
    "\n",
    "Lag en funksjon `er_primtall(x)` som skjekker om et tall `x` er et primtall. Den skal returnere `True` dersom tallet er et primtall og `False` dersom det ikke er det.\n",
    "```\n",
    "\n",
    "```{admonition} Oppgave 6 🧠 (utfordring)\n",
    ":class: task\n",
    "\n",
    "*Pytagoreiske tripler* er tre og tre tall som passer i likningen $a^2 + b^2 = c^2$. Det enkleste eksemplet er $a=3$, $b=4$ og $c=5$. Vi kan skrive det som $(3,4,5)$.\n",
    "\n",
    "a) Skriv ut alle pytagoreiske tripler bestående av heltall under $100$.\n",
    "\n",
    "*Primitive pytagoreiske tripler* er de triplene som ikke deler en felles faktor større enn $1$. Med andre ord er $(3,4,5)$ en primitiv pytagoreisk trippel, men ikke $(6,8,10)$ fordi $6$, $8$ og $10$ deler en faktor $2$.\n",
    "\n",
    "b) Modifiser programmet til å bare skrive ut de primitive pytagoreiske triplene.\n",
    "```"
   ]
  }
 ],
 "metadata": {
  "kernelspec": {
   "display_name": "Python 3",
   "language": "python",
   "name": "python3"
  },
  "language_info": {
   "codemirror_mode": {
    "name": "ipython",
    "version": 3
   },
   "file_extension": ".py",
   "mimetype": "text/x-python",
   "name": "python",
   "nbconvert_exporter": "python",
   "pygments_lexer": "ipython3",
   "version": "3.10.7"
  },
  "orig_nbformat": 4
 },
 "nbformat": 4,
 "nbformat_minor": 2
}
