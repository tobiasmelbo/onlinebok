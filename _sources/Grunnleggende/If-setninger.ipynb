{
 "cells": [
  {
   "attachments": {},
   "cell_type": "markdown",
   "metadata": {},
   "source": [
    "<iframe width=\"560\" height=\"315\" src=\"https://www.youtube.com/embed/Tha_cPxK3xg?si=4rVrQn1AepEIZkLd&amp;start=1292\" title=\"YouTube video player\" frameborder=\"0\" allow=\"accelerometer; autoplay; clipboard-write; encrypted-media; gyroscope; picture-in-picture; web-share\" referrerpolicy=\"strict-origin-when-cross-origin\" allowfullscreen></iframe>\n",
    "\n",
    "---\n",
    "\n",
    "(If-setninger)=\n",
    "### If-setninger\n",
    "\n",
    "If-setninger (*`if`-statements*) er en måte for å sjekke om et utsagn er sant, og så gjøre en del av koden bare *dersom* det er sant. Da kan programmet reagere ulikt til forskjellige scenarioer. \n",
    " \n",
    "#### Utsagn\n",
    "\n",
    "Utsagn er påstander som kan være sanne eller usanne. `True` eller `False`.\n",
    "\n",
    "Først må vi lære en måte å uttrykke utsagn på. Dette kan vi gjøre med symboler som vi kaller sammenlikningsoperatorer.\n",
    "\n",
    "Under er en oversikt over disse."
   ]
  },
  {
   "attachments": {},
   "cell_type": "markdown",
   "metadata": {},
   "source": [
    "::::{grid} 2\n",
    ":gutter: 1\n",
    "\n",
    ":::{grid-item-card} \n",
    "**Operator**\n",
    ":::\n",
    "\n",
    ":::{grid-item-card} \n",
    "**Betydning**\n",
    ":::\n",
    "\n",
    ":::{grid-item-card} \n",
    "`==`\n",
    ":::\n",
    "\n",
    ":::{grid-item-card} \n",
    "Lik\n",
    ":::\n",
    "\n",
    ":::{grid-item-card} \n",
    "`!=`\n",
    ":::\n",
    "\n",
    ":::{grid-item-card} \n",
    "Ikke lik\n",
    ":::\n",
    "\n",
    ":::{grid-item-card} \n",
    "`>`\n",
    ":::\n",
    "\n",
    ":::{grid-item-card} \n",
    "Større enn\n",
    ":::\n",
    "\n",
    ":::{grid-item-card} \n",
    "`<`\n",
    ":::\n",
    "\n",
    ":::{grid-item-card} \n",
    "Mindre enn\n",
    ":::\n",
    "\n",
    ":::{grid-item-card} \n",
    "`>=`\n",
    ":::\n",
    "\n",
    ":::{grid-item-card} \n",
    "Større enn, eller lik.\n",
    ":::\n",
    "\n",
    ":::{grid-item-card} \n",
    "`<=`\n",
    ":::\n",
    "\n",
    ":::{grid-item-card} \n",
    "Mindre enn, eller lik.\n",
    ":::\n",
    "\n",
    "::::"
   ]
  },
  {
   "attachments": {},
   "cell_type": "markdown",
   "metadata": {},
   "source": [
    "Her kommer det noen eksempler på utsagn."
   ]
  },
  {
   "cell_type": "code",
   "execution_count": 2,
   "metadata": {},
   "outputs": [
    {
     "name": "stdout",
     "output_type": "stream",
     "text": [
      "False\n",
      "True\n",
      "False\n",
      "True\n",
      "False\n",
      "True\n"
     ]
    }
   ],
   "source": [
    "print(1 == 2)\n",
    "print(1 != 2)\n",
    "print(1 > 2)\n",
    "print(1 < 2)\n",
    "print(1 >= 2)\n",
    "print(1 <= 2)"
   ]
  },
  {
   "attachments": {},
   "cell_type": "markdown",
   "metadata": {},
   "source": [
    "Der vi får `False` er utsagnet galt. Der vi får `True` er utsagnet riktig. Gå igjennom eksempelet og sørg for at du forstår hvorfor det blir skrevet ut `True` eller `False` for de forskjellige utsagnene."
   ]
  },
  {
   "attachments": {},
   "cell_type": "markdown",
   "metadata": {},
   "source": [
    "#### If-setninger\n",
    "\n",
    "Nå kan vi begynne å skrive if-setninger."
   ]
  },
  {
   "cell_type": "code",
   "execution_count": 3,
   "metadata": {},
   "outputs": [
    {
     "name": "stdout",
     "output_type": "stream",
     "text": [
      "a er mindre enn b\n"
     ]
    }
   ],
   "source": [
    "a = 2\n",
    "b = 3\n",
    "\n",
    "if a < b:\n",
    "    print(\"a er mindre enn b\")"
   ]
  },
  {
   "attachments": {},
   "cell_type": "markdown",
   "metadata": {},
   "source": [
    "Legg merke til at linjen med `print()` er skrevet med et innrykk. Dette kan du lage selv ved å trykke på TAB-knappen på tastaturet. Det som er skrevet med innrykk etter en if-setning `if a < b:` skjer bare dersom utsagnet `a < b` er sant. \n",
    "\n",
    "Forsøk å endre programmet slik at `a` ikke er mindre enn `b`. Da vil du se at linjen med `print()` ikke gjennomføres.\n",
    "\n",
    "Vi kan også sjekke flere ulike scenarioer."
   ]
  },
  {
   "cell_type": "code",
   "execution_count": 4,
   "metadata": {},
   "outputs": [
    {
     "name": "stdout",
     "output_type": "stream",
     "text": [
      "a er lik b\n"
     ]
    }
   ],
   "source": [
    "a = 3\n",
    "b = 3\n",
    "\n",
    "if a < b:\n",
    "    print(\"a er mindre enn b\")\n",
    "elif a == b:\n",
    "    print(\"a er lik b\")\n",
    "else:\n",
    "    print(\"a er større enn b\")"
   ]
  },
  {
   "attachments": {},
   "cell_type": "markdown",
   "metadata": {},
   "source": [
    "Her bruker vi `elif` og `else` for å sjekke flere forskjellige muligheter. `elif` er en forkortelse for else if, og betyr *eller hvis*. `else` betyr *ellers*.\n",
    "\n",
    "Programmet over kan leses på denne måten:\n",
    "\n",
    "- Hvis `a` er mindre enn `b` så skriver vi *a er mindre enn b*\n",
    "- ... eller hvis `a` er lik `b` så skriver vi *a er lik b*\n",
    "- ... ellers skriver vi *a er større enn b*."
   ]
  },
  {
   "cell_type": "markdown",
   "metadata": {},
   "source": [
    "#### Logiske operatorer\n",
    "\n",
    "Vi kan kombinere utsagn med de logiske operatorene `and`, `or` og `not`.\n",
    "\n",
    "Hvis jeg ønsker å sjekke at flere utsagn stemmer, altså at **begge** utsagnene blir sanne, kan jeg bruke `and`."
   ]
  },
  {
   "cell_type": "code",
   "execution_count": 1,
   "metadata": {},
   "outputs": [
    {
     "name": "stdout",
     "output_type": "stream",
     "text": [
      "True\n"
     ]
    }
   ],
   "source": [
    "x = 6\n",
    "print(x >= 5 and x <= 10) # Sjekker om x er større eller lik 5 *og* mindre enn eller lik 10."
   ]
  },
  {
   "cell_type": "markdown",
   "metadata": {},
   "source": [
    "Hvis det holder at et utsagn stemmer, men jeg ønsker å sjekke flere, kan jeg bruke `or`. Følgende utsagn blir sant dersom et av utsagnene er sant, eller begge."
   ]
  },
  {
   "cell_type": "code",
   "execution_count": 2,
   "metadata": {},
   "outputs": [
    {
     "name": "stdout",
     "output_type": "stream",
     "text": [
      "True\n"
     ]
    }
   ],
   "source": [
    "x = 20\n",
    "print(x == 20 or x == 1) # Sjekker om x er 20 eller 1. "
   ]
  },
  {
   "cell_type": "markdown",
   "metadata": {},
   "source": [
    "Hvis jeg ønsker å sjekke at noe **ikke** stemmer kan jeg bruke `not`."
   ]
  },
  {
   "cell_type": "code",
   "execution_count": 5,
   "metadata": {},
   "outputs": [
    {
     "name": "stdout",
     "output_type": "stream",
     "text": [
      "True\n"
     ]
    }
   ],
   "source": [
    "x = 5\n",
    "print(not x == 0)"
   ]
  },
  {
   "attachments": {},
   "cell_type": "markdown",
   "metadata": {},
   "source": [
    "---\n",
    "\n",
    "#### Oppgaver\n",
    "\n",
    "````{admonition} Oppgave 1 🗣️ \n",
    ":class: task\n",
    "\n",
    "I denne oppgaven skal du lage utsagn og skrive ut booleans (sannhetsverdier).\n",
    "\n",
    "```\n",
    "print(1 == 1) # Skriver ut True\n",
    "```\n",
    "\n",
    "1. Lag et utsagn som gir `True` og bruker operatoren `==`\n",
    "2. Lag et utsagn som gir `True` og bruker operatoren `>`\n",
    "3. Lag et utsagn som gir `True` og bruker operatoren `!=`\n",
    "4. Lag et utsagn som gir `False` og bruker operatoren `==`\n",
    "5. Lag et utsagn som gir `False` og bruker operatoren `<`\n",
    "6. Lag et utsagn som gir `False` og bruker operatoren `>=`\n",
    "````\n",
    "\n",
    "````{admonition} Oppgave 2 ✖️\n",
    ":class: task\n",
    "\n",
    "> *Se {ref}`Input og pakker` for hvordan man kan få input og generere tilfeldige tall*.\n",
    "\n",
    "I denne oppgaven skal vi lage et program som trener oss på gangetabellen. \n",
    "\n",
    "Her er starten på et program.\n",
    "\n",
    "```\n",
    "from random import randint\n",
    "\n",
    "a = randint(1, 9)\n",
    "b = randint(1, 9)\n",
    "```\n",
    "\n",
    "1. Utvid programmet til å skrive \"Hva er `a` ganger `b`?\"\n",
    "2. Lag en variabel `svar` som skal være et tall fra brukerens input.\n",
    "\n",
    "Hvis svaret er riktig skal programmet skrive ut at svaret er riktig. Hvis svaret er feil skal programmet skrive ut at svaret er feil og hva som er det riktige svaret.\n",
    "````"
   ]
  }
 ],
 "metadata": {
  "kernelspec": {
   "display_name": "Python 3",
   "language": "python",
   "name": "python3"
  },
  "language_info": {
   "codemirror_mode": {
    "name": "ipython",
    "version": 3
   },
   "file_extension": ".py",
   "mimetype": "text/x-python",
   "name": "python",
   "nbconvert_exporter": "python",
   "pygments_lexer": "ipython3",
   "version": "3.10.7"
  },
  "orig_nbformat": 4
 },
 "nbformat": 4,
 "nbformat_minor": 2
}
