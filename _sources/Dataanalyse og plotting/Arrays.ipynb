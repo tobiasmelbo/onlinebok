{
 "cells": [
  {
   "cell_type": "markdown",
   "metadata": {},
   "source": [
    "(Arrays)=\n",
    "### Arrays\n",
    "\n",
    "En array er en måte å lagre data på. Arrays likner på {ref}`Lister`, men har flere viktige forskjeller.\n",
    "\n",
    "For å bruke arrays må vi bruke en pakke som heter `numpy`. Mange Python-installasjoner vil inkludere denne pakken, men man kan også installere pakken ved å skrive `pip install numpy` i terminalvinduet.\n",
    "\n",
    "Når vi har `numpy`-pakken kan vi lage en array på denne måten."
   ]
  },
  {
   "cell_type": "code",
   "execution_count": 9,
   "metadata": {},
   "outputs": [
    {
     "name": "stdout",
     "output_type": "stream",
     "text": [
      "[1 2 3]\n"
     ]
    }
   ],
   "source": [
    "import numpy as np\n",
    " \n",
    "array = np.array([1, 2, 3])\n",
    "\n",
    "print(array)"
   ]
  },
  {
   "cell_type": "markdown",
   "metadata": {},
   "source": [
    "#### `linspace()`-funksjonen\n",
    "\n",
    "For å lage en jevn fordeling av tall i et intervall kan vi bruke `linspace()`-funksjonen. Dette er nyttig for å lage `x`-verdier til en matematisk funksjon."
   ]
  },
  {
   "cell_type": "code",
   "execution_count": 12,
   "metadata": {},
   "outputs": [
    {
     "name": "stdout",
     "output_type": "stream",
     "text": [
      "[0.  0.5 1.  1.5 2. ]\n",
      "[-5.         -3.88888889 -2.77777778 -1.66666667 -0.55555556  0.55555556\n",
      "  1.66666667  2.77777778  3.88888889  5.        ]\n"
     ]
    }
   ],
   "source": [
    "import numpy as np\n",
    "\n",
    "print(np.linspace(0, 2, 5)) # 5 tall mellom 0 og 2 (inkluderende)\n",
    "print(np.linspace(-5, 5, 10)) # 10 tall mellom -5 og 5 (inkluderende)"
   ]
  },
  {
   "cell_type": "markdown",
   "metadata": {},
   "source": [
    "#### Regne ut $x$-verdier og $y$-verdier for funksjoner"
   ]
  },
  {
   "cell_type": "markdown",
   "metadata": {},
   "source": [
    "Her kommer et eksempel på hvordan vi kan lage `x`-verdier med `np.linspace()` og bruke det til å finne tilsvarende `y`-verdier."
   ]
  },
  {
   "cell_type": "code",
   "execution_count": 1,
   "metadata": {},
   "outputs": [
    {
     "name": "stdout",
     "output_type": "stream",
     "text": [
      "x-verdier: [-2. -1.  0.  1.  2.]\n",
      "y-verdier: [4. 1. 0. 1. 4.]\n"
     ]
    }
   ],
   "source": [
    "import numpy as np\n",
    "\n",
    "def f(x):\n",
    "    return x**2\n",
    "\n",
    "x = np.linspace(-2, 2, 5) # 5 tall mellom -5 og 5\n",
    "y = f(x)\n",
    "\n",
    "print(\"x-verdier:\", x)\n",
    "print(\"y-verdier:\", y)"
   ]
  },
  {
   "cell_type": "markdown",
   "metadata": {},
   "source": [
    "Forsøk å se for deg hvordan funksjonen ser ut ved å se på disse verdiene. Tegn den gjerne, hvis du gidder."
   ]
  },
  {
   "cell_type": "markdown",
   "metadata": {},
   "source": [
    "#### Skrive ut punkter\n",
    "Vi kan skrive ut flere punkter fra en matematisk funksjon med en `for`-løkke. Da kan vi få en anelse over hvordan den ser ut."
   ]
  },
  {
   "cell_type": "code",
   "execution_count": 28,
   "metadata": {},
   "outputs": [
    {
     "name": "stdout",
     "output_type": "stream",
     "text": [
      "(-2.0, 4.0)\n",
      "(-1.0, 1.0)\n",
      "(0.0, 0.0)\n",
      "(1.0, 1.0)\n",
      "(2.0, 4.0)\n"
     ]
    }
   ],
   "source": [
    "import numpy as np\n",
    "\n",
    "def f(x):\n",
    "    return x**2\n",
    "\n",
    "x = np.linspace(-2, 2, 5) # 5 tall mellom -5 og 5\n",
    "y = f(x)\n",
    "\n",
    "for n in range(len(x)):\n",
    "    print(f\"({x[n]}, {y[n]})\") # Skriver ut hvert punkt (x, y)"
   ]
  },
  {
   "cell_type": "markdown",
   "metadata": {},
   "source": [
    "Ved å endre på `np.linspace`-funksjonen og funksjonsuttrykket kan vi nå skrive ut så mange punkter vi ønsker fra en vilkårlig matematisk funksjon. *Sykt fett, dude!* 🤙"
   ]
  },
  {
   "cell_type": "markdown",
   "metadata": {},
   "source": [
    "---\n",
    "\n",
    "#### Oppgaver\n",
    "\n",
    "````{admonition} Oppgave 1\n",
    ":class: task\n",
    "\n",
    "I denne oppgaven skal vi lage en andregradsfunksjon $g(x)=x^2-1$\n",
    "\n",
    "Bruk eksempelet over til å skrive ut punkter fra funksjonen `g(x)` med $9$ jevnt fordelte $x$-verdier mellom $-2$ og $2$.\n",
    "\n",
    "- Bruk punktene til å tegne funksjonen for hånd.\n",
    "- Bruk verdiene og tegningen til å finne $x$-verdiene hvor funksjonen krysser $x$-aksen.\n",
    "````\n",
    "\n",
    "````{admonition} Oppgave 2\n",
    ":class: task\n",
    "\n",
    "Overskuddet $O(x)$ til en bedrift etter å ha produsert $x$ enheter er gitt ved $O(x)=-x^2+50x-96$.\n",
    "\n",
    "Lag $51$ jevnt fordelte $x$-verdier mellom $0$ og $50$, finn $y$-verdiene og skriv ut punktene med en `for`-løkke.\n",
    "\n",
    "- Hvor mange enheter må bedriften lage for å tjene penger?\n",
    "- Hvor mange enheter må bedriften lage for å tjene mest mulig penger? Hvor mye tjener de da?\n",
    "\n",
    "Skriv svarene som en kommentar.\n",
    "````"
   ]
  }
 ],
 "metadata": {
  "kernelspec": {
   "display_name": "Python 3",
   "language": "python",
   "name": "python3"
  },
  "language_info": {
   "codemirror_mode": {
    "name": "ipython",
    "version": 3
   },
   "file_extension": ".py",
   "mimetype": "text/x-python",
   "name": "python",
   "nbconvert_exporter": "python",
   "pygments_lexer": "ipython3",
   "version": "3.10.6"
  }
 },
 "nbformat": 4,
 "nbformat_minor": 2
}
