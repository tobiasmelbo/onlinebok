{
 "cells": [
  {
   "cell_type": "markdown",
   "metadata": {},
   "source": [
    "(Dataanalyse og plotting)=\n",
    "# Dataanalyse og plotting 📈\n",
    "\n",
    "I dette kapittelet skal vi analysere **data**. Vi skal\n",
    "- ... se på *arrays*, en viktig datatype 📦\n",
    "- ... lage grafer og diagrammer 📈📊\n",
    "- ... lære å jobbe med ekte datasett 📂\n",
    "- ... gjøre regresjon for å se frem og tilbake i tid 🧙‍♂️🔮\n",
    "\n",
    "For å gjøre det skal vi bli litt kjent med noen ting fra pakkene:\n",
    "- `numpy` (arrays)\n",
    "- `matplotlib` (plotting)\n",
    "- `pandas` (jobbe med datasett)\n",
    "- `scipy` (regresjon)\n",
    "\n",
    "```{admonition} Til læreren 🧑‍🏫\n",
    ":class: note\n",
    "Dette kapitlet bygger videre på emnene fra introduksjonskapitlet og handler om dataanalyse, plotting og modellering.\n",
    "\n",
    "Stoffet her er relevant for alle kompetansemål som handler om å kunne analysere og bruke reelle datasett.\n",
    "``` "
   ]
  }
 ],
 "metadata": {
  "language_info": {
   "name": "python"
  },
  "orig_nbformat": 4
 },
 "nbformat": 4,
 "nbformat_minor": 2
}
