{
 "cells": [
  {
   "cell_type": "markdown",
   "metadata": {},
   "source": [
    "(Dataanalyse og plotting)=\n",
    "# Dataanalyse og plotting 📈\n",
    "\n",
    "Har du fullført {ref}`Grunnleggende Python`? Bra jobba 👏\n",
    "\n",
    "I dette kapitlet skal vi lære å visualisere og analysere matematiske funksjoner, enkle data og reelle data.\n",
    "\n",
    "```{admonition} Til læreren 🧑‍🏫\n",
    ":class: note\n",
    "Dette kapitlet bygger videre på emnene fra introduksjonskapitlet og handler om dataanalyse, plotting og modellering.\n",
    "\n",
    "Stoffet her er relevant for alle kompetansemål som handler om å kunne analysere og bruke reelle data.\n",
    "``` "
   ]
  }
 ],
 "metadata": {
  "language_info": {
   "name": "python"
  },
  "orig_nbformat": 4
 },
 "nbformat": 4,
 "nbformat_minor": 2
}
