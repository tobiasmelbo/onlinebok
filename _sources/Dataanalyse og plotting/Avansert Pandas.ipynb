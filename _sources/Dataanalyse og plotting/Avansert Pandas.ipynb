{
 "cells": [
  {
   "cell_type": "markdown",
   "metadata": {},
   "source": [
    "### Avansert: Pandas\n",
    "\n",
    "La oss se litt nærmere på `pandas`."
   ]
  },
  {
   "cell_type": "markdown",
   "metadata": {},
   "source": [
    "#### Dataframes\n",
    "\n",
    "Den viktigste datatypen fra `pandas` er `DataFrame`.\n",
    "\n",
    "En dataframe er en ordbok hvor keys er navn for kolonner, og values er data i hver kolonne."
   ]
  },
  {
   "cell_type": "code",
   "execution_count": 36,
   "metadata": {},
   "outputs": [
    {
     "name": "stdout",
     "output_type": "stream",
     "text": [
      "     Navn      Class  Alder      Rase  Level\n",
      "0   Aelar     Ranger    120       Elf      5\n",
      "1  Thalia     Wizard     35     Human      7\n",
      "2  Gorath  Barbarian     28  Half-Orc      6\n",
      "3   Elara      Rogue     25  Halfling      4\n",
      "4   Borin     Cleric    150     Dwarf      8\n"
     ]
    }
   ],
   "source": [
    "import pandas as pd\n",
    "\n",
    "data = {\n",
    "    'Navn': ['Aelar', 'Thalia', 'Gorath', 'Elara', 'Borin'],\n",
    "    'Class': ['Ranger', 'Wizard', 'Barbarian', 'Rogue', 'Cleric'],\n",
    "    'Alder': [120, 35, 28, 25, 150],\n",
    "    'Rase': ['Elf', 'Human', 'Half-Orc', 'Halfling', 'Dwarf'],\n",
    "    'Level': [5, 7, 6, 4, 8]\n",
    "}\n",
    "\n",
    "df = pd.DataFrame(data)\n",
    "\n",
    "print(df)"
   ]
  },
  {
   "cell_type": "markdown",
   "metadata": {},
   "source": [
    "Vi kan hente kolonner ved å skrive inn navnene som keys. Disse kolonnene kan håndteres som lister."
   ]
  },
  {
   "cell_type": "code",
   "execution_count": 14,
   "metadata": {},
   "outputs": [
    {
     "name": "stdout",
     "output_type": "stream",
     "text": [
      "0     Aelar\n",
      "1    Thalia\n",
      "2    Gorath\n",
      "3     Elara\n",
      "4     Borin\n",
      "Name: Navn, dtype: object\n",
      "\n",
      "['Aelar', 'Thalia', 'Gorath', 'Elara', 'Borin']\n"
     ]
    }
   ],
   "source": [
    "print(df[\"Navn\"])\n",
    "print()\n",
    "print(list(df[\"Navn\"]))"
   ]
  },
  {
   "cell_type": "markdown",
   "metadata": {},
   "source": [
    "Man kan hente en spesifikk rad ved å bruke `iloc()`, eller `loc()` hvis filen har en ID i starten av hver rad."
   ]
  },
  {
   "cell_type": "code",
   "execution_count": 20,
   "metadata": {},
   "outputs": [
    {
     "name": "stdout",
     "output_type": "stream",
     "text": [
      "Navn      Borin\n",
      "Class    Cleric\n",
      "Alder       150\n",
      "Rase      Dwarf\n",
      "Level         8\n",
      "Name: 4, dtype: object\n"
     ]
    }
   ],
   "source": [
    "print(df.iloc[4])"
   ]
  },
  {
   "cell_type": "markdown",
   "metadata": {},
   "source": [
    "Man kan også filtrere resultatene fra en rad."
   ]
  },
  {
   "cell_type": "code",
   "execution_count": 23,
   "metadata": {},
   "outputs": [
    {
     "name": "stdout",
     "output_type": "stream",
     "text": [
      "     Navn      Class  Alder      Rase  Level\n",
      "1  Thalia     Wizard     35     Human      7\n",
      "2  Gorath  Barbarian     28  Half-Orc      6\n",
      "4   Borin     Cleric    150     Dwarf      8\n"
     ]
    }
   ],
   "source": [
    "print(df[df[\"Level\"] >= 6]) # Henter ut alle som har level større enn eller likt 6"
   ]
  },
  {
   "cell_type": "markdown",
   "metadata": {},
   "source": [
    "Vi kan også finne gjennomsnitt og summer veldig enkelt med `mean()`- og `sum()`-metodene."
   ]
  },
  {
   "cell_type": "code",
   "execution_count": 46,
   "metadata": {},
   "outputs": [
    {
     "name": "stdout",
     "output_type": "stream",
     "text": [
      "Gjennomsnittlig alder: 71.6 år\n",
      "Sum av hvert level: 30\n"
     ]
    }
   ],
   "source": [
    "print(f\"Gjennomsnittlig alder: {df[\"Alder\"].mean()} år\")\n",
    "print(f\"Sum av hvert level: {df[\"Level\"].sum()}\")"
   ]
  },
  {
   "cell_type": "markdown",
   "metadata": {},
   "source": [
    "#### Skrive til og lese fra filer.\n",
    "\n",
    "Vi kan skrive til og lese fra filer ved å bruke `pd.read_csv()` og `pd.to_csv()`. *Ja, det er også mulig med JSON*"
   ]
  },
  {
   "cell_type": "code",
   "execution_count": 47,
   "metadata": {},
   "outputs": [],
   "source": [
    "df.to_csv(\"adventurers.csv\", index=False)"
   ]
  },
  {
   "cell_type": "code",
   "execution_count": 48,
   "metadata": {},
   "outputs": [
    {
     "name": "stdout",
     "output_type": "stream",
     "text": [
      "     Navn      Class  Alder      Rase  Level\n",
      "0   Aelar     Ranger    120       Elf      5\n",
      "1  Thalia     Wizard     35     Human      7\n",
      "2  Gorath  Barbarian     28  Half-Orc      6\n",
      "3   Elara      Rogue     25  Halfling      4\n",
      "4   Borin     Cleric    150     Dwarf      8\n"
     ]
    }
   ],
   "source": [
    "df = pd.read_csv(\"adventurers.csv\")\n",
    "print(df)"
   ]
  },
  {
   "cell_type": "markdown",
   "metadata": {},
   "source": [
    "```{admonition} Annen separator og desimaltegn\n",
    ":class: hint\n",
    "Metoden `pd.read_csv()` kan også ta argumentene `sep=` og `decimal=` for å håndtere datafiler som har andre separatorer enn komma `,` og som bruker `,` i stedet for `.` i desimaltall.\n",
    "```"
   ]
  },
  {
   "cell_type": "markdown",
   "metadata": {},
   "source": [
    "#### Sortering\n",
    "\n",
    "Man kan også sortere en DataFrame etter verdier."
   ]
  },
  {
   "cell_type": "code",
   "execution_count": 52,
   "metadata": {},
   "outputs": [
    {
     "name": "stdout",
     "output_type": "stream",
     "text": [
      "     Navn      Class  Alder      Rase  Level\n",
      "4   Borin     Cleric    150     Dwarf      8\n",
      "0   Aelar     Ranger    120       Elf      5\n",
      "1  Thalia     Wizard     35     Human      7\n",
      "2  Gorath  Barbarian     28  Half-Orc      6\n",
      "3   Elara      Rogue     25  Halfling      4\n"
     ]
    }
   ],
   "source": [
    "print(df.sort_values(by=\"Alder\", ascending=False))"
   ]
  }
 ],
 "metadata": {
  "kernelspec": {
   "display_name": "Python 3",
   "language": "python",
   "name": "python3"
  },
  "language_info": {
   "codemirror_mode": {
    "name": "ipython",
    "version": 3
   },
   "file_extension": ".py",
   "mimetype": "text/x-python",
   "name": "python",
   "nbconvert_exporter": "python",
   "pygments_lexer": "ipython3",
   "version": "3.12.4"
  }
 },
 "nbformat": 4,
 "nbformat_minor": 2
}
