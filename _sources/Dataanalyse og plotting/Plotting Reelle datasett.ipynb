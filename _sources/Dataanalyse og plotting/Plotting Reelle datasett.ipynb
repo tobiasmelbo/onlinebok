{
 "cells": [
  {
   "cell_type": "code",
   "execution_count": 4,
   "metadata": {
    "tags": [
     "remove_cell"
    ]
   },
   "outputs": [],
   "source": [
    "import numpy as np\n",
    "import catppuccin\n",
    "import matplotlib\n",
    "import matplotlib.pyplot as plt\n",
    "matplotlib.style.use(catppuccin.PALETTE.latte.identifier)"
   ]
  },
  {
   "cell_type": "markdown",
   "metadata": {},
   "source": [
    "(Plotting: Reelle datasett)=\n",
    "### Reelle datasett\n",
    "\n",
    "Å skrive inn mange datapunkter er døllt og tar lang tid. Buuu! 👎 Tenk om vi kunne lese inn data fra store datafiler. Hadde ikke det vært nyttig? \n",
    "\n",
    "La meg introdusere deg for `pandas`. Denne Python-pakken lar oss lese inn data fra datafiler helt automatisk! 🤯\n",
    "\n",
    "Mange Python-installasjoner inkluderer denne pakken, men man kan også installere pakken ved å skrive `pip install pandas` i terminalvinduet.\n",
    " \n",
    "#### Lese inn i Pandas\n",
    "La oss ta utgangspunkt i et datasett fra SSB om konsumprisindeksen fra og med 1930 til og med 2023.\n",
    "\n",
    "Du kan laste ned datafilen [her](konsumprisindeks.csv).\n",
    "\n",
    "Hvis vi åpner filen `konsumprisindeks.csv` får vi en fil hvor de første linjene ser slik ut:\n",
    "\n",
    "```\n",
    "År;Årsgj.snitt2;Jan;Feb;Mar;Apr;Mai;Jun;Jul;Aug;Sep;Okt;Nov;Des\n",
    "2023;129,6;126,1;126,6;127,6;129,0;129,6;130,4;130,9;129,9;129,8;131,1;131,8;131,9\n",
    "2022;122,8;117,8;119,1;119,8;121,2;121,5;122,6;124,2;123,9;125,6;126,0;125,8;125,9\n",
    "2021;116,1;114,1;114,9;114,6;115,0;114,9;115,3;116,3;116,3;117,5;117,2;118,1;118,9\n",
    "2020;112,2;111,3;111,2;111,2;111,7;111,9;112,1;112,9;112,5;112,9;113,2;112,4;112,9\n",
    "2019;110,8;109,3;110,2;110,4;110,8;110,5;110,6;111,4;110,6;111,1;111,3;111,6;111,3\n",
    "2018;108,4;106,0;107,0;107,3;107,7;107,8;108,5;109,3;108,9;109,5;109,3;109,8;109,8\n",
    "```\n",
    "\n",
    "Hver linje (bortsett fra den første) inneholder informasjon om konsumprisindeksen hvert år. Den første verdien er året (f.eks `2023`), så kommer årsgjennomsnittet (f.eks `129,6`) og så kommer konsumprisindeksen hver måned etter det. Alle disse verdiene er adskilt med en semikolon `;`.\n",
    "\n",
    "Vi kan lese inn data fra en `csv-fil` i Pandas på denne måten:"
   ]
  },
  {
   "cell_type": "code",
   "execution_count": 5,
   "metadata": {},
   "outputs": [
    {
     "name": "stdout",
     "output_type": "stream",
     "text": [
      "     År  Årsgj.snitt2    Jan    Feb    Mar    Apr    Mai    Jun    Jul    Aug  \\\n",
      "0  2023         129.6  126.1  126.6  127.6  129.0  129.6  130.4  130.9  129.9   \n",
      "1  2022         122.8  117.8  119.1  119.8  121.2  121.5  122.6  124.2  123.9   \n",
      "2  2021         116.1  114.1  114.9  114.6  115.0  114.9  115.3  116.3  116.3   \n",
      "\n",
      "     Sep    Okt    Nov    Des  \n",
      "0  129.8  131.1  131.8  131.9  \n",
      "1  125.6  126.0  125.8  125.9  \n",
      "2  117.5  117.2  118.1  118.9  \n"
     ]
    }
   ],
   "source": [
    "import pandas as pd\n",
    "\n",
    "df = pd.read_csv(\"konsumprisindeks.csv\", delimiter=\";\", decimal=\",\") # Leser filen og spesifiserer at data skilles med semikolon \";\" og desimaltall skrives med \",\"\n",
    "\n",
    "print(df.head(3)) # Printer ut de tre første linjene."
   ]
  },
  {
   "cell_type": "markdown",
   "metadata": {},
   "source": [
    "#### Plotte data fra Pandas\n",
    "Vi kan enkelt trekke ut de kolonnene vi ønsker og plotte de på denne måten."
   ]
  },
  {
   "cell_type": "code",
   "execution_count": 6,
   "metadata": {},
   "outputs": [
    {
     "data": {
      "image/png": "[encoded data removed]",
      "text/plain": [
       "<Figure size 640x480 with 1 Axes>"
      ]
     },
     "metadata": {},
     "output_type": "display_data"
    }
   ],
   "source": [
    "import pandas as pd\n",
    "import matplotlib.pyplot as plt\n",
    "\n",
    "df = pd.read_csv(\"konsumprisindeks.csv\", delimiter=\";\", decimal=\",\") # Leser filen og spesifiserer at data skilles med semikolon \";\" og desimaltall skrives med \",\"\n",
    "\n",
    "x = df[\"År\"]            # Henter ut x-verdier fra kolonnen \"År\"\n",
    "y = df[\"Årsgj.snitt2\"]  # Henter ut y-verdier fra kolonnen \"Årsgj.snitt2\"\n",
    "\n",
    "plt.plot(x, y) # Lager plot\n",
    "plt.grid()     # Viser rutenett\n",
    "plt.show()     # Viser plottet"
   ]
  },
  {
   "cell_type": "markdown",
   "metadata": {},
   "source": [
    "Wow! Nå har vi fått plottet konsumprisindeksen over $93$ år! Tenk hvor lang tid det hadde tatt hvis vi måtte skrive inn hvert punkt! \n",
    "\n",
    "> Kilde til data om konsumprisindeks: [SSB](https://www.ssb.no/priser-og-prisindekser/konsumpriser/statistikk/konsumprisindeksen)."
   ]
  },
  {
   "cell_type": "markdown",
   "metadata": {},
   "source": [
    "---\n",
    "\n",
    "#### Oppgaver\n",
    "\n",
    "````{admonition} Oppgave 1\n",
    ":class: task\n",
    "\n",
    "I denne oppgaven skal vi plotte boligprisindeks for brukte boliger i Oslo/Bærum fra og med $1992$ til og med $2022$.\n",
    "\n",
    "Last ned datafilen [her](boligpriser.csv).\n",
    "\n",
    "Starten av datafilen står under. Legg merke til at desimaltallene er skrevet med punktum `.` her, ikke komma `,` som i eksempelet over. Legg også merke til at navnet på kolonnene må skrives *helt* likt som i filen.\n",
    "\n",
    "```\n",
    "\"Region\";\"Boligtype\";\"År\";\"Prisindeks for brukte boliger\"\n",
    "\"Oslo med Bærum\";\"Boliger i alt\";\"1992\";13.6\n",
    "\"Oslo med Bærum\";\"Boliger i alt\";\"1993\";14.1\n",
    "\"Oslo med Bærum\";\"Boliger i alt\";\"1994\";16.9\n",
    "\"Oslo med Bærum\";\"Boliger i alt\";\"1995\";17.8\n",
    "```\n",
    "\n",
    "Lag et plott over prisindeksen for brukte boliger over alle årene.\n",
    "````"
   ]
  }
 ],
 "metadata": {
  "kernelspec": {
   "display_name": "Python 3",
   "language": "python",
   "name": "python3"
  },
  "language_info": {
   "codemirror_mode": {
    "name": "ipython",
    "version": 3
   },
   "file_extension": ".py",
   "mimetype": "text/x-python",
   "name": "python",
   "nbconvert_exporter": "python",
   "pygments_lexer": "ipython3",
   "version": "3.10.7"
  }
 },
 "nbformat": 4,
 "nbformat_minor": 2
}
