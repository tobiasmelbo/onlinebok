{
 "cells": [
  {
   "cell_type": "markdown",
   "metadata": {},
   "source": [
    "(Avansert: Arrays II)=\n",
    "### Avansert: Arrays II\n",
    "\n",
    "```{admonition} Forutsetninger\n",
    ":class: note\n",
    "Denne delen forutsetter at man har vært gjennom delkapitlet {ref}`Arrays`.\n",
    "```\n",
    "\n",
    "Her kommer det litt mer om arrays."
   ]
  },
  {
   "cell_type": "markdown",
   "metadata": {},
   "source": [
    "#### Vektorregning\n",
    "Arrays fungerer som vektorer fra matematikken.\n",
    "\n",
    "```\n",
    "import numpy as np\n",
    "\n",
    "a = np.array([1, 2])\n",
    "b = np.array([3, 4])\n",
    "\n",
    "# Sum\n",
    "print(a + b) -> [4 6]\n",
    "\n",
    "# Differanse\n",
    "print(a - b) -> [-2 2]\n",
    "\n",
    "# Produkt\n",
    "print(a * b) -> [3 8]\n",
    "\n",
    "# Skalarprodukt/prikkprodukt\n",
    "print(np.dot(a, b)) -> 11\n",
    "\n",
    "# Kryssprodukt\n",
    "print(np.cross(a, b)) -> -2\n",
    "```"
   ]
  },
  {
   "cell_type": "markdown",
   "metadata": {},
   "source": [
    "#### `arange()`-funksjonen\n",
    "\n",
    "For å lage arrays med tall i stigende rekkefølge kan vi bruke `arange()`-funksjonen."
   ]
  },
  {
   "cell_type": "code",
   "execution_count": 39,
   "metadata": {},
   "outputs": [
    {
     "name": "stdout",
     "output_type": "stream",
     "text": [
      "[0 1 2 3 4 5 6 7 8 9]\n",
      "[1 2 3 4 5 6 7 8 9]\n",
      "[0 2 4 6 8]\n"
     ]
    }
   ],
   "source": [
    "import numpy as np\n",
    "\n",
    "print(np.arange(10))        # Alle tall fra og med 0 til 10\n",
    "print(np.arange(1, 10))     # Alle tall fra og med 1 til 10\n",
    "print(np.arange(0, 10, 2))  # Alle tall fra og med 0 til 10, men med steglengde 2"
   ]
  },
  {
   "cell_type": "markdown",
   "metadata": {},
   "source": [
    "På samme måte som i `range()`-funksjonen er slutten i `arange()`-funksjonen ikke inkluderende. Det vil si at den bare går *til* sluttverdien, ikke *til og med*."
   ]
  },
  {
   "cell_type": "markdown",
   "metadata": {},
   "source": [
    "#### `concatenate()`-funksjonen\n",
    "\n",
    "Hvis vi ønsker å legge sammen arrays til nye større arrays kan vi bruke `concatenate()`-funksjonen."
   ]
  },
  {
   "cell_type": "code",
   "execution_count": 40,
   "metadata": {},
   "outputs": [
    {
     "name": "stdout",
     "output_type": "stream",
     "text": [
      "[1 2 3 1 2 3]\n"
     ]
    }
   ],
   "source": [
    "import numpy as np\n",
    "\n",
    "arr1 = np.arange(1, 4)\n",
    "arr2 = np.arange(1, 4)\n",
    "\n",
    "print(np.concatenate((arr1, arr2)))"
   ]
  },
  {
   "cell_type": "markdown",
   "metadata": {},
   "source": [
    "#### `zeros()`-funksjonen\n",
    "\n",
    "Hvis vi ønsker å fylle en array med mange nuller så kan vi bruke `zeros()`-funksjonen. Legger vi en tuppel (f.eks `(3, 3)`) inn som argument, så får vi en todimensjonell array."
   ]
  },
  {
   "cell_type": "code",
   "execution_count": 41,
   "metadata": {},
   "outputs": [
    {
     "name": "stdout",
     "output_type": "stream",
     "text": [
      "[0. 0. 0. 0. 0.]\n",
      "[[0. 0. 0.]\n",
      " [0. 0. 0.]\n",
      " [0. 0. 0.]]\n"
     ]
    }
   ],
   "source": [
    "import numpy as np\n",
    "\n",
    "print(np.zeros(5)) # Lager en array med 5 nuller\n",
    "print(np.zeros((3,3))) # Lager en 5x5 array med nuller"
   ]
  },
  {
   "cell_type": "markdown",
   "metadata": {},
   "source": [
    "Det finnes også en funksjon som heter `ones()`. Kanskje du klarer å tenke deg frem til hva den gjør?"
   ]
  },
  {
   "cell_type": "markdown",
   "metadata": {},
   "source": [
    "#### `sort()`-funksjonen\n",
    "\n",
    "For å få en sortert array (stigende) kan vi bruke `sort()`-funksjonen."
   ]
  },
  {
   "cell_type": "code",
   "execution_count": 42,
   "metadata": {},
   "outputs": [
    {
     "name": "stdout",
     "output_type": "stream",
     "text": [
      "Array: [4. 1. 9. 5. 7. 7. 2. 4. 9. 4.]\n",
      "Sortert array: [1. 2. 4. 4. 4. 5. 7. 7. 9. 9.]\n"
     ]
    }
   ],
   "source": [
    "import numpy as np\n",
    "from random import randint\n",
    "\n",
    "arr = np.zeros(10) # Lager et array med nuller.\n",
    "\n",
    "for n in range(len(arr)):\n",
    "    arr[n] = randint(1, 10) # Setter hvert element til en tilfeldig verdi.\n",
    "\n",
    "print(\"Array:\", arr) # Skriver ut arrayet.\n",
    "print(\"Sortert array:\", np.sort(arr)) # Skriver ut det sorterte arrayet."
   ]
  },
  {
   "cell_type": "markdown",
   "metadata": {},
   "source": [
    "#### `flip()`-funksjonen\n",
    "\n",
    "For å få en reversert array kan vi bruke `flip()`-funksjonen."
   ]
  },
  {
   "cell_type": "code",
   "execution_count": 43,
   "metadata": {},
   "outputs": [
    {
     "name": "stdout",
     "output_type": "stream",
     "text": [
      "Array: [1 2 3 4 5 6 7 8 9]\n",
      "Reversert array: [9 8 7 6 5 4 3 2 1]\n"
     ]
    }
   ],
   "source": [
    "import numpy as np\n",
    "\n",
    "arr = np.arange(1, 10)\n",
    "\n",
    "print(\"Array:\", arr)\n",
    "print(\"Reversert array:\", np.flip(arr))"
   ]
  },
  {
   "cell_type": "markdown",
   "metadata": {},
   "source": [
    "#### `reshape()`-funksjonen\n",
    "\n",
    "Hvis vi ønsker å gjøre endre på formen til en array kan vi bruke `reshape()`-funksjonen."
   ]
  },
  {
   "cell_type": "code",
   "execution_count": 44,
   "metadata": {},
   "outputs": [
    {
     "name": "stdout",
     "output_type": "stream",
     "text": [
      "Array: [1 2 3 4 5 6 7 8 9]\n",
      "Omformet (3, 3):\n",
      "[[1 2 3]\n",
      " [4 5 6]\n",
      " [7 8 9]]\n"
     ]
    }
   ],
   "source": [
    "import numpy as np\n",
    "\n",
    "arr = np.arange(1,10) # Lager en array med tallene fra og med en til 10.\n",
    "\n",
    "print(\"Array:\", arr)\n",
    "print(\"Omformet (3, 3):\")\n",
    "print(np.reshape(arr, (3, 3))) # Omformer arrayet til (3, 3). 3 rader og 3 kolonner."
   ]
  },
  {
   "cell_type": "markdown",
   "metadata": {},
   "source": [
    "#### Finne elementer (indeksere)\n",
    "\n",
    "Vi kan indeksere og arrays på denne måten. Dette fungerer på samme måte som for lister både i én og to dimensjoner."
   ]
  },
  {
   "cell_type": "code",
   "execution_count": 45,
   "metadata": {},
   "outputs": [
    {
     "name": "stdout",
     "output_type": "stream",
     "text": [
      "1\n"
     ]
    }
   ],
   "source": [
    "import numpy as np\n",
    "\n",
    "arr = np.array([1, 2, 3])\n",
    "\n",
    "print(arr[0]) # Skriver ut første element i listen"
   ]
  },
  {
   "cell_type": "markdown",
   "metadata": {},
   "source": [
    "Vi kan indeksere 2d-arrays på denne måten."
   ]
  },
  {
   "cell_type": "code",
   "execution_count": 46,
   "metadata": {},
   "outputs": [
    {
     "name": "stdout",
     "output_type": "stream",
     "text": [
      "[[1 2 3]\n",
      " [4 5 6]\n",
      " [7 8 9]]\n",
      "Element i posisjon [0][0]:  1\n",
      "Element i posisjon [1][1]:  5\n"
     ]
    }
   ],
   "source": [
    "import numpy as np\n",
    "\n",
    "arr = np.array([[1, 2, 3], [4, 5, 6], [7, 8, 9]])\n",
    "\n",
    "print(arr) # Hele arrayen\n",
    "print(\"Element i posisjon [0][0]: \", arr[0][0]) # Skriver elementet i første rad og første kolonne\n",
    "print(\"Element i posisjon [1][1]: \", arr[1][1]) # Skriver elementet i andre rad og andre kolonne"
   ]
  },
  {
   "cell_type": "markdown",
   "metadata": {},
   "source": [
    "#### `shape()`-funksjonen\n",
    "\n",
    "Vi ønsker noen ganger å se hvilken form en array har. Til det kan vi bruke `shape()`-funksjonen."
   ]
  },
  {
   "cell_type": "code",
   "execution_count": 47,
   "metadata": {},
   "outputs": [
    {
     "name": "stdout",
     "output_type": "stream",
     "text": [
      "(2, 3)\n"
     ]
    }
   ],
   "source": [
    "import numpy as np\n",
    "\n",
    "arr = np.array([[1, 2, 3], [4, 5, 6]])\n",
    "\n",
    "print(np.shape(arr))"
   ]
  },
  {
   "cell_type": "markdown",
   "metadata": {},
   "source": [
    "Vi ser at formen på arrayet er 2x3. To rader og tre kolonner."
   ]
  },
  {
   "cell_type": "markdown",
   "metadata": {},
   "source": [
    "#### Legge til og trekke fra elementer\n",
    "\n",
    "Vi kan legge til elementer i arrays ved å bruke `append()`-funksjonen."
   ]
  },
  {
   "cell_type": "code",
   "execution_count": 48,
   "metadata": {},
   "outputs": [
    {
     "name": "stdout",
     "output_type": "stream",
     "text": [
      "[1 2 3]\n",
      "[1 2 3 4]\n"
     ]
    }
   ],
   "source": [
    "import numpy as np\n",
    "\n",
    "arr = np.array([1, 2, 3]) # Lager et array som kalles arr\n",
    " \n",
    "print(arr)\n",
    "\n",
    "arr = np.append(arr, 4)   # Legger til elementet 4 på slutten av arrayet\n",
    "\n",
    "print(arr)"
   ]
  },
  {
   "cell_type": "markdown",
   "metadata": {},
   "source": [
    "Vi kan trekke fra elementer i arrays ved å bruke `delete()`-funksjonen."
   ]
  },
  {
   "cell_type": "code",
   "execution_count": 49,
   "metadata": {},
   "outputs": [
    {
     "name": "stdout",
     "output_type": "stream",
     "text": [
      "[1 2 3]\n",
      "[2 3]\n"
     ]
    }
   ],
   "source": [
    "import numpy as np\n",
    "\n",
    "arr = np.array([1, 2, 3]) # Lager et array som kalles arr\n",
    "\n",
    "print(arr)\n",
    "\n",
    "arr = np.delete(arr, 0)   # Fjerner elementet med indeks 0\n",
    "\n",
    "print(arr)"
   ]
  },
  {
   "cell_type": "markdown",
   "metadata": {},
   "source": [
    "Vi ser at `np.append()` og `np.delete()` fungerer annerledes enn `append()`- og `pop()`-metodene i Python. \n",
    "\n",
    "`append()`- og `pop()` legger til eller fjerner elementer i en liste *in-place*. \n",
    "\n",
    "`np.append()` og `np.delete()` returnerer en ny array. Enten med et nytt element, eller med et element fjernet."
   ]
  },
  {
   "cell_type": "markdown",
   "metadata": {},
   "source": [
    "---\n",
    "\n",
    "#### Oppgaver\n",
    "\n",
    "##### Oppgave 1\n",
    "\n",
    "I denne oppgaven skal du lage flere arrays.\n",
    "\n",
    "1. Skriv ut en array som inneholder alle oddetallene fra og med 1 til og med 19.\n",
    "2. Skriv ut en array som inneholder alle oddetallene fra og med 1 til og med 19, baklengs.\n",
    "3. Skriv ut en 2d-array med dimensjonene (5, 5) og som er fylt med nuller.\n",
    "4. Skriv ut en 2d-array med dimensjonene (5, 5) og som er fylt med enere.\n",
    "\n",
    "\n",
    "##### Oppgave 2\n",
    "\n",
    "Lag en array med lengde 9 fylt med tilfeldige tall mellom 1 og 10 (inkluderende).\n",
    "\n",
    "1. Skriv ut arrayet.\n",
    "2. Skriv ut arrayet, sortert.\n",
    "3. Skriv ut det sorterte arrayet, omformet til (3, 3).\n",
    "\n",
    "##### Oppgave 3\n",
    "\n",
    "Skriv ut gangetabellen med alle tallene fra og med `1` til og med `10` ved å lage en todimensjonell array.\n",
    "\n",
    "En mulig utskrift kan se slik ut:\n",
    "\n",
    "```\n",
    "[[  1   2   3   4   5   6   7   8   9  10]\n",
    " [  2   4   6   8  10  12  14  16  18  20]\n",
    " [  3   6   9  12  15  18  21  24  27  30]\n",
    " [  4   8  12  16  20  24  28  32  36  40]\n",
    " [  5  10  15  20  25  30  35  40  45  50]\n",
    " [  6  12  18  24  30  36  42  48  54  60]\n",
    " [  7  14  21  28  35  42  49  56  63  70]\n",
    " [  8  16  24  32  40  48  56  64  72  80]\n",
    " [  9  18  27  36  45  54  63  72  81  90]\n",
    " [ 10  20  30  40  50  60  70  80  90 100]]\n",
    "```\n",
    "\n",
    "> Hint: Det kan være lurt å starte med å lage en array som `np.zeros((10, 10)).astype(int)`. `.astype()`-metoden endrer arrayet slik at det i utgangspunktet blir fylt med heltall, ikke flyttall. Deretter må vi lage løkker for å indeksere og sette elementer i arrayet.\n",
    "\n",
    "Bonus: Modifiser programmet slik at man kan skrive inn dimensjonene for gangetabellen"
   ]
  }
 ],
 "metadata": {
  "kernelspec": {
   "display_name": "Python 3",
   "language": "python",
   "name": "python3"
  },
  "language_info": {
   "codemirror_mode": {
    "name": "ipython",
    "version": 3
   },
   "file_extension": ".py",
   "mimetype": "text/x-python",
   "name": "python",
   "nbconvert_exporter": "python",
   "pygments_lexer": "ipython3",
   "version": "3.12.4"
  },
  "orig_nbformat": 4
 },
 "nbformat": 4,
 "nbformat_minor": 2
}
