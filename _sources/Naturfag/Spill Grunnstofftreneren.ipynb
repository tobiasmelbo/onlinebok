{
 "cells": [
  {
   "cell_type": "markdown",
   "metadata": {},
   "source": [
    "### 🕹️ Spill: Grunnstofftreneren\n",
    "   \n",
    "Dette spillet trener deg opp til å bli sykt god på grunnstoffenes navn! Spill gjerne med periodesystemet foran deg 🤓\n",
    "\n",
    "<iframe frameborder=\"0\" src=\"https://tobiasmelbo.github.io/grunnstofftreneren/\" allowfullscreen=\"\" width=\"800\" height=\"620\"><a href=\"https://tobiasmelbo.github.io/grunnstofftreneren/\">Play Grunnstofftreneren on itch.io</a></iframe>"
   ]
  }
 ],
 "metadata": {
  "language_info": {
   "name": "python"
  }
 },
 "nbformat": 4,
 "nbformat_minor": 2
}
