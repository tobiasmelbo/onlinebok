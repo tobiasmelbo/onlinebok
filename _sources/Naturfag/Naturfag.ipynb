{
 "cells": [
  {
   "cell_type": "markdown",
   "metadata": {},
   "source": [
    "(Naturfag)=\n",
    "# Naturfag 🦠\n",
    " \n",
    "Dette kapitlet inneholder noen forskjellige programmeringsprosjekter ment for naturfag.\n",
    "\n",
    "```{admonition} Til læreren 🧑‍🏫\n",
    ":class: note\n",
    "Til hvert prosjekt er det en oversikt over delkapitler i denne boken som er en forutsetning for å jobbe med programmeringen i prosjektet. I tillegg starter alle sidene med en liten introduksjon av relevant fagstoff fra naturfag, men det anbefales at dere har vært igjennom fagstoffet på forhånd.\n",
    "\n",
    "Hvert prosjekt er knyttet til relevante temaer, men felles for alle er at elevene skal kunne *vurdere og lage programmer som modellerer naturfaglige fenomener*. \n",
    "```"
   ]
  }
 ],
 "metadata": {
  "language_info": {
   "name": "python"
  }
 },
 "nbformat": 4,
 "nbformat_minor": 2
}
