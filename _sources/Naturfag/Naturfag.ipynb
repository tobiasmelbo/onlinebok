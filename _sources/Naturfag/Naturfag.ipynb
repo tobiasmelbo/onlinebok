{
 "cells": [
  {
   "cell_type": "markdown",
   "metadata": {},
   "source": [
    "(Naturfag)=\n",
    "# Naturfag 🦠\n",
    " \n",
    "Her ligger det flere sider om naturfag og programmering.\n",
    "\n",
    "```{admonition} Til læreren 🧑‍🏫\n",
    ":class: note\n",
    "Hvert side er knyttet til relevante temaer for læreplanen i naturfag, men felles for alle er at elevene skal kunne *vurdere og lage programmer som modellerer naturfaglige fenomener*.\n",
    "\n",
    "Noen av programmene er ment til å bli gjennomgått og laget sammen med elevene, mens noen er ment til å bare bli lest, forstått og brukt. Det er best om du gjør en vurdering selv over hvilke programmer du vil lage med elevene, og hvilke du vil gi som de er til å lese, forstå og bruke.\n",
    "```"
   ]
  }
 ],
 "metadata": {
  "language_info": {
   "name": "python"
  }
 },
 "nbformat": 4,
 "nbformat_minor": 2
}
