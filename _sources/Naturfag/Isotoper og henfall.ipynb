{
 "cells": [
  {
   "cell_type": "markdown",
   "metadata": {
    "vscode": {
     "languageId": "plaintext"
    }
   },
   "source": [
    "(Isotoper og henfall)=\n",
    "### Isotoper og henfall\n",
    "  \n",
    "Du har sikkert hørt om grunnstoffene før, men visste du at det finnes mange forskjellige versjoner av grunnstoffene, og at noen av disse er radioaktive?\n",
    "\n",
    "Atomkjernen består av **protoner** og **nøytroner**. Antallet protoner bestemmer hvilket grunnstoff det er snakk om. Hvis et stoff har atomkjerner med $6$ protoner, så er stoffet karbon.\n",
    "\n",
    "Antallet nøytroner kan variere. Karbon med $6$ protoner og $6$ nøytroner har navnet *Karbon-12*, mens karbon med $6$ protoner og $8$ nøytroner har navnet *Karbon-14*. Disse kalles for **isotoper** av karbon.\n",
    "\n",
    "| Isotop | Nukleoner | Symbolsk | Henfall\n",
    "| :---   | ---      | ---      |  :---\n",
    "| Karbon-12 | $6$ protoner, $6$ nøytroner| $^{12}_6C$| Stabil\n",
    "| Karbon-13 | $6$ protoner, $7$ nøytroner| $^{13}_6C$| Stabil\n",
    "| Karbon-14 | $6$ protoner, $8$ nøytroner| $^{14}_6C$| $\\beta -$\n",
    "\n",
    "Noen isotoper er stabile og noen er radioaktive. Radioaktive isotoper sender ut stråling på forskjellige måter. Vi skal se på noen av disse."
   ]
  },
  {
   "cell_type": "markdown",
   "metadata": {},
   "source": [
    "#### Typer henfall\n",
    "\n",
    "Når en radioaktiv isotop sender ut stråling sier vi at den **henfaller**. Radioaktive isotoper kan henfalle på flere forskjellige måter. Vi skal se på fire forskjellige typer henfall.\n",
    "\n",
    "- $\\alpha$-henfall: En atomkjerne sender ut en heliumkjerne, som består av to protoner og to nøytroner.\n",
    "- $\\beta ^-$-henfall: En atomkjerne sender ut et elektron og et antinøytrino.\n",
    "- $\\beta ^+$-henfall: En atomkjerne sender ut et positron og et nøytrino.\n",
    "- $\\gamma$-henfall: En atomkjerne sender ut elektromagnetisk stråling med høy energi.\n",
    "\n",
    "Her er en oversikt over mange tusen forskjellige isotoper og hvordan de henfaller.\n",
    "\n",
    "```{image} ../_images/henfallstyper.png\n",
    ":alt: Oversikt over henfallstyper. Langs x-aksen er antall nøytroner. Langs y-aksen er antall protoner.\n",
    ":align: center\n",
    "```\n",
    "\n",
    "Den blå fargen betyr $\\beta ^+$-henfall, rosa betyr $\\beta ^-$-henfall og den gule betyr $\\alpha$-henfall. \n",
    "\n",
    "```{admonition} Tenk\n",
    ":class: hint\n",
    "Hva kan du si kjennetegner isotopene som henfaller med $\\beta ^+$, $\\beta ^-$ og $\\alpha$ ved å se på figuren?\n",
    "```\n",
    "\n",
    "Når en isotop henfaller med $\\alpha$, $\\beta ^-$ eller $\\beta ^+$ så endres atomkjernen, og vi får en helt annen isotop.\n",
    "\n",
    "| Henfallstype | Endring | Eksempel på hvordan kjernen henfaller\n",
    "| :---         | ---     |     :---\n",
    "| $\\alpha$     | -2 protoner og -2 nøytroner | $^{238}_{92}U \\rightarrow ^{234}_{90}Th$\n",
    "| $\\beta ^-$   | -1 nøytroner og +1 protoner | $^{14}_{6}C \\rightarrow ^{14}_{7}N$\n",
    "| $\\beta ^+$   | -1 protoner og + 1 nøytroner| $^{23}_{12}Mg \\rightarrow ^{23}_{11}Na$\n",
    "| $\\gamma$     | ingen endring i antall partikler | $^{99m}_{43}Tc \\rightarrow ^{99}_{43}Tc + energi$\n",
    "\n",
    "```{admonition} Isotoper kan henfalle på forskjellige måter\n",
    ":class: note\n",
    "Astat-219 har $93.6\\%$ sannsynlighet for å henfalle med $\\alpha$-henfall, men det er også $6.4\\%$ sannsynlighet for at den henfaller med  $\\beta ^-$. Figuren over viser den mest sannsynlige henfallstypen.\n",
    "```"
   ]
  },
  {
   "cell_type": "markdown",
   "metadata": {},
   "source": [
    "#### Henfallskjeder\n",
    "\n",
    "Ustabile isotoper henfaller og blir til et isotop av et annet stoff. Resultatet kan også være radioaktivt og henfalle igjen.\n",
    "\n",
    "Da får vi det som kalles en henfallskjede. Her er et eksempel på henfallskjeden til Radon-214.\n",
    "\n",
    "$^{214}_{86}Ra \\rightarrow ^{210}_{84}Po \\rightarrow ^{206}_{82}Pb$\n",
    "\n",
    "```{admonition} Tenk\n",
    ":class: hint\n",
    "Forsøk å se hvilke typer henfall som har skjedd ved hvert steg i henfallskjeden. Hvilke partikler har blitt sendt ut?\n",
    "```"
   ]
  },
  {
   "cell_type": "markdown",
   "metadata": {},
   "source": [
    "#### Programmering: Finne henfallstype\n",
    "\n",
    "Her er et lite program som gjør at man kan slå opp den mest sannsynlige henfallstypen for en gitt isotop.\n",
    "\n",
    "<iframe src=\"https://trinket.io/embed/python3/a7139d117f\" width=\"100%\" height=\"356\" frameborder=\"0\" marginwidth=\"0\" marginheight=\"0\" allowfullscreen></iframe>\n",
    "\n",
    "Programmet spør om en isotop og printer hvordan denne isotopen henfaller. Her er utskriften fra programmet når vi skriver inn `U-238`.\n",
    "\n",
    "```\n",
    "Isotop: U-238\n",
    "A\n",
    "```\n",
    "Vi ser at Uran-238 mest sannsynlig vil henfalle med $\\alpha$-henfall."
   ]
  },
  {
   "cell_type": "markdown",
   "metadata": {},
   "source": [
    "> Data om henfallstyper er hentet fra **The NUBASE 2020 evaluation of nuclear physics properties** - F.G. Kondev, M. Wang, W.J. Huang, S. Naimi, and G. Audi, Chin. Phys. C45, 030001 (2021)"
   ]
  },
  {
   "cell_type": "markdown",
   "metadata": {},
   "source": [
    "---\n",
    "#### Oppgaver\n",
    "\n",
    "##### Oppgave 1\n",
    "> Bruk programmet i eksempelet over til å finne hvordan stoffene henfaller\n",
    "\n",
    "Hvordan henfaller disse stoffene? Finn hvilke isotoper de henfaller til.\n",
    "\n",
    "1. Po-211\n",
    "2. K-40\n",
    "3. Ra-226\n",
    "4. F-18\n",
    "\n",
    "Blir noen av stoffene til stabile isotoper? (etter ett henfall)\n",
    "\n",
    "##### Oppgave 2\n",
    "\n",
    "Undersøk denne henfallskjeden.\n",
    "\n",
    "$^{213}_{84}Po \\rightarrow ^{209}_{82}Pb \\rightarrow ^{209}_{83}Bi \\rightarrow ^{205}_{81}Tl$\n",
    "\n",
    "Hvilke henfall har skjedd? Hvis vi antar at en isotop har henfalt gjennom alle stegene, hvilke partikler har totalt blitt sendt ut som ioniserende stråling?\n",
    "\n",
    "##### Oppgave 3\n",
    "> Bruk programmet i eksempelet over til å finne hvordan stoffene henfaller\n",
    "\n",
    "Finn hele henfallskjeden til Uran-238.\n",
    "\n",
    "##### Oppgave 4 (utfordring)\n",
    "\n",
    "<iframe src=\"https://trinket.io/embed/python3/5c51cd5818\" width=\"100%\" height=\"356\" frameborder=\"0\" marginwidth=\"0\" marginheight=\"0\" allowfullscreen></iframe>\n",
    "\n",
    "Modifiser dette programmet til å kunne skrive ut hele henfallskjeden for en radioaktiv isotop.\n",
    "\n",
    "- Ordboken `henfallstype` lar deg finne henfallstyper. Setter du inn `\"U-238\"`, får du ut `\"A\"`.\n",
    "\n",
    "- Ordboken `atomnummer` lar deg finne atomnummer (antall protoner) fra det kjemiske symbolet. Setter du inn `\"Po\"` så får du ut `\"84\"`."
   ]
  }
 ],
 "metadata": {
  "kernelspec": {
   "display_name": "Python 3",
   "language": "python",
   "name": "python3"
  },
  "language_info": {
   "codemirror_mode": {
    "name": "ipython",
    "version": 3
   },
   "file_extension": ".py",
   "mimetype": "text/x-python",
   "name": "python",
   "nbconvert_exporter": "python",
   "pygments_lexer": "ipython3",
   "version": "3.10.6"
  }
 },
 "nbformat": 4,
 "nbformat_minor": 2
}
