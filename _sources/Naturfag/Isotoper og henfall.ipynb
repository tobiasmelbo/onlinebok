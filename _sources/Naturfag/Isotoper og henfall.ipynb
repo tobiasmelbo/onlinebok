{
 "cells": [
  {
   "cell_type": "markdown",
   "metadata": {
    "vscode": {
     "languageId": "plaintext"
    }
   },
   "source": [
    "(Isotoper og henfall)=\n",
    "### Isotoper og henfall\n",
    "  \n",
    "Du har sikkert hørt om grunnstoffene før, men visste du at det finnes mange forskjellige versjoner av grunnstoffene, og at noen av disse er radioaktive?\n",
    "\n",
    "Atomkjernen består av **protoner** og **nøytroner**. Antallet protoner bestemmer hvilket grunnstoff det er snakk om. Hvis et stoff har atomkjerner med $6$ protoner, så er stoffet karbon.\n",
    "\n",
    "Antallet nøytroner kan variere. Karbon med $6$ protoner og $6$ nøytroner har navnet *Karbon-12*, mens karbon med $6$ protoner og $8$ nøytroner har navnet *Karbon-14*. Disse kalles for **isotoper** av karbon.\n",
    "\n",
    "| Isotop | Nukleoner | Symbolsk | Henfall\n",
    "| :---   | ---      | ---      |  :---\n",
    "| Karbon-12 | $6$ protoner, $6$ nøytroner| $^{12}_6C$| Stabil\n",
    "| Karbon-13 | $6$ protoner, $7$ nøytroner| $^{13}_6C$| Stabil\n",
    "| Karbon-14 | $6$ protoner, $8$ nøytroner| $^{14}_6C$| $\\beta -$\n",
    "\n",
    "Noen isotoper er stabile og noen er radioaktive. Radioaktive isotoper sender ut stråling på forskjellige måter. Vi skal se på noen av disse."
   ]
  },
  {
   "cell_type": "markdown",
   "metadata": {},
   "source": [
    "#### Typer henfall\n",
    "\n",
    "Når en radioaktiv isotop sender ut stråling sier vi at den **henfaller**. Radioaktive isotoper kan henfalle på flere forskjellige måter. Vi skal se på fire forskjellige typer henfall.\n",
    "\n",
    "- $\\alpha$-henfall: En atomkjerne sender ut en heliumkjerne, som består av to protoner og to nøytroner.\n",
    "- $\\beta ^-$-henfall: En atomkjerne sender ut et elektron og et antinøytrino.\n",
    "- $\\beta ^+$-henfall: En atomkjerne sender ut et positron og et nøytrino.\n",
    "- $\\gamma$-henfall: En atomkjerne sender ut elektromagnetisk stråling med høy energi.\n",
    "\n",
    "Her er en oversikt over mange tusen forskjellige isotoper og hvordan de henfaller.\n",
    "\n",
    "```{image} ../_images/henfallstyper.png\n",
    ":alt: Oversikt over henfallstyper. Langs x-aksen er antall nøytroner. Langs y-aksen er antall protoner.\n",
    ":align: center\n",
    "```\n",
    "\n",
    "Den blå fargen betyr $\\beta ^+$-henfall, rosa betyr $\\beta ^-$-henfall og den gule betyr $\\alpha$-henfall. \n",
    "\n",
    "```{admonition} Tenk\n",
    ":class: hint\n",
    "Hva kan du si kjennetegner isotopene som henfaller med $\\beta ^+$, $\\beta ^-$ og $\\alpha$ ved å se på figuren?\n",
    "```\n",
    "\n",
    "Når en isotop henfaller med $\\alpha$, $\\beta ^-$ eller $\\beta ^+$ så endres atomkjernen, og vi får en helt annen isotop.\n",
    "\n",
    "| Henfallstype | Endring | Eksempel på hvordan kjernen henfaller\n",
    "| :---         | ---     |     :---\n",
    "| $\\alpha$     | -2 protoner og -2 nøytroner | $^{238}_{92}U \\rightarrow ^{234}_{90}Th$\n",
    "| $\\beta ^-$   | -1 nøytroner og +1 protoner | $^{14}_{6}C \\rightarrow ^{14}_{7}N$\n",
    "| $\\beta ^+$   | -1 protoner og + 1 nøytroner| $^{23}_{12}Mg \\rightarrow ^{23}_{11}Na$\n",
    "| $\\gamma$     | ingen endring i antall partikler | $^{99m}_{43}Tc \\rightarrow ^{99}_{43}Tc$\n",
    "\n",
    "Merk at den siste kolonnen ikke har fullstendige reaksjonslikninger siden det ikke står hvilke partikler som sendes ut.\n",
    "\n",
    "```{admonition} Isotoper kan henfalle på forskjellige måter\n",
    ":class: note\n",
    "Astat-219 har $93.6\\%$ sannsynlighet for å henfalle med $\\alpha$-henfall, men det er også $6.4\\%$ sannsynlighet for at den henfaller med  $\\beta ^-$. Figuren over viser den mest sannsynlige henfallstypen.\n",
    "```"
   ]
  },
  {
   "cell_type": "markdown",
   "metadata": {},
   "source": [
    "#### Henfallskjeder\n",
    "\n",
    "Ustabile isotoper henfaller og blir til et isotop av et annet stoff. Resultatet kan også være radioaktivt og henfalle igjen.\n",
    "\n",
    "Da får vi det som kalles en henfallskjede. Her er et eksempel på henfallskjeden til Radon-214.\n",
    "\n",
    "$$^{214}_{86}Rn \\rightarrow ^{210}_{84}Po \\rightarrow ^{206}_{82}Pb$$\n",
    "\n",
    "```{admonition} Tenk\n",
    ":class: hint\n",
    "Forsøk å se hvilke typer henfall som har skjedd ved hvert steg i henfallskjeden. Hvilke partikler har blitt sendt ut?\n",
    "```"
   ]
  },
  {
   "cell_type": "markdown",
   "metadata": {},
   "source": [
    "#### Finne henfallstype\n",
    "\n",
    "Her er et lite program som gjør at man kan slå opp den mest sannsynlige henfallstypen for en gitt isotop.\n",
    "\n",
    "<iframe src=\"https://trinket.io/embed/python3/a7139d117f\" width=\"100%\" height=\"356\" frameborder=\"0\" marginwidth=\"0\" marginheight=\"0\" allowfullscreen></iframe>\n",
    "\n",
    "Programmet spør om en isotop og printer hvordan denne isotopen henfaller. Her er utskriften fra programmet når vi skriver inn `U-238`.\n",
    "\n",
    "```\n",
    "Isotop: U-238\n",
    "A\n",
    "```\n",
    "Vi ser at Uran-238 mest sannsynlig vil henfalle med $\\alpha$-henfall."
   ]
  },
  {
   "cell_type": "markdown",
   "metadata": {},
   "source": [
    "> Data om henfallstyper er hentet fra **The NUBASE 2020 evaluation of nuclear physics properties** - F.G. Kondev, M. Wang, W.J. Huang, S. Naimi, and G. Audi, Chin. Phys. C45, 030001 (2021)"
   ]
  },
  {
   "cell_type": "markdown",
   "metadata": {},
   "source": [
    "---\n",
    "#### Oppgaver\n",
    "\n",
    "```{admonition} Oppgave 1\n",
    ":class: task\n",
    "\n",
    "> Bruk programmet i eksempelet over til å finne hvordan stoffene henfaller\n",
    "\n",
    "Skriv ut og fyll ut tabellen: {download}`Tabelloppgave - Henfall.pdf`\n",
    "```\n",
    "\n",
    "```{admonition} Oppgave 2\n",
    ":class: task\n",
    "\n",
    "Undersøk denne henfallskjeden.\n",
    "\n",
    "$^{213}_{84}Po \\rightarrow ^{209}_{82}Pb \\rightarrow ^{209}_{83}Bi \\rightarrow ^{205}_{81}Tl$\n",
    "\n",
    "Hvilke henfall har skjedd? Hvis vi antar at en isotop har henfalt gjennom alle stegene, hvilke partikler har totalt blitt sendt ut som ioniserende stråling?\n",
    "```\n",
    "\n",
    "```{admonition} Oppgave 3\n",
    ":class: task\n",
    "\n",
    "> Bruk programmet i eksempelet over til å finne hvordan stoffene henfaller\n",
    "\n",
    "Finn hele henfallskjeden til Uran-238 for hånd.\n",
    "```\n",
    "\n",
    "`````{admonition} Oppgave 4 (utfordring)\n",
    ":class: task\n",
    "\n",
    "Modifiser Python-programmet over til å skrive ut hele henfallskjeden for et stoff som brukeren skriver inn.\n",
    "\n",
    "````{admonition} Et lite tips.\n",
    ":class: tip\n",
    "\n",
    "For denne oppgaven kan du trenge følgende ordbøker.\n",
    "\n",
    "```\n",
    "atomnummer = {\"H\":1,\"He\":2,\"Li\":3,\"Be\":4,\"B\":5,\"C\":6,\"N\":7,\"O\":8,\"F\":9,\"Ne\":10,\"Na\":11,\"Mg\":12,\"Al\":13,\"Si\":14,\"P\":15,\"S\":16,\"Cl\":17,\"Ar\":18,\"K\":19,\"Ca\":20,\"Sc\":21,\"Ti\":22,\"V\":23,\"Cr\":24,\"Mn\":25,\"Fe\":26,\"Co\":27,\"Ni\":28,\"Cu\":29,\"Zn\":30,\"Ga\":31,\"Ge\":32,\"As\":33,\"Se\":34,\"Br\":35,\"Kr\":36,\"Rb\":37,\"Sr\":38,\"Y\":39,\"Zr\":40,\"Nb\":41,\"Mo\":42,\"Tc\":43,\"Ru\":44,\"Rh\":45,\"Pd\":46,\"Ag\":47,\"Cd\":48,\"In\":49,\"Sn\":50,\"Sb\":51,\"Te\":52,\"I\":53,\"Xe\":54,\"Cs\":55,\"Ba\":56,\"La\":57,\"Ce\":58,\"Pr\":59,\"Nd\":60,\"Pm\":61,\"Sm\":62,\"Eu\":63,\"Gd\":64,\"Tb\":65,\"Dy\":66,\"Ho\":67,\"Er\":68,\"Tm\":69,\"Yb\":70,\"Lu\":71,\"Hf\":72,\"Ta\":73,\"W\":74,\"Re\":75,\"Os\":76,\"Ir\":77,\"Pt\":78,\"Au\":79,\"Hg\":80,\"Tl\":81,\"Pb\":82,\"Bi\":83,\"Po\":84,\"At\":85,\"Rn\":86,\"Fr\":87,\"Ra\":88,\"Ac\":89,\"Th\":90,\"Pa\":91,\"U\":92,\"Np\":93,\"Pu\":94,\"Am\":95,\"Cm\":96,\"Bk\":97,\"Cf\":98,\"Es\":99,\"Fm\":100,\"Md\":101,\"No\":102,\"Lr\":103,\"Rf\":104,\"Db\":105,\"Sg\":106,\"Bh\":107,\"Hs\":108,\"Mt\":109,\"Ds\":110,\"Rg\":111,\"Cn\":112,\"Nh\":113,\"Fl\":114,\"Mc\":115,\"Lv\":116,\"Ts\":117,\"Og\":118}\n",
    "kjemisk_symbol = {1: 'H', 2: 'He', 3: 'Li', 4: 'Be', 5: 'B', 6: 'C', 7: 'N', 8: 'O', 9: 'F', 10: 'Ne', 11: 'Na', 12: 'Mg', 13: 'Al', 14: 'Si', 15: 'P', 16: 'S', 17: 'Cl', 18: 'Ar', 19: 'K', 20: 'Ca', 21: 'Sc', 22: 'Ti', 23: 'V', 24: 'Cr', 25: 'Mn', 26: 'Fe', 27: 'Co', 28: 'Ni', 29: 'Cu', 30: 'Zn', 31: 'Ga', 32: 'Ge', 33: 'As', 34: 'Se', 35: 'Br', 36: 'Kr', 37: 'Rb', 38: 'Sr', 39: 'Y', 40: 'Zr', 41: 'Nb', 42: 'Mo', 43: 'Tc', 44: 'Ru', 45: 'Rh', 46: 'Pd', 47: 'Ag', 48: 'Cd', 49: 'In', 50: 'Sn', 51: 'Sb', 52: 'Te', 53: 'I', 54: 'Xe', 55: 'Cs', 56: 'Ba', 57: 'La', 58: 'Ce', 59: 'Pr', 60: 'Nd', 61: 'Pm', 62: 'Sm', 63: 'Eu', 64: 'Gd', 65: 'Tb', 66: 'Dy', 67: 'Ho', 68: 'Er', 69: 'Tm', 70: 'Yb', 71: 'Lu', 72: 'Hf', 73: 'Ta', 74: 'W', 75: 'Re', 76: 'Os', 77: 'Ir', 78: 'Pt', 79: 'Au', 80: 'Hg', 81: 'Tl', 82: 'Pb', 83: 'Bi', 84: 'Po', 85: 'At', 86: 'Rn', 87: 'Fr', 88: 'Ra', 89: 'Ac', 90: 'Th', 91: 'Pa', 92: 'U', 93: 'Np', 94: 'Pu', 95: 'Am', 96: 'Cm', 97: 'Bk', 98: 'Cf', 99: 'Es', 100: 'Fm', 101: 'Md', 102: 'No', 103: 'Lr', 104: 'Rf', 105: 'Db', 106: 'Sg', 107: 'Bh', 108: 'Hs', 109: 'Mt', 110: 'Ds', 111: 'Rg', 112: 'Cn', 113: 'Nh', 114: 'Fl', 115: 'Mc', 116: 'Lv', 117: 'Ts', 118: 'Og'}\n",
    "```\n",
    "\n",
    "For å finne atomnummeret fra det kjemiske symbolet kan du bruke f.eks `atomnummer[\"Sc\"] -> 21` og for å finne det kjemiske symbolet fra et atomnummer kan du f.eks bruke `kjemisk_symbol[53] -> \"I\"`.\n",
    "\n",
    "Du kan også få bruk for splitting av brukerens input. Se {ref}`string.split` eller generelt på siden {ref}`Strings`.\n",
    "````\n",
    "`````"
   ]
  }
 ],
 "metadata": {
  "kernelspec": {
   "display_name": "Python 3",
   "language": "python",
   "name": "python3"
  },
  "language_info": {
   "codemirror_mode": {
    "name": "ipython",
    "version": 3
   },
   "file_extension": ".py",
   "mimetype": "text/x-python",
   "name": "python",
   "nbconvert_exporter": "python",
   "pygments_lexer": "ipython3",
   "version": "3.10.6"
  }
 },
 "nbformat": 4,
 "nbformat_minor": 2
}
