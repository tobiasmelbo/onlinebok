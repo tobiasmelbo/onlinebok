{
 "cells": [
  {
   "cell_type": "markdown",
   "metadata": {},
   "source": [
    "### Halveringstid\n",
    " \n",
    "Halveringstid er tiden det tar før et stoff har blitt redusert til halvparten av det opprinnelige.\n",
    " \n",
    "La oss si at vi starter med $100 000$ atomkjerner av Karbon-14. Halveringstiden til Karbon-14 er omtrent 5730 år. Det vil si at vi kan lage følgende tabell\n",
    "\n",
    "| Tid |  Antall atomer | Prosent | Halvveringer\n",
    "| :---   | ---      | --- |:---     \n",
    "| 0 år     | $100 000$| $100\\%$ | 0 halveringer\n",
    "| 5730 år  | $50 000$ | $50\\%$ | 1 halvering\n",
    "| 11460 år | $25 000$ | $25\\%$ | 2 halveringer\n",
    "| 17190 år | $12 500$ | $12.5\\%$ | 3 halveringer\n",
    "\n",
    "Forholdet mellom mengden Karbon-12 og Karbon-14 er relativt konstant gjennom livet til levende organismer, fordi de hele tiden tilfører nytt Karbon-12 og Karbon-14. Når en levende organisme dør, så vil mengden Karbon-14 avta på grunn av radioaktivitet, mens mengden Karbon-12 holde seg konstant. Dette kan vi bruke til å vite hvor gamle levninger av levende organismer er.\n",
    "\n",
    "Halvveringstiden til andre radioaktive isotoper brukes for eksempel også til å regne ut jordens alder.\n",
    "\n",
    "#### Formler og kalkulatorer\n",
    "\n",
    "Denne formelen lar oss regne ut mengden av et radioaktivt stoff ved tiden $t$. $N_0$ er mengden vi starter med og $t_{1/2}$ er halveringstiden.\n",
    "\n",
    "$$\n",
    "N(t) = N_0\\cdot (0.5)^{\\frac{t}{t_{1/2}}}\n",
    "$$"
   ]
  },
  {
   "cell_type": "markdown",
   "metadata": {},
   "source": [
    "````{admonition} Eksempel: Hvor mange atomkjerner Karbon-14 har vi igjen etter $2500$ år?\n",
    "class: tip\n",
    "Halveringstiden til Karbon-14 er $5730$ år. Hvis vi starter med $100000$ atomkjerner, og ser på hvor mange vi har etter $2500$ år kan vi regne det ut ved å bruke formelen i Python.\n",
    "```\n",
    "# Variabler\n",
    "N_0 = 100000\n",
    "t_halv = 5730\n",
    "t = 2000\n",
    "\n",
    "# Formel\n",
    "N = N_0*0.5**(t/t_halv)\n",
    "\n",
    "print(N)\n",
    "```\n",
    "Dette enkle programmet sier oss at det er igjen omtrent $73903$ atomkjerner etter $2500$ år. \n",
    "````"
   ]
  },
  {
   "cell_type": "markdown",
   "metadata": {},
   "source": [
    "#### Simulasjon\n",
    "\n"
   ]
  }
 ],
 "metadata": {
  "kernelspec": {
   "display_name": "Python 3",
   "language": "python",
   "name": "python3"
  },
  "language_info": {
   "codemirror_mode": {
    "name": "ipython",
    "version": 3
   },
   "file_extension": ".py",
   "mimetype": "text/x-python",
   "name": "python",
   "nbconvert_exporter": "python",
   "pygments_lexer": "ipython3",
   "version": "3.10.6"
  }
 },
 "nbformat": 4,
 "nbformat_minor": 2
}
